{
 "cells": [
  {
   "cell_type": "code",
   "execution_count": 8,
   "metadata": {},
   "outputs": [
    {
     "name": "stdout",
     "output_type": "stream",
     "text": [
      "The autoreload extension is already loaded. To reload it, use:\n",
      "  %reload_ext autoreload\n",
      "Found 685 projects with a travis build status date\n"
     ]
    }
   ],
   "source": [
    "%load_ext autoreload\n",
    "%autoreload 2\n",
    "\n",
    "from pymongo import MongoClient\n",
    "from bson.objectid import ObjectId\n",
    "\n",
    "import analysis_utilities\n",
    "\n",
    "mongo_client = MongoClient()\n",
    "\n",
    "database = mongo_client[\"graduation\"]\n",
    "\n",
    "pull_requests_collection = database[\"pull_requests\"]\n",
    "\n",
    "projects_collection = database[\"projects\"]\n",
    "\n",
    "commits_collection = database[\"commits\"]\n",
    "\n",
    "projects = list(projects_collection.find({'succeeded' : True, 'travis_is_oldest_ci': True}))\n",
    "\n",
    "print(\"Found {} projects with a travis build status date\".format(len(projects)))"
   ]
  },
  {
   "cell_type": "code",
   "execution_count": 13,
   "metadata": {},
   "outputs": [
    {
     "name": "stdout",
     "output_type": "stream",
     "text": [
      "We can analyze a total of 1000516 after PRs, and 277736 PRs have no discussion\n"
     ]
    }
   ],
   "source": [
    "prs_after_without_discussion = []\n",
    "total = 0\n",
    "\n",
    "for project in projects:\n",
    "    pull_requests = list(pull_requests_collection.find({\n",
    "        'project_name': project[\"full_name\"].split(\"/\")[1],\n",
    "        'project_owner': project[\"full_name\"].split(\"/\")[0],\n",
    "    }))\n",
    "    \n",
    "    prs_after = analysis_utilities.split_prs_on_build_date(project, pull_requests, field_name= \"status_travis_date\", days_delta = 0)[1]\n",
    "    \n",
    "    total += len(prs_after)\n",
    "    \n",
    "    prs_after_without_discussion.extend([pr for pr in prs_after if len(pr[\"review_comments\"]) == 0 and len(pr[\"raw_comments\"]) == 0])\n",
    "    \n",
    "print(\"We can analyze a total of {} after PRs, and {} PRs have no discussion\".format(total, len(prs_after_without_discussion)))\n",
    "    \n",
    "    "
   ]
  },
  {
   "cell_type": "code",
   "execution_count": 14,
   "metadata": {},
   "outputs": [
    {
     "name": "stdout",
     "output_type": "stream",
     "text": [
      "There is a total of 277736 PRs without discussion, 34414 PRs have post create updates\n"
     ]
    }
   ],
   "source": [
    "prs_after_with_commits = []\n",
    "\n",
    "for pr in prs_after_without_discussion:\n",
    "    full_commits = list([commits_collection.find_one({'sha': commit_hash}) for commit_hash in pr[\"commits\"]])\n",
    "    \n",
    "    if len([commit for commit in full_commits if \"date\" in commit and commit[\"date\"] > pr[\"created_at\"]]) > 0:\n",
    "        prs_after_with_commits.append(pr)\n",
    "        \n",
    "print(\"There is a total of {} PRs without discussion, {} PRs have post create updates\".format(len(prs_after_without_discussion), len(prs_after_with_commits)))\n",
    "    "
   ]
  },
  {
   "cell_type": "code",
   "execution_count": 16,
   "metadata": {},
   "outputs": [
    {
     "name": "stdout",
     "output_type": "stream",
     "text": [
      "https://github.com/2600hz/kazoo/pull/3430\n",
      "https://github.com/diaspora/diaspora/pull/5514\n",
      "https://github.com/psychopy/psychopy/pull/1413\n",
      "https://github.com/sensu/sensu/pull/475\n",
      "https://github.com/Dolibarr/dolibarr/pull/9186\n",
      "https://github.com/openscholar/openscholar/pull/10153\n",
      "https://github.com/arangodb/arangodb/pull/6523\n",
      "https://github.com/puma/puma/pull/1054\n",
      "https://github.com/translate/pootle/pull/122\n",
      "https://github.com/DynamoDS/Dynamo/pull/6149\n"
     ]
    }
   ],
   "source": [
    "import random\n",
    "\n",
    "for pr in random.sample(prs_after_with_commits, 10):\n",
    "    print(pr[\"html_url\"])"
   ]
  },
  {
   "cell_type": "code",
   "execution_count": 17,
   "metadata": {},
   "outputs": [
    {
     "name": "stdout",
     "output_type": "stream",
     "text": [
      "https://github.com/frappe/frappe/pull/4463\n",
      "https://github.com/livecode/livecode/pull/1973\n",
      "https://github.com/ets-berkeley-edu/calcentral/pull/672\n",
      "https://github.com/musescore/MuseScore/pull/3063\n",
      "https://github.com/2600hz/kazoo/pull/4737\n",
      "https://github.com/caolan/async/pull/803\n",
      "https://github.com/bem/bem-components/pull/1980\n",
      "https://github.com/numpy/numpy/pull/3505\n",
      "https://github.com/mozilla/shumway/pull/1579\n",
      "https://github.com/Leaflet/Leaflet/pull/5506\n"
     ]
    }
   ],
   "source": [
    "for pr in random.sample(prs_after_with_commits, 10):\n",
    "    print(pr[\"html_url\"])"
   ]
  },
  {
   "cell_type": "code",
   "execution_count": 18,
   "metadata": {},
   "outputs": [
    {
     "name": "stdout",
     "output_type": "stream",
     "text": [
      "https://github.com/php/php-src/pull/1936\n",
      "https://github.com/frappe/frappe/pull/4654\n",
      "https://github.com/ros/rosdistro/pull/15421\n",
      "https://github.com/forcedotcom/SalesforceMobileSDK-Android/pull/1414\n",
      "https://github.com/wet-boew/wet-boew/pull/7511\n",
      "https://github.com/joomla/joomla-cms/pull/1984\n",
      "https://github.com/JuliaLang/julia/pull/12994\n",
      "https://github.com/zeromq/libzmq/pull/2796\n",
      "https://github.com/avalanche123/Imagine/pull/244\n",
      "https://github.com/wikimedia/wikipedia-ios/pull/2274\n"
     ]
    }
   ],
   "source": [
    "for pr in random.sample(prs_after_with_commits, 10):\n",
    "    print(pr[\"html_url\"])"
   ]
  },
  {
   "cell_type": "code",
   "execution_count": 23,
   "metadata": {},
   "outputs": [
    {
     "name": "stdout",
     "output_type": "stream",
     "text": [
      "https://github.com/SupSuper/OpenXcom/pull/1107\n",
      "https://github.com/Azure/azure-sdk-for-node/pull/3202\n",
      "https://github.com/ariatemplates/ariatemplates/pull/1334\n",
      "https://github.com/owncloud/android/pull/1270\n",
      "https://github.com/geoserver/geoserver/pull/519\n",
      "https://github.com/jquery/jquery-ui/pull/1798\n",
      "https://github.com/bokeh/bokeh/pull/4529\n",
      "https://github.com/frappe/erpnext/pull/12513\n",
      "https://github.com/swagger-api/swagger-ui/pull/3829\n",
      "https://github.com/EFForg/https-everywhere/pull/2734\n"
     ]
    }
   ],
   "source": [
    "for pr in random.sample(prs_after_with_commits, 10):\n",
    "    print(pr[\"html_url\"])"
   ]
  },
  {
   "cell_type": "code",
   "execution_count": 38,
   "metadata": {},
   "outputs": [],
   "source": [
    "failed_builds = 0\n",
    "passed_builds = 0\n",
    "errored_builds = 0\n",
    "\n",
    "\n",
    "for pr in prs_after_with_commits:\n",
    "    full_commits = list([commits_collection.find_one({'sha': commit_hash}) for commit_hash in pr[\"commits\"]])\n",
    "    \n",
    "    for commit in full_commits:\n",
    "        for status in commit[\"statuses\"]:\n",
    "            if \"target_url\" in status and status[\"target_url\"] is not None and status[\"target_url\"].startswith(\"https://travis-ci.org\"):\n",
    "                if status[\"state\"] == \"success\":\n",
    "                    passed_builds += 1\n",
    "                elif status[\"state\"] == \"failure\":\n",
    "                    failed_builds += 1\n",
    "                elif status[\"state\"] == \"error\":\n",
    "                    errored_builds += 1"
   ]
  },
  {
   "cell_type": "code",
   "execution_count": 54,
   "metadata": {},
   "outputs": [
    {
     "data": {
      "image/png": "[encoded data removed]",
      "text/plain": [
       "<Figure size 288x576 with 1 Axes>"
      ]
     },
     "metadata": {},
     "output_type": "display_data"
    }
   ],
   "source": [
    "\n",
    "                    \n",
    "import matplotlib.pyplot as plt \n",
    "\n",
    "fig = plt.figure(1, figsize=(4, 8))\n",
    "\n",
    "# Create the boxplot\n",
    "bp = plt.bar([0, 1, 2], [failed_builds, errored_builds, passed_builds])\n",
    "\n",
    "plt.xticks([0, 1, 2], ['failed', 'errored', 'passed'])\n",
    "\n",
    "plt.title(\"Distribution of build outcomes for \\nno discussion PRs\")\n",
    "\n",
    "plt.show()"
   ]
  },
  {
   "cell_type": "code",
   "execution_count": 59,
   "metadata": {},
   "outputs": [
    {
     "data": {
      "image/png": "[encoded data removed]",
      "text/plain": [
       "<Figure size 288x576 with 1 Axes>"
      ]
     },
     "metadata": {},
     "output_type": "display_data"
    }
   ],
   "source": [
    "fig = plt.figure(1, figsize=(4, 8))\n",
    "\n",
    "num_outsiders = len([pr for pr in prs_after_with_commits if pr[\"from_outsider\"]])\n",
    "\n",
    "# Create the boxplot\n",
    "bp = plt.bar([0, 1], [num_outsiders, len(prs_after_with_commits) - num_outsiders])\n",
    "\n",
    "plt.xticks([0, 1], ['Outsiders', 'Insiders'])\n",
    "\n",
    "plt.title(\"Distribution of insiders vs outsiders for \\nno discussion PRs\")\n",
    "\n",
    "plt.show()"
   ]
  },
  {
   "cell_type": "code",
   "execution_count": 42,
   "metadata": {},
   "outputs": [],
   "source": [
    "per_project_builds = {}\n",
    "\n",
    "for pr in prs_after_with_commits:\n",
    "    full_commits = list([commits_collection.find_one({'sha': commit_hash}) for commit_hash in pr[\"commits\"]])\n",
    "    \n",
    "    name = pr[\"project_owner\"] + \"/\" + pr[\"project_name\"]\n",
    "    \n",
    "    if name not in per_project_builds:\n",
    "        per_project_builds[name] = {\n",
    "            'passed' : 0,\n",
    "            'failed': 0,\n",
    "            'errored': 0,\n",
    "            'prs': 0\n",
    "        }\n",
    "        \n",
    "    res = per_project_builds[name]\n",
    "    \n",
    "    res[\"prs\"] += 1\n",
    "    \n",
    "    for commit in full_commits:\n",
    "        for status in commit[\"statuses\"]:\n",
    "            if \"target_url\" in status and status[\"target_url\"] is not None and status[\"target_url\"].startswith(\"https://travis-ci.org\"):\n",
    "                if status[\"state\"] == \"success\":\n",
    "                    res['passed'] += 1\n",
    "                elif status[\"state\"] == \"failure\":\n",
    "                    res['failed'] += 1\n",
    "                elif status[\"state\"] == \"error\":\n",
    "                    res['errored'] += 1"
   ]
  },
  {
   "cell_type": "code",
   "execution_count": 53,
   "metadata": {},
   "outputs": [
    {
     "name": "stdout",
     "output_type": "stream",
     "text": [
      "660 projects with no discussion, 301 projects with enough PRs\n"
     ]
    },
    {
     "data": {
      "image/png": "[encoded data removed]",
      "text/plain": [
       "<Figure size 432x288 with 1 Axes>"
      ]
     },
     "metadata": {},
     "output_type": "display_data"
    }
   ],
   "source": [
    "passed_builds_percentages = [item[\"passed\"] / (item[\"passed\"] + item[\"failed\"] + item[\"errored\"]) for item in per_project_builds.values() if item[\"prs\"] > 20 and item[\"passed\"] > 0]\n",
    "\n",
    "print(\"{} projects with no discussion, {} projects with enough PRs\".format(len(per_project_builds.values()), len(passed_builds_percentages)))\n",
    "\n",
    "plt.figure()\n",
    "plt.boxplot(passed_builds_percentages)\n",
    "\n",
    "plt.title(\"Percentage of passed builds per project for no disc. PRs\")\n",
    "\n",
    "plt.show()\n"
   ]
  },
  {
   "cell_type": "code",
   "execution_count": 56,
   "metadata": {},
   "outputs": [],
   "source": [
    "per_project_builds_merged = {}\n",
    "\n",
    "for pr in prs_after_with_commits:\n",
    "    \n",
    "    if not pr[\"merged\"]:\n",
    "        continue\n",
    "    \n",
    "    full_commits = list([commits_collection.find_one({'sha': commit_hash}) for commit_hash in pr[\"commits\"]])\n",
    "    \n",
    "    name = pr[\"project_owner\"] + \"/\" + pr[\"project_name\"]\n",
    "    \n",
    "    if name not in per_project_builds_merged:\n",
    "        per_project_builds_merged[name] = {\n",
    "            'passed' : 0,\n",
    "            'failed': 0,\n",
    "            'errored': 0,\n",
    "            'prs': 0\n",
    "        }\n",
    "        \n",
    "    res = per_project_builds_merged[name]\n",
    "    \n",
    "    res[\"prs\"] += 1\n",
    "    \n",
    "    for commit in full_commits:\n",
    "        for status in commit[\"statuses\"]:\n",
    "            if \"target_url\" in status and status[\"target_url\"] is not None and status[\"target_url\"].startswith(\"https://travis-ci.org\"):\n",
    "                if status[\"state\"] == \"success\":\n",
    "                    res['passed'] += 1\n",
    "                elif status[\"state\"] == \"failure\":\n",
    "                    res['failed'] += 1\n",
    "                elif status[\"state\"] == \"error\":\n",
    "                    res['errored'] += 1"
   ]
  },
  {
   "cell_type": "code",
   "execution_count": 58,
   "metadata": {},
   "outputs": [
    {
     "name": "stdout",
     "output_type": "stream",
     "text": [
      "638 projects with no discussion, 261 projects with enough PRs\n"
     ]
    },
    {
     "data": {
      "image/png": "[encoded data removed]",
      "text/plain": [
       "<Figure size 432x288 with 1 Axes>"
      ]
     },
     "metadata": {},
     "output_type": "display_data"
    }
   ],
   "source": [
    "passed_builds_percentages = [item[\"passed\"] / (item[\"passed\"] + item[\"failed\"] + item[\"errored\"]) for item in per_project_builds_merged.values() if item[\"prs\"] > 20 and item[\"passed\"] > 0]\n",
    "\n",
    "print(\"{} projects with no discussion, {} projects with enough PRs\".format(len(per_project_builds_merged.values()), len(passed_builds_percentages)))\n",
    "\n",
    "plt.figure()\n",
    "plt.boxplot(passed_builds_percentages)\n",
    "\n",
    "plt.title(\"Percentage of passed builds per project for merged no disc. PRs\")\n",
    "\n",
    "plt.show()\n"
   ]
  },
  {
   "cell_type": "code",
   "execution_count": null,
   "metadata": {},
   "outputs": [],
   "source": []
  }
 ],
 "metadata": {
  "kernelspec": {
   "display_name": "Python 3",
   "language": "python",
   "name": "python3"
  },
  "language_info": {
   "codemirror_mode": {
    "name": "ipython",
    "version": 3
   },
   "file_extension": ".py",
   "mimetype": "text/x-python",
   "name": "python",
   "nbconvert_exporter": "python",
   "pygments_lexer": "ipython3",
   "version": "3.6.5"
  }
 },
 "nbformat": 4,
 "nbformat_minor": 2
}
