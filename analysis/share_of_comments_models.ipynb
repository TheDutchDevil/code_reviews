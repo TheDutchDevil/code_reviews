{
 "cells": [
  {
   "cell_type": "markdown",
   "metadata": {},
   "source": [
    "Contains the R models used to analyze the number of review comments before and after the introduction of Travis CI. Looks at whether a boolean variable `IsAfterTravisIntroduction` can be used to predict the number of review comments under a pull request. "
   ]
  },
  {
   "cell_type": "code",
   "execution_count": 75,
   "metadata": {},
   "outputs": [
    {
     "data": {
      "text/plain": [
       " ReviewComments    ShareReviewComments GeneralComments  \n",
       " Min.   :  0.000   Min.   :  0.0       Min.   :  0.000  \n",
       " 1st Qu.:  0.000   1st Qu.:  0.0       1st Qu.:  0.000  \n",
       " Median :  0.000   Median :  0.0       Median :  1.000  \n",
       " Mean   :  1.465   Mean   : 10.6       Mean   :  3.142  \n",
       " 3rd Qu.:  0.000   3rd Qu.:  0.0       3rd Qu.:  3.000  \n",
       " Max.   :404.000   Max.   :100.0       Max.   :220.000  \n",
       "                                                        \n",
       " GeneralCommentsDiscussingBuild   Additions         Deletions        \n",
       " Min.   : 0.0000                Min.   :      0   Min.   :      0.0  \n",
       " 1st Qu.: 0.0000                1st Qu.:      1   1st Qu.:      0.0  \n",
       " Median : 0.0000                Median :      8   Median :      2.0  \n",
       " Mean   : 0.0947                Mean   :   4358   Mean   :    701.8  \n",
       " 3rd Qu.: 0.0000                3rd Qu.:     68   3rd Qu.:     17.0  \n",
       " Max.   :37.0000                Max.   :4146796   Max.   :1186576.0  \n",
       "                                                                     \n",
       "  IsMerged        Commits          Assignees       ChangedFiles     \n",
       " False: 9716   Min.   :  0.000   Min.   :0.0000   Min.   :    0.00  \n",
       " True :29166   1st Qu.:  1.000   1st Qu.:0.0000   1st Qu.:    1.00  \n",
       "               Median :  1.000   Median :0.0000   Median :    1.00  \n",
       "               Mean   :  5.761   Mean   :0.1124   Mean   :   19.19  \n",
       "               3rd Qu.:  3.000   3rd Qu.:0.0000   3rd Qu.:    4.00  \n",
       "               Max.   :250.000   Max.   :4.0000   Max.   :13304.00  \n",
       "                                                                    \n",
       " PrOpenedDaysAfterProjectStart   ProjectLanguage   IsAfter     \n",
       " Min.   :   0                  C++       :10852   False:19441  \n",
       " 1st Qu.: 429                  Python    : 6784   True :19441  \n",
       " Median : 923                  PHP       : 4730                \n",
       " Mean   :1056                  Java      : 2806                \n",
       " 3rd Qu.:1584                  Ruby      : 2298                \n",
       " Max.   :3378                  JavaScript: 2296                \n",
       "                               (Other)   : 9116                \n",
       "                      ProjectName   \n",
       " PrestaShop/PrestaShop      : 4730  \n",
       " TrinityCore/TrinityCore    : 3994  \n",
       " PX4/Firmware               : 2102  \n",
       " MarkUsProject/Markus       : 2070  \n",
       " ReactiveX/RxJava           : 2012  \n",
       " ReactiveCocoa/ReactiveCocoa: 1590  \n",
       " (Other)                    :22384  "
      ]
     },
     "metadata": {},
     "output_type": "display_data"
    }
   ],
   "source": [
    "filename <- 'generated/num_of_review_comments.csv'\n",
    "\n",
    "NumOfReviewCommentsData <- read.csv(file=filename, header=TRUE, sep=\",\")\n",
    "\n",
    "summary(NumOfReviewCommentsData)"
   ]
  },
  {
   "cell_type": "code",
   "execution_count": 76,
   "metadata": {},
   "outputs": [],
   "source": [
    "library(lmerTest)\n",
    "library(MuMIn)\n",
    "library(VIF)\n",
    "\n",
    "vif.mer <- function (fit) {\n",
    "    ## adapted from rms::vif\n",
    "    \n",
    "    v <- vcov(fit)\n",
    "    nam <- names(fixef(fit))\n",
    "\n",
    "    ## exclude intercepts\n",
    "    ns <- sum(1 * (nam == \"Intercept\" | nam == \"(Intercept)\"))\n",
    "    if (ns > 0) {\n",
    "        v <- v[-(1:ns), -(1:ns), drop = FALSE]\n",
    "        nam <- nam[-(1:ns)]\n",
    "    }\n",
    "    \n",
    "    d <- diag(v)^0.5\n",
    "    v <- diag(solve(v/(d %o% d)))\n",
    "    names(v) <- nam\n",
    "    v\n",
    "}"
   ]
  },
  {
   "cell_type": "code",
   "execution_count": 77,
   "metadata": {
    "scrolled": false
   },
   "outputs": [
    {
     "name": "stderr",
     "output_type": "stream",
     "text": [
      "Warning message:\n",
      "“Some predictor variables are on very different scales: consider rescaling”Warning message:\n",
      "“Some predictor variables are on very different scales: consider rescaling”Warning message:\n",
      "“Some predictor variables are on very different scales: consider rescaling”Warning message:\n",
      "“Some predictor variables are on very different scales: consider rescaling”Warning message:\n",
      "“Some predictor variables are on very different scales: consider rescaling”Warning message:\n",
      "“Some predictor variables are on very different scales: consider rescaling”Warning message:\n",
      "“Some predictor variables are on very different scales: consider rescaling”Warning message:\n",
      "“Some predictor variables are on very different scales: consider rescaling”Warning message:\n",
      "“Some predictor variables are on very different scales: consider rescaling”Warning message:\n",
      "“Some predictor variables are on very different scales: consider rescaling”Warning message:\n",
      "“Some predictor variables are on very different scales: consider rescaling”"
     ]
    },
    {
     "data": {
      "text/plain": [
       "Linear mixed model fit by maximum likelihood t-tests use Satterthwaite\n",
       "  approximations to degrees of freedom [lmerMod]\n",
       "Formula: ReviewComments ~ Additions + Deletions + IsMerged + Commits +  \n",
       "    Assignees + ChangedFiles + PrOpenedDaysAfterProjectStart +  \n",
       "    IsAfter + (1 | ProjectLanguage) + (1 | ProjectName)\n",
       "   Data: NumOfReviewCommentsData\n",
       "\n",
       "      AIC       BIC    logLik  deviance  df.resid \n",
       " 260416.0  260518.9 -130196.0  260392.0     38870 \n",
       "\n",
       "Scaled residuals: \n",
       "   Min     1Q Median     3Q    Max \n",
       "-2.125 -0.233 -0.108  0.009 57.751 \n",
       "\n",
       "Random effects:\n",
       " Groups          Name        Variance Std.Dev.\n",
       " ProjectName     (Intercept)  1.279   1.131   \n",
       " ProjectLanguage (Intercept)  0.000   0.000   \n",
       " Residual                    47.289   6.877   \n",
       "Number of obs: 38882, groups:  ProjectName, 34; ProjectLanguage, 15\n",
       "\n",
       "Fixed effects:\n",
       "                                Estimate Std. Error         df t value Pr(>|t|)\n",
       "(Intercept)                    4.323e-02  2.178e-01  4.800e+01   0.199    0.843\n",
       "Additions                     -2.232e-06  3.659e-07  3.886e+04  -6.100 1.07e-09\n",
       "Deletions                      3.598e-06  3.813e-06  3.885e+04   0.944    0.345\n",
       "IsMergedTrue                   1.325e-01  8.581e-02  3.860e+04   1.544    0.122\n",
       "Commits                        4.529e-02  1.717e-03  3.887e+04  26.374  < 2e-16\n",
       "Assignees                      1.739e+00  1.184e-01  3.596e+04  14.690  < 2e-16\n",
       "ChangedFiles                  -2.180e-03  2.611e-04  3.885e+04  -8.347  < 2e-16\n",
       "PrOpenedDaysAfterProjectStart  7.889e-04  9.796e-05  1.273e+04   8.053 8.88e-16\n",
       "IsAfterTrue                    1.769e-02  1.235e-01  2.019e+04   0.143    0.886\n",
       "                                 \n",
       "(Intercept)                      \n",
       "Additions                     ***\n",
       "Deletions                        \n",
       "IsMergedTrue                     \n",
       "Commits                       ***\n",
       "Assignees                     ***\n",
       "ChangedFiles                  ***\n",
       "PrOpenedDaysAfterProjectStart ***\n",
       "IsAfterTrue                      \n",
       "---\n",
       "Signif. codes:  0 ‘***’ 0.001 ‘**’ 0.01 ‘*’ 0.05 ‘.’ 0.1 ‘ ’ 1\n",
       "\n",
       "Correlation of Fixed Effects:\n",
       "            (Intr) Addtns Deltns IsMrgT Commts Assgns ChngdF PODAPS\n",
       "Additions    0.020                                                 \n",
       "Deletions   -0.003  0.216                                          \n",
       "IsMergedTru -0.295 -0.001  0.000                                   \n",
       "Commits     -0.075 -0.154  0.086  0.132                            \n",
       "Assignees   -0.059  0.003  0.001 -0.005  0.001                     \n",
       "ChangedFils  0.012 -0.367 -0.722  0.001 -0.331  0.004              \n",
       "PrOpndDyAPS -0.208 -0.049 -0.003 -0.054  0.004  0.049 -0.020       \n",
       "IsAfterTrue  0.090  0.031  0.007  0.023 -0.008 -0.077  0.006 -0.824\n",
       "fit warnings:\n",
       "Some predictor variables are on very different scales: consider rescaling"
      ]
     },
     "metadata": {},
     "output_type": "display_data"
    },
    {
     "data": {
      "text/html": [
       "<dl class=dl-horizontal>\n",
       "\t<dt>R2m</dt>\n",
       "\t\t<dd>0.0310556830296513</dd>\n",
       "\t<dt>R2c</dt>\n",
       "\t\t<dd>0.0565675804663945</dd>\n",
       "</dl>\n"
      ],
      "text/latex": [
       "\\begin{description*}\n",
       "\\item[R2m] 0.0310556830296513\n",
       "\\item[R2c] 0.0565675804663945\n",
       "\\end{description*}\n"
      ],
      "text/markdown": [
       "R2m\n",
       ":   0.0310556830296513R2c\n",
       ":   0.0565675804663945\n",
       "\n"
      ],
      "text/plain": [
       "       R2m        R2c \n",
       "0.03105568 0.05656758 "
      ]
     },
     "metadata": {},
     "output_type": "display_data"
    },
    {
     "data": {
      "text/html": [
       "<dl class=dl-horizontal>\n",
       "\t<dt>Additions</dt>\n",
       "\t\t<dd>1.32807053593438</dd>\n",
       "\t<dt>Deletions</dt>\n",
       "\t\t<dd>2.27424464502108</dd>\n",
       "\t<dt>IsMergedTrue</dt>\n",
       "\t\t<dd>1.02774568922219</dd>\n",
       "\t<dt>Commits</dt>\n",
       "\t\t<dd>1.37921381095958</dd>\n",
       "\t<dt>Assignees</dt>\n",
       "\t\t<dd>1.00671187866369</dd>\n",
       "\t<dt>ChangedFiles</dt>\n",
       "\t\t<dd>3.02099157688836</dd>\n",
       "\t<dt>PrOpenedDaysAfterProjectStart</dt>\n",
       "\t\t<dd>3.14515260546951</dd>\n",
       "\t<dt>IsAfterTrue</dt>\n",
       "\t\t<dd>3.13602207238492</dd>\n",
       "</dl>\n"
      ],
      "text/latex": [
       "\\begin{description*}\n",
       "\\item[Additions] 1.32807053593438\n",
       "\\item[Deletions] 2.27424464502108\n",
       "\\item[IsMergedTrue] 1.02774568922219\n",
       "\\item[Commits] 1.37921381095958\n",
       "\\item[Assignees] 1.00671187866369\n",
       "\\item[ChangedFiles] 3.02099157688836\n",
       "\\item[PrOpenedDaysAfterProjectStart] 3.14515260546951\n",
       "\\item[IsAfterTrue] 3.13602207238492\n",
       "\\end{description*}\n"
      ],
      "text/markdown": [
       "Additions\n",
       ":   1.32807053593438Deletions\n",
       ":   2.27424464502108IsMergedTrue\n",
       ":   1.02774568922219Commits\n",
       ":   1.37921381095958Assignees\n",
       ":   1.00671187866369ChangedFiles\n",
       ":   3.02099157688836PrOpenedDaysAfterProjectStart\n",
       ":   3.14515260546951IsAfterTrue\n",
       ":   3.13602207238492\n",
       "\n"
      ],
      "text/plain": [
       "                    Additions                     Deletions \n",
       "                     1.328071                      2.274245 \n",
       "                 IsMergedTrue                       Commits \n",
       "                     1.027746                      1.379214 \n",
       "                    Assignees                  ChangedFiles \n",
       "                     1.006712                      3.020992 \n",
       "PrOpenedDaysAfterProjectStart                   IsAfterTrue \n",
       "                     3.145153                      3.136022 "
      ]
     },
     "metadata": {},
     "output_type": "display_data"
    },
    {
     "name": "stderr",
     "output_type": "stream",
     "text": [
      "Warning message:\n",
      "“Some predictor variables are on very different scales: consider rescaling”Warning message:\n",
      "“Some predictor variables are on very different scales: consider rescaling”"
     ]
    },
    {
     "data": {
      "text/html": [
       "<table>\n",
       "<thead><tr><th></th><th scope=col>Sum Sq</th><th scope=col>Mean Sq</th><th scope=col>NumDF</th><th scope=col>DenDF</th><th scope=col>F.value</th><th scope=col>Pr(&gt;F)</th></tr></thead>\n",
       "<tbody>\n",
       "\t<tr><th scope=row>Additions</th><td>1.030091e+02</td><td>1.030091e+02</td><td>1           </td><td>NA          </td><td>NA          </td><td>NA          </td></tr>\n",
       "\t<tr><th scope=row>Deletions</th><td>6.971227e+01</td><td>6.971227e+01</td><td>1           </td><td>NA          </td><td>NA          </td><td>NA          </td></tr>\n",
       "\t<tr><th scope=row>IsMerged</th><td>5.009880e+01</td><td>5.009880e+01</td><td>1           </td><td>NA          </td><td>NA          </td><td>NA          </td></tr>\n",
       "\t<tr><th scope=row>Commits</th><td>3.003040e+04</td><td>3.003040e+04</td><td>1           </td><td>NA          </td><td>NA          </td><td>NA          </td></tr>\n",
       "\t<tr><th scope=row>Assignees</th><td>1.083920e+04</td><td>1.083920e+04</td><td>1           </td><td>NA          </td><td>NA          </td><td>NA          </td></tr>\n",
       "\t<tr><th scope=row>ChangedFiles</th><td>2.999412e+03</td><td>2.999412e+03</td><td>1           </td><td>NA          </td><td>NA          </td><td>NA          </td></tr>\n",
       "\t<tr><th scope=row>PrOpenedDaysAfterProjectStart</th><td>9.830600e+03</td><td>9.830600e+03</td><td>1           </td><td>NA          </td><td>NA          </td><td>NA          </td></tr>\n",
       "\t<tr><th scope=row>IsAfter</th><td>9.699131e-01</td><td>9.699131e-01</td><td>1           </td><td>NA          </td><td>NA          </td><td>NA          </td></tr>\n",
       "</tbody>\n",
       "</table>\n"
      ],
      "text/latex": [
       "\\begin{tabular}{r|llllll}\n",
       "  & Sum Sq & Mean Sq & NumDF & DenDF & F.value & Pr(>F)\\\\\n",
       "\\hline\n",
       "\tAdditions & 1.030091e+02 & 1.030091e+02 & 1            & NA           & NA           & NA          \\\\\n",
       "\tDeletions & 6.971227e+01 & 6.971227e+01 & 1            & NA           & NA           & NA          \\\\\n",
       "\tIsMerged & 5.009880e+01 & 5.009880e+01 & 1            & NA           & NA           & NA          \\\\\n",
       "\tCommits & 3.003040e+04 & 3.003040e+04 & 1            & NA           & NA           & NA          \\\\\n",
       "\tAssignees & 1.083920e+04 & 1.083920e+04 & 1            & NA           & NA           & NA          \\\\\n",
       "\tChangedFiles & 2.999412e+03 & 2.999412e+03 & 1            & NA           & NA           & NA          \\\\\n",
       "\tPrOpenedDaysAfterProjectStart & 9.830600e+03 & 9.830600e+03 & 1            & NA           & NA           & NA          \\\\\n",
       "\tIsAfter & 9.699131e-01 & 9.699131e-01 & 1            & NA           & NA           & NA          \\\\\n",
       "\\end{tabular}\n"
      ],
      "text/markdown": [
       "\n",
       "| <!--/--> | Sum Sq | Mean Sq | NumDF | DenDF | F.value | Pr(>F) | \n",
       "|---|---|---|---|---|---|---|---|\n",
       "| Additions | 1.030091e+02 | 1.030091e+02 | 1            | NA           | NA           | NA           | \n",
       "| Deletions | 6.971227e+01 | 6.971227e+01 | 1            | NA           | NA           | NA           | \n",
       "| IsMerged | 5.009880e+01 | 5.009880e+01 | 1            | NA           | NA           | NA           | \n",
       "| Commits | 3.003040e+04 | 3.003040e+04 | 1            | NA           | NA           | NA           | \n",
       "| Assignees | 1.083920e+04 | 1.083920e+04 | 1            | NA           | NA           | NA           | \n",
       "| ChangedFiles | 2.999412e+03 | 2.999412e+03 | 1            | NA           | NA           | NA           | \n",
       "| PrOpenedDaysAfterProjectStart | 9.830600e+03 | 9.830600e+03 | 1            | NA           | NA           | NA           | \n",
       "| IsAfter | 9.699131e-01 | 9.699131e-01 | 1            | NA           | NA           | NA           | \n",
       "\n",
       "\n"
      ],
      "text/plain": [
       "                              Sum Sq       Mean Sq      NumDF DenDF F.value\n",
       "Additions                     1.030091e+02 1.030091e+02 1     NA    NA     \n",
       "Deletions                     6.971227e+01 6.971227e+01 1     NA    NA     \n",
       "IsMerged                      5.009880e+01 5.009880e+01 1     NA    NA     \n",
       "Commits                       3.003040e+04 3.003040e+04 1     NA    NA     \n",
       "Assignees                     1.083920e+04 1.083920e+04 1     NA    NA     \n",
       "ChangedFiles                  2.999412e+03 2.999412e+03 1     NA    NA     \n",
       "PrOpenedDaysAfterProjectStart 9.830600e+03 9.830600e+03 1     NA    NA     \n",
       "IsAfter                       9.699131e-01 9.699131e-01 1     NA    NA     \n",
       "                              Pr(>F)\n",
       "Additions                     NA    \n",
       "Deletions                     NA    \n",
       "IsMerged                      NA    \n",
       "Commits                       NA    \n",
       "Assignees                     NA    \n",
       "ChangedFiles                  NA    \n",
       "PrOpenedDaysAfterProjectStart NA    \n",
       "IsAfter                       NA    "
      ]
     },
     "metadata": {},
     "output_type": "display_data"
    }
   ],
   "source": [
    "modelNumberReviewComments = lmer(ReviewComments ~ \n",
    "            Additions +\n",
    "            Deletions +\n",
    "            IsMerged +\n",
    "            Commits +\n",
    "            Assignees + \n",
    "            ChangedFiles + \n",
    "            PrOpenedDaysAfterProjectStart +\n",
    "            IsAfter + \n",
    "            (1|ProjectLanguage) +\n",
    "            (1|ProjectName),\n",
    "          data= NumOfReviewCommentsData, \n",
    "          REML=FALSE)\n",
    "summary(modelNumberReviewComments)\n",
    "r.squaredGLMM(modelNumberReviewComments)\n",
    "vif.mer(modelNumberReviewComments)\n",
    "anova(modelNumberReviewComments)"
   ]
  },
  {
   "cell_type": "code",
   "execution_count": 78,
   "metadata": {
    "scrolled": false
   },
   "outputs": [
    {
     "name": "stderr",
     "output_type": "stream",
     "text": [
      "Warning message:\n",
      "“Some predictor variables are on very different scales: consider rescaling”Warning message:\n",
      "“Some predictor variables are on very different scales: consider rescaling”Warning message:\n",
      "“Some predictor variables are on very different scales: consider rescaling”Warning message:\n",
      "“Some predictor variables are on very different scales: consider rescaling”Warning message:\n",
      "“Some predictor variables are on very different scales: consider rescaling”Warning message:\n",
      "“Some predictor variables are on very different scales: consider rescaling”Warning message:\n",
      "“Some predictor variables are on very different scales: consider rescaling”Warning message:\n",
      "“Some predictor variables are on very different scales: consider rescaling”Warning message:\n",
      "“Some predictor variables are on very different scales: consider rescaling”Warning message:\n",
      "“Some predictor variables are on very different scales: consider rescaling”Warning message:\n",
      "“Some predictor variables are on very different scales: consider rescaling”"
     ]
    },
    {
     "data": {
      "text/plain": [
       "Linear mixed model fit by maximum likelihood t-tests use Satterthwaite\n",
       "  approximations to degrees of freedom [lmerMod]\n",
       "Formula: ShareReviewComments ~ Additions + Deletions + IsMerged + Commits +  \n",
       "    Assignees + ChangedFiles + PrOpenedDaysAfterProjectStart +  \n",
       "    IsAfter + (1 | ProjectLanguage) + (1 | ProjectName)\n",
       "   Data: NumOfReviewCommentsData\n",
       "\n",
       "      AIC       BIC    logLik  deviance  df.resid \n",
       " 356752.7  356855.6 -178364.4  356728.7     38870 \n",
       "\n",
       "Scaled residuals: \n",
       "    Min      1Q  Median      3Q     Max \n",
       "-1.7189 -0.5238 -0.2814 -0.0285  4.2328 \n",
       "\n",
       "Random effects:\n",
       " Groups          Name        Variance  Std.Dev. \n",
       " ProjectName     (Intercept) 3.660e+01 6.050e+00\n",
       " ProjectLanguage (Intercept) 1.167e-12 1.080e-06\n",
       " Residual                    5.630e+02 2.373e+01\n",
       "Number of obs: 38882, groups:  ProjectName, 34; ProjectLanguage, 15\n",
       "\n",
       "Fixed effects:\n",
       "                                Estimate Std. Error         df t value Pr(>|t|)\n",
       "(Intercept)                    2.374e+00  1.093e+00  4.000e+01   2.172   0.0358\n",
       "Additions                     -6.053e-06  1.262e-06  3.885e+04  -4.794 1.64e-06\n",
       "Deletions                      2.624e-06  1.316e-05  3.885e+04   0.199   0.8419\n",
       "IsMergedTrue                   1.600e+00  2.964e-01  3.887e+04   5.400 6.70e-08\n",
       "Commits                        5.635e-02  5.926e-03  3.886e+04   9.510  < 2e-16\n",
       "Assignees                      3.834e+00  4.096e-01  3.846e+04   9.362  < 2e-16\n",
       "ChangedFiles                  -4.677e-03  9.010e-04  3.885e+04  -5.191 2.10e-07\n",
       "PrOpenedDaysAfterProjectStart  4.334e-03  3.423e-04  2.829e+04  12.664  < 2e-16\n",
       "IsAfterTrue                    1.843e+00  4.298e-01  3.332e+04   4.287 1.82e-05\n",
       "                                 \n",
       "(Intercept)                   *  \n",
       "Additions                     ***\n",
       "Deletions                        \n",
       "IsMergedTrue                  ***\n",
       "Commits                       ***\n",
       "Assignees                     ***\n",
       "ChangedFiles                  ***\n",
       "PrOpenedDaysAfterProjectStart ***\n",
       "IsAfterTrue                   ***\n",
       "---\n",
       "Signif. codes:  0 ‘***’ 0.001 ‘**’ 0.01 ‘*’ 0.05 ‘.’ 0.1 ‘ ’ 1\n",
       "\n",
       "Correlation of Fixed Effects:\n",
       "            (Intr) Addtns Deltns IsMrgT Commts Assgns ChngdF PODAPS\n",
       "Additions    0.014                                                 \n",
       "Deletions   -0.002  0.216                                          \n",
       "IsMergedTru -0.203 -0.001  0.000                                   \n",
       "Commits     -0.052 -0.154  0.086  0.132                            \n",
       "Assignees   -0.041  0.003  0.001 -0.004  0.001                     \n",
       "ChangedFils  0.009 -0.367 -0.722  0.001 -0.331  0.003              \n",
       "PrOpndDyAPS -0.144 -0.050 -0.003 -0.054  0.005  0.049 -0.021       \n",
       "IsAfterTrue  0.063  0.031  0.007  0.023 -0.008 -0.076  0.007 -0.827\n",
       "fit warnings:\n",
       "Some predictor variables are on very different scales: consider rescaling"
      ]
     },
     "metadata": {},
     "output_type": "display_data"
    },
    {
     "data": {
      "text/html": [
       "<dl class=dl-horizontal>\n",
       "\t<dt>R2m</dt>\n",
       "\t\t<dd>0.0309096706029239</dd>\n",
       "\t<dt>R2c</dt>\n",
       "\t\t<dd>0.0900739465546255</dd>\n",
       "</dl>\n"
      ],
      "text/latex": [
       "\\begin{description*}\n",
       "\\item[R2m] 0.0309096706029239\n",
       "\\item[R2c] 0.0900739465546255\n",
       "\\end{description*}\n"
      ],
      "text/markdown": [
       "R2m\n",
       ":   0.0309096706029239R2c\n",
       ":   0.0900739465546255\n",
       "\n"
      ],
      "text/plain": [
       "       R2m        R2c \n",
       "0.03090967 0.09007395 "
      ]
     },
     "metadata": {},
     "output_type": "display_data"
    },
    {
     "data": {
      "text/html": [
       "<dl class=dl-horizontal>\n",
       "\t<dt>Additions</dt>\n",
       "\t\t<dd>1.32809591585133</dd>\n",
       "\t<dt>Deletions</dt>\n",
       "\t\t<dd>2.27419373571422</dd>\n",
       "\t<dt>IsMergedTrue</dt>\n",
       "\t\t<dd>1.02784555109463</dd>\n",
       "\t<dt>Commits</dt>\n",
       "\t\t<dd>1.3792229191927</dd>\n",
       "\t<dt>Assignees</dt>\n",
       "\t\t<dd>1.00670121850712</dd>\n",
       "\t<dt>ChangedFiles</dt>\n",
       "\t\t<dd>3.02089478786181</dd>\n",
       "\t<dt>PrOpenedDaysAfterProjectStart</dt>\n",
       "\t\t<dd>3.19931570342115</dd>\n",
       "\t<dt>IsAfterTrue</dt>\n",
       "\t\t<dd>3.18982769950449</dd>\n",
       "</dl>\n"
      ],
      "text/latex": [
       "\\begin{description*}\n",
       "\\item[Additions] 1.32809591585133\n",
       "\\item[Deletions] 2.27419373571422\n",
       "\\item[IsMergedTrue] 1.02784555109463\n",
       "\\item[Commits] 1.3792229191927\n",
       "\\item[Assignees] 1.00670121850712\n",
       "\\item[ChangedFiles] 3.02089478786181\n",
       "\\item[PrOpenedDaysAfterProjectStart] 3.19931570342115\n",
       "\\item[IsAfterTrue] 3.18982769950449\n",
       "\\end{description*}\n"
      ],
      "text/markdown": [
       "Additions\n",
       ":   1.32809591585133Deletions\n",
       ":   2.27419373571422IsMergedTrue\n",
       ":   1.02784555109463Commits\n",
       ":   1.3792229191927Assignees\n",
       ":   1.00670121850712ChangedFiles\n",
       ":   3.02089478786181PrOpenedDaysAfterProjectStart\n",
       ":   3.19931570342115IsAfterTrue\n",
       ":   3.18982769950449\n",
       "\n"
      ],
      "text/plain": [
       "                    Additions                     Deletions \n",
       "                     1.328096                      2.274194 \n",
       "                 IsMergedTrue                       Commits \n",
       "                     1.027846                      1.379223 \n",
       "                    Assignees                  ChangedFiles \n",
       "                     1.006701                      3.020895 \n",
       "PrOpenedDaysAfterProjectStart                   IsAfterTrue \n",
       "                     3.199316                      3.189828 "
      ]
     },
     "metadata": {},
     "output_type": "display_data"
    },
    {
     "name": "stderr",
     "output_type": "stream",
     "text": [
      "Warning message:\n",
      "“Some predictor variables are on very different scales: consider rescaling”Warning message:\n",
      "“Some predictor variables are on very different scales: consider rescaling”"
     ]
    },
    {
     "data": {
      "text/html": [
       "<table>\n",
       "<thead><tr><th></th><th scope=col>Sum Sq</th><th scope=col>Mean Sq</th><th scope=col>NumDF</th><th scope=col>DenDF</th><th scope=col>F.value</th><th scope=col>Pr(&gt;F)</th></tr></thead>\n",
       "<tbody>\n",
       "\t<tr><th scope=row>Additions</th><td>  9131.111</td><td>  9131.111</td><td>1         </td><td>NA        </td><td>NA        </td><td>NA        </td></tr>\n",
       "\t<tr><th scope=row>Deletions</th><td>  4654.440</td><td>  4654.440</td><td>1         </td><td>NA        </td><td>NA        </td><td>NA        </td></tr>\n",
       "\t<tr><th scope=row>IsMerged</th><td> 20198.518</td><td> 20198.518</td><td>1         </td><td>NA        </td><td>NA        </td><td>NA        </td></tr>\n",
       "\t<tr><th scope=row>Commits</th><td> 42254.301</td><td> 42254.301</td><td>1         </td><td>NA        </td><td>NA        </td><td>NA        </td></tr>\n",
       "\t<tr><th scope=row>Assignees</th><td> 61900.669</td><td> 61900.669</td><td>1         </td><td>NA        </td><td>NA        </td><td>NA        </td></tr>\n",
       "\t<tr><th scope=row>ChangedFiles</th><td> 11109.393</td><td> 11109.393</td><td>1         </td><td>NA        </td><td>NA        </td><td>NA        </td></tr>\n",
       "\t<tr><th scope=row>PrOpenedDaysAfterProjectStart</th><td>468437.020</td><td>468437.020</td><td>1         </td><td>NA        </td><td>NA        </td><td>NA        </td></tr>\n",
       "\t<tr><th scope=row>IsAfter</th><td> 10346.400</td><td> 10346.400</td><td>1         </td><td>NA        </td><td>NA        </td><td>NA        </td></tr>\n",
       "</tbody>\n",
       "</table>\n"
      ],
      "text/latex": [
       "\\begin{tabular}{r|llllll}\n",
       "  & Sum Sq & Mean Sq & NumDF & DenDF & F.value & Pr(>F)\\\\\n",
       "\\hline\n",
       "\tAdditions &   9131.111 &   9131.111 & 1          & NA         & NA         & NA        \\\\\n",
       "\tDeletions &   4654.440 &   4654.440 & 1          & NA         & NA         & NA        \\\\\n",
       "\tIsMerged &  20198.518 &  20198.518 & 1          & NA         & NA         & NA        \\\\\n",
       "\tCommits &  42254.301 &  42254.301 & 1          & NA         & NA         & NA        \\\\\n",
       "\tAssignees &  61900.669 &  61900.669 & 1          & NA         & NA         & NA        \\\\\n",
       "\tChangedFiles &  11109.393 &  11109.393 & 1          & NA         & NA         & NA        \\\\\n",
       "\tPrOpenedDaysAfterProjectStart & 468437.020 & 468437.020 & 1          & NA         & NA         & NA        \\\\\n",
       "\tIsAfter &  10346.400 &  10346.400 & 1          & NA         & NA         & NA        \\\\\n",
       "\\end{tabular}\n"
      ],
      "text/markdown": [
       "\n",
       "| <!--/--> | Sum Sq | Mean Sq | NumDF | DenDF | F.value | Pr(>F) | \n",
       "|---|---|---|---|---|---|---|---|\n",
       "| Additions |   9131.111 |   9131.111 | 1          | NA         | NA         | NA         | \n",
       "| Deletions |   4654.440 |   4654.440 | 1          | NA         | NA         | NA         | \n",
       "| IsMerged |  20198.518 |  20198.518 | 1          | NA         | NA         | NA         | \n",
       "| Commits |  42254.301 |  42254.301 | 1          | NA         | NA         | NA         | \n",
       "| Assignees |  61900.669 |  61900.669 | 1          | NA         | NA         | NA         | \n",
       "| ChangedFiles |  11109.393 |  11109.393 | 1          | NA         | NA         | NA         | \n",
       "| PrOpenedDaysAfterProjectStart | 468437.020 | 468437.020 | 1          | NA         | NA         | NA         | \n",
       "| IsAfter |  10346.400 |  10346.400 | 1          | NA         | NA         | NA         | \n",
       "\n",
       "\n"
      ],
      "text/plain": [
       "                              Sum Sq     Mean Sq    NumDF DenDF F.value Pr(>F)\n",
       "Additions                       9131.111   9131.111 1     NA    NA      NA    \n",
       "Deletions                       4654.440   4654.440 1     NA    NA      NA    \n",
       "IsMerged                       20198.518  20198.518 1     NA    NA      NA    \n",
       "Commits                        42254.301  42254.301 1     NA    NA      NA    \n",
       "Assignees                      61900.669  61900.669 1     NA    NA      NA    \n",
       "ChangedFiles                   11109.393  11109.393 1     NA    NA      NA    \n",
       "PrOpenedDaysAfterProjectStart 468437.020 468437.020 1     NA    NA      NA    \n",
       "IsAfter                        10346.400  10346.400 1     NA    NA      NA    "
      ]
     },
     "metadata": {},
     "output_type": "display_data"
    }
   ],
   "source": [
    "modelShareReviewComments = lmer(ShareReviewComments ~ \n",
    "            Additions +\n",
    "            Deletions +\n",
    "            IsMerged +\n",
    "            Commits +\n",
    "            Assignees + \n",
    "            ChangedFiles + \n",
    "            PrOpenedDaysAfterProjectStart +\n",
    "            IsAfter + \n",
    "            (1|ProjectLanguage) +\n",
    "            (1|ProjectName),\n",
    "          data= NumOfReviewCommentsData, \n",
    "          REML=FALSE)\n",
    "summary(modelShareReviewComments)\n",
    "r.squaredGLMM(modelShareReviewComments)\n",
    "vif.mer(modelShareReviewComments)\n",
    "anova(modelShareReviewComments)"
   ]
  },
  {
   "cell_type": "code",
   "execution_count": 79,
   "metadata": {
    "scrolled": false
   },
   "outputs": [
    {
     "name": "stderr",
     "output_type": "stream",
     "text": [
      "Warning message:\n",
      "“Some predictor variables are on very different scales: consider rescaling”Warning message:\n",
      "“Some predictor variables are on very different scales: consider rescaling”Warning message:\n",
      "“Some predictor variables are on very different scales: consider rescaling”Warning message:\n",
      "“Some predictor variables are on very different scales: consider rescaling”Warning message:\n",
      "“Some predictor variables are on very different scales: consider rescaling”Warning message:\n",
      "“Some predictor variables are on very different scales: consider rescaling”Warning message:\n",
      "“Some predictor variables are on very different scales: consider rescaling”Warning message:\n",
      "“Some predictor variables are on very different scales: consider rescaling”Warning message:\n",
      "“Some predictor variables are on very different scales: consider rescaling”Warning message:\n",
      "“Some predictor variables are on very different scales: consider rescaling”Warning message:\n",
      "“Some predictor variables are on very different scales: consider rescaling”"
     ]
    },
    {
     "data": {
      "text/plain": [
       "Linear mixed model fit by maximum likelihood t-tests use Satterthwaite\n",
       "  approximations to degrees of freedom [lmerMod]\n",
       "Formula: GeneralCommentsDiscussingBuild ~ Additions + Deletions + IsMerged +  \n",
       "    Commits + Assignees + ChangedFiles + PrOpenedDaysAfterProjectStart +  \n",
       "    IsAfter + (1 | ProjectLanguage) + (1 | ProjectName)\n",
       "   Data: NumOfReviewCommentsData\n",
       "\n",
       "     AIC      BIC   logLik deviance df.resid \n",
       " 66921.8  67024.6 -33448.9  66897.8    38870 \n",
       "\n",
       "Scaled residuals: \n",
       "   Min     1Q Median     3Q    Max \n",
       "-1.000 -0.215 -0.105 -0.034 63.960 \n",
       "\n",
       "Random effects:\n",
       " Groups          Name        Variance  Std.Dev.\n",
       " ProjectName     (Intercept) 0.0096781 0.09838 \n",
       " ProjectLanguage (Intercept) 0.0008534 0.02921 \n",
       " Residual                    0.3261783 0.57112 \n",
       "Number of obs: 38882, groups:  ProjectName, 34; ProjectLanguage, 15\n",
       "\n",
       "Fixed effects:\n",
       "                                Estimate Std. Error         df t value Pr(>|t|)\n",
       "(Intercept)                    8.348e-02  2.115e-02  2.200e+01   3.947 0.000710\n",
       "Additions                     -1.121e-07  3.039e-08  3.886e+04  -3.690 0.000225\n",
       "Deletions                      7.474e-08  3.167e-07  3.885e+04   0.236 0.813445\n",
       "IsMergedTrue                  -4.880e-02  7.128e-03  3.870e+04  -6.846 7.69e-12\n",
       "Commits                        1.279e-03  1.426e-04  3.887e+04   8.971  < 2e-16\n",
       "Assignees                      7.441e-02  9.839e-03  3.673e+04   7.563 4.04e-14\n",
       "ChangedFiles                  -9.689e-06  2.169e-05  3.885e+04  -0.447 0.655065\n",
       "PrOpenedDaysAfterProjectStart  7.370e-06  8.168e-06  1.620e+04   0.902 0.366924\n",
       "IsAfterTrue                    7.030e-02  1.029e-02  2.383e+04   6.835 8.41e-12\n",
       "                                 \n",
       "(Intercept)                   ***\n",
       "Additions                     ***\n",
       "Deletions                        \n",
       "IsMergedTrue                  ***\n",
       "Commits                       ***\n",
       "Assignees                     ***\n",
       "ChangedFiles                     \n",
       "PrOpenedDaysAfterProjectStart    \n",
       "IsAfterTrue                   ***\n",
       "---\n",
       "Signif. codes:  0 ‘***’ 0.001 ‘**’ 0.01 ‘*’ 0.05 ‘.’ 0.1 ‘ ’ 1\n",
       "\n",
       "Correlation of Fixed Effects:\n",
       "            (Intr) Addtns Deltns IsMrgT Commts Assgns ChngdF PODAPS\n",
       "Additions    0.018                                                 \n",
       "Deletions   -0.002  0.216                                          \n",
       "IsMergedTru -0.251 -0.001  0.000                                   \n",
       "Commits     -0.064 -0.154  0.086  0.132                            \n",
       "Assignees   -0.053  0.003  0.001 -0.004  0.001                     \n",
       "ChangedFils  0.010 -0.367 -0.722  0.001 -0.331  0.004              \n",
       "PrOpndDyAPS -0.179 -0.050 -0.003 -0.054  0.004  0.049 -0.021       \n",
       "IsAfterTrue  0.078  0.031  0.007  0.023 -0.008 -0.076  0.006 -0.825\n",
       "fit warnings:\n",
       "Some predictor variables are on very different scales: consider rescaling"
      ]
     },
     "metadata": {},
     "output_type": "display_data"
    },
    {
     "data": {
      "text/html": [
       "<dl class=dl-horizontal>\n",
       "\t<dt>R2m</dt>\n",
       "\t\t<dd>0.0105611726099876</dd>\n",
       "\t<dt>R2c</dt>\n",
       "\t\t<dd>0.0415085224182742</dd>\n",
       "</dl>\n"
      ],
      "text/latex": [
       "\\begin{description*}\n",
       "\\item[R2m] 0.0105611726099876\n",
       "\\item[R2c] 0.0415085224182742\n",
       "\\end{description*}\n"
      ],
      "text/markdown": [
       "R2m\n",
       ":   0.0105611726099876R2c\n",
       ":   0.0415085224182742\n",
       "\n"
      ],
      "text/plain": [
       "       R2m        R2c \n",
       "0.01056117 0.04150852 "
      ]
     },
     "metadata": {},
     "output_type": "display_data"
    },
    {
     "data": {
      "text/html": [
       "<dl class=dl-horizontal>\n",
       "\t<dt>Additions</dt>\n",
       "\t\t<dd>1.32808068031555</dd>\n",
       "\t<dt>Deletions</dt>\n",
       "\t\t<dd>2.27422391164843</dd>\n",
       "\t<dt>IsMergedTrue</dt>\n",
       "\t\t<dd>1.0277968650438</dd>\n",
       "\t<dt>Commits</dt>\n",
       "\t\t<dd>1.37922101256975</dd>\n",
       "\t<dt>Assignees</dt>\n",
       "\t\t<dd>1.00667901867483</dd>\n",
       "\t<dt>ChangedFiles</dt>\n",
       "\t\t<dd>3.02096057483205</dd>\n",
       "\t<dt>PrOpenedDaysAfterProjectStart</dt>\n",
       "\t\t<dd>3.16223954460121</dd>\n",
       "\t<dt>IsAfterTrue</dt>\n",
       "\t\t<dd>3.15295728455717</dd>\n",
       "</dl>\n"
      ],
      "text/latex": [
       "\\begin{description*}\n",
       "\\item[Additions] 1.32808068031555\n",
       "\\item[Deletions] 2.27422391164843\n",
       "\\item[IsMergedTrue] 1.0277968650438\n",
       "\\item[Commits] 1.37922101256975\n",
       "\\item[Assignees] 1.00667901867483\n",
       "\\item[ChangedFiles] 3.02096057483205\n",
       "\\item[PrOpenedDaysAfterProjectStart] 3.16223954460121\n",
       "\\item[IsAfterTrue] 3.15295728455717\n",
       "\\end{description*}\n"
      ],
      "text/markdown": [
       "Additions\n",
       ":   1.32808068031555Deletions\n",
       ":   2.27422391164843IsMergedTrue\n",
       ":   1.0277968650438Commits\n",
       ":   1.37922101256975Assignees\n",
       ":   1.00667901867483ChangedFiles\n",
       ":   3.02096057483205PrOpenedDaysAfterProjectStart\n",
       ":   3.16223954460121IsAfterTrue\n",
       ":   3.15295728455717\n",
       "\n"
      ],
      "text/plain": [
       "                    Additions                     Deletions \n",
       "                     1.328081                      2.274224 \n",
       "                 IsMergedTrue                       Commits \n",
       "                     1.027797                      1.379221 \n",
       "                    Assignees                  ChangedFiles \n",
       "                     1.006679                      3.020961 \n",
       "PrOpenedDaysAfterProjectStart                   IsAfterTrue \n",
       "                     3.162240                      3.152957 "
      ]
     },
     "metadata": {},
     "output_type": "display_data"
    },
    {
     "name": "stderr",
     "output_type": "stream",
     "text": [
      "Warning message:\n",
      "“Some predictor variables are on very different scales: consider rescaling”Warning message:\n",
      "“Some predictor variables are on very different scales: consider rescaling”"
     ]
    },
    {
     "data": {
      "text/html": [
       "<table>\n",
       "<thead><tr><th></th><th scope=col>Sum Sq</th><th scope=col>Mean Sq</th><th scope=col>NumDF</th><th scope=col>DenDF</th><th scope=col>F.value</th><th scope=col>Pr(&gt;F)</th></tr></thead>\n",
       "<tbody>\n",
       "\t<tr><th scope=row>Additions</th><td> 0.002568378</td><td> 0.002568378</td><td>1           </td><td>NA          </td><td>NA          </td><td>NA          </td></tr>\n",
       "\t<tr><th scope=row>Deletions</th><td> 2.062556940</td><td> 2.062556940</td><td>1           </td><td>NA          </td><td>NA          </td><td>NA          </td></tr>\n",
       "\t<tr><th scope=row>IsMerged</th><td>19.196757725</td><td>19.196757725</td><td>1           </td><td>NA          </td><td>NA          </td><td>NA          </td></tr>\n",
       "\t<tr><th scope=row>Commits</th><td>29.691375870</td><td>29.691375870</td><td>1           </td><td>NA          </td><td>NA          </td><td>NA          </td></tr>\n",
       "\t<tr><th scope=row>Assignees</th><td>23.064327819</td><td>23.064327819</td><td>1           </td><td>NA          </td><td>NA          </td><td>NA          </td></tr>\n",
       "\t<tr><th scope=row>ChangedFiles</th><td> 0.010566784</td><td> 0.010566784</td><td>1           </td><td>NA          </td><td>NA          </td><td>NA          </td></tr>\n",
       "\t<tr><th scope=row>PrOpenedDaysAfterProjectStart</th><td>43.676630602</td><td>43.676630602</td><td>1           </td><td>NA          </td><td>NA          </td><td>NA          </td></tr>\n",
       "\t<tr><th scope=row>IsAfter</th><td>15.237216054</td><td>15.237216054</td><td>1           </td><td>NA          </td><td>NA          </td><td>NA          </td></tr>\n",
       "</tbody>\n",
       "</table>\n"
      ],
      "text/latex": [
       "\\begin{tabular}{r|llllll}\n",
       "  & Sum Sq & Mean Sq & NumDF & DenDF & F.value & Pr(>F)\\\\\n",
       "\\hline\n",
       "\tAdditions &  0.002568378 &  0.002568378 & 1            & NA           & NA           & NA          \\\\\n",
       "\tDeletions &  2.062556940 &  2.062556940 & 1            & NA           & NA           & NA          \\\\\n",
       "\tIsMerged & 19.196757725 & 19.196757725 & 1            & NA           & NA           & NA          \\\\\n",
       "\tCommits & 29.691375870 & 29.691375870 & 1            & NA           & NA           & NA          \\\\\n",
       "\tAssignees & 23.064327819 & 23.064327819 & 1            & NA           & NA           & NA          \\\\\n",
       "\tChangedFiles &  0.010566784 &  0.010566784 & 1            & NA           & NA           & NA          \\\\\n",
       "\tPrOpenedDaysAfterProjectStart & 43.676630602 & 43.676630602 & 1            & NA           & NA           & NA          \\\\\n",
       "\tIsAfter & 15.237216054 & 15.237216054 & 1            & NA           & NA           & NA          \\\\\n",
       "\\end{tabular}\n"
      ],
      "text/markdown": [
       "\n",
       "| <!--/--> | Sum Sq | Mean Sq | NumDF | DenDF | F.value | Pr(>F) | \n",
       "|---|---|---|---|---|---|---|---|\n",
       "| Additions |  0.002568378 |  0.002568378 | 1            | NA           | NA           | NA           | \n",
       "| Deletions |  2.062556940 |  2.062556940 | 1            | NA           | NA           | NA           | \n",
       "| IsMerged | 19.196757725 | 19.196757725 | 1            | NA           | NA           | NA           | \n",
       "| Commits | 29.691375870 | 29.691375870 | 1            | NA           | NA           | NA           | \n",
       "| Assignees | 23.064327819 | 23.064327819 | 1            | NA           | NA           | NA           | \n",
       "| ChangedFiles |  0.010566784 |  0.010566784 | 1            | NA           | NA           | NA           | \n",
       "| PrOpenedDaysAfterProjectStart | 43.676630602 | 43.676630602 | 1            | NA           | NA           | NA           | \n",
       "| IsAfter | 15.237216054 | 15.237216054 | 1            | NA           | NA           | NA           | \n",
       "\n",
       "\n"
      ],
      "text/plain": [
       "                              Sum Sq       Mean Sq      NumDF DenDF F.value\n",
       "Additions                      0.002568378  0.002568378 1     NA    NA     \n",
       "Deletions                      2.062556940  2.062556940 1     NA    NA     \n",
       "IsMerged                      19.196757725 19.196757725 1     NA    NA     \n",
       "Commits                       29.691375870 29.691375870 1     NA    NA     \n",
       "Assignees                     23.064327819 23.064327819 1     NA    NA     \n",
       "ChangedFiles                   0.010566784  0.010566784 1     NA    NA     \n",
       "PrOpenedDaysAfterProjectStart 43.676630602 43.676630602 1     NA    NA     \n",
       "IsAfter                       15.237216054 15.237216054 1     NA    NA     \n",
       "                              Pr(>F)\n",
       "Additions                     NA    \n",
       "Deletions                     NA    \n",
       "IsMerged                      NA    \n",
       "Commits                       NA    \n",
       "Assignees                     NA    \n",
       "ChangedFiles                  NA    \n",
       "PrOpenedDaysAfterProjectStart NA    \n",
       "IsAfter                       NA    "
      ]
     },
     "metadata": {},
     "output_type": "display_data"
    }
   ],
   "source": [
    "modelNumberReviewComments = lmer(GeneralCommentsDiscussingBuild ~ \n",
    "            Additions +\n",
    "            Deletions +\n",
    "            IsMerged +\n",
    "            Commits +\n",
    "            Assignees + \n",
    "            ChangedFiles + \n",
    "            PrOpenedDaysAfterProjectStart +\n",
    "            IsAfter + \n",
    "            (1|ProjectLanguage) +\n",
    "            (1|ProjectName),\n",
    "          data= NumOfReviewCommentsData, \n",
    "          REML=FALSE)\n",
    "summary(modelNumberReviewComments)\n",
    "r.squaredGLMM(modelNumberReviewComments)\n",
    "vif.mer(modelNumberReviewComments)\n",
    "anova(modelNumberReviewComments)"
   ]
  },
  {
   "cell_type": "code",
   "execution_count": null,
   "metadata": {},
   "outputs": [],
   "source": []
  },
  {
   "cell_type": "code",
   "execution_count": null,
   "metadata": {},
   "outputs": [],
   "source": []
  }
 ],
 "metadata": {
  "kernelspec": {
   "display_name": "R",
   "language": "R",
   "name": "ir"
  },
  "language_info": {
   "codemirror_mode": "r",
   "file_extension": ".r",
   "mimetype": "text/x-r-source",
   "name": "R",
   "pygments_lexer": "r",
   "version": "3.4.3"
  }
 },
 "nbformat": 4,
 "nbformat_minor": 2
}
