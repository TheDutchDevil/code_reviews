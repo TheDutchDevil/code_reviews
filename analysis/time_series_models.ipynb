{
 "cells": [
  {
   "cell_type": "code",
   "execution_count": 3,
   "metadata": {},
   "outputs": [
    {
     "name": "stderr",
     "output_type": "stream",
     "text": [
      "Loading required package: Matrix\n",
      "Loading required package: lme4\n",
      "\n",
      "Attaching package: ‘lmerTest’\n",
      "\n",
      "The following object is masked from ‘package:lme4’:\n",
      "\n",
      "    lmer\n",
      "\n",
      "The following object is masked from ‘package:stats’:\n",
      "\n",
      "    step\n",
      "\n",
      "Loading required package: gsubfn\n",
      "Loading required package: proto\n",
      "Warning message:\n",
      "“no DISPLAY variable so Tk is not available”Loading required package: RSQLite\n"
     ]
    },
    {
     "data": {
      "text/plain": [
       "                       ProjectName         Language   ShareReviewComments\n",
       " AFNetworking/AFNetworking   : 25   C++        :200   Min.   :0.0000     \n",
       " AnalyticalGraphicsInc/cesium: 25   Java       :100   1st Qu.:0.0000     \n",
       " antlr/antlr4                : 25   JavaScript :100   Median :0.1621     \n",
       " apache/storm                : 25   Python     : 75   Mean   :0.2292     \n",
       " appcelerator/alloy          : 25   Objective-C: 50   3rd Qu.:0.3632     \n",
       " Automattic/_s               : 25   C#         : 25   Max.   :0.9634     \n",
       " (Other)                     :475   (Other)    : 75                      \n",
       "   Additions         Deletions        ChangedFiles       Assignees     \n",
       " Min.   :      0   Min.   :      0   Min.   :    0.0   Min.   : 0.000  \n",
       " 1st Qu.:    713   1st Qu.:    225   1st Qu.:   40.0   1st Qu.: 0.000  \n",
       " Median :   2864   Median :   1146   Median :  109.0   Median : 0.000  \n",
       " Mean   :  41546   Mean   :  16043   Mean   :  387.1   Mean   : 1.314  \n",
       " 3rd Qu.:  11377   3rd Qu.:   4621   3rd Qu.:  293.0   3rd Qu.: 1.000  \n",
       " Max.   :2871011   Max.   :1280926   Max.   :15203.0   Max.   :52.000  \n",
       "                                                                       \n",
       " ReviewComments    GeneralComments     TotalPrs         Commits      \n",
       " Min.   :   0.00   Min.   :  0.00   Min.   :  1.00   Min.   :   1.0  \n",
       " 1st Qu.:   0.00   1st Qu.: 21.00   1st Qu.: 11.00   1st Qu.:  33.0  \n",
       " Median :  13.00   Median : 50.00   Median : 21.00   Median :  75.0  \n",
       " Mean   :  47.03   Mean   : 91.57   Mean   : 27.21   Mean   : 170.9  \n",
       " 3rd Qu.:  52.00   3rd Qu.:116.00   3rd Qu.: 36.00   3rd Qu.: 198.0  \n",
       " Max.   :1530.00   Max.   :655.00   Max.   :153.00   Max.   :2206.0  \n",
       "                                                                     \n",
       "     Period  \n",
       " Min.   : 1  \n",
       " 1st Qu.: 7  \n",
       " Median :13  \n",
       " Mean   :13  \n",
       " 3rd Qu.:19  \n",
       " Max.   :25  \n",
       "             "
      ]
     },
     "metadata": {},
     "output_type": "display_data"
    }
   ],
   "source": [
    "library(lmerTest)\n",
    "library(MuMIn)\n",
    "library(VIF)\n",
    "library(sqldf)\n",
    "\n",
    "filename <- 'generated/metrics_for_time_series.csv'\n",
    "\n",
    "TimeSeriesData <- read.csv(file=filename, header=TRUE, sep=\",\")\n",
    "\n",
    "summary(TimeSeriesData)\n",
    "\n",
    "TimeSeriesData <- sqldf(\"select *\n",
    "                      from 'TimeSeriesData' \n",
    "                      where Period != 13\")\n",
    "\n",
    "\n",
    "TimeSeriesData$Intervention = TimeSeriesData$Period > 12\n",
    "TimeSeriesData$TimeAfterIntervention = ifelse(TimeSeriesData$Period>12, TimeSeriesData$Period-12, 0)"
   ]
  },
  {
   "cell_type": "code",
   "execution_count": 4,
   "metadata": {},
   "outputs": [],
   "source": [
    "vif.mer <- function (fit) {\n",
    "    ## adapted from rms::vif\n",
    "    \n",
    "    v <- vcov(fit)\n",
    "    nam <- names(fixef(fit))\n",
    "\n",
    "    ## exclude intercepts\n",
    "    ns <- sum(1 * (nam == \"Intercept\" | nam == \"(Intercept)\"))\n",
    "    if (ns > 0) {\n",
    "        v <- v[-(1:ns), -(1:ns), drop = FALSE]\n",
    "        nam <- nam[-(1:ns)]\n",
    "    }\n",
    "    \n",
    "    d <- diag(v)^0.5\n",
    "    v <- diag(solve(v/(d %o% d)))\n",
    "    names(v) <- nam\n",
    "    v\n",
    "}"
   ]
  },
  {
   "cell_type": "code",
   "execution_count": 5,
   "metadata": {},
   "outputs": [
    {
     "name": "stdout",
     "output_type": "stream",
     "text": [
      "  count(distinct(ProjectName))\n",
      "1                           25\n"
     ]
    }
   ],
   "source": [
    "projects <- sqldf(\"select count(distinct(ProjectName)) from TimeSeriesData\")\n",
    "\n",
    "print(projects)"
   ]
  },
  {
   "cell_type": "code",
   "execution_count": 6,
   "metadata": {},
   "outputs": [
    {
     "data": {
      "text/plain": [
       "Linear mixed model fit by maximum likelihood t-tests use Satterthwaite\n",
       "  approximations to degrees of freedom [lmerMod]\n",
       "Formula: log(ReviewComments + 1) ~ log(Additions + 1) + log(Deletions +  \n",
       "    1) + log(Commits + 1) + log(Assignees + 1) + log(ChangedFiles +  \n",
       "    1) + log(TotalPrs) + Intervention + Period + TimeAfterIntervention +  \n",
       "    (1 | Language) + (1 + Intervention | ProjectName)\n",
       "   Data: TimeSeriesData\n",
       "\n",
       "     AIC      BIC   logLik deviance df.resid \n",
       "  1665.4   1731.3   -817.7   1635.4      585 \n",
       "\n",
       "Scaled residuals: \n",
       "    Min      1Q  Median      3Q     Max \n",
       "-3.9820 -0.5585 -0.0258  0.6072  3.3021 \n",
       "\n",
       "Random effects:\n",
       " Groups      Name             Variance Std.Dev. Corr\n",
       " ProjectName (Intercept)      1.2093   1.0997       \n",
       "             InterventionTRUE 0.3125   0.5590   0.03\n",
       " Language    (Intercept)      0.0000   0.0000       \n",
       " Residual                     0.7254   0.8517       \n",
       "Number of obs: 600, groups:  ProjectName, 25; Language, 9\n",
       "\n",
       "Fixed effects:\n",
       "                        Estimate Std. Error         df t value Pr(>|t|)    \n",
       "(Intercept)            -0.877895   0.319611  90.800000  -2.747  0.00726 ** \n",
       "log(Additions + 1)      0.076395   0.041865 579.900000   1.825  0.06855 .  \n",
       "log(Deletions + 1)     -0.075760   0.037574 568.100000  -2.016  0.04424 *  \n",
       "log(Commits + 1)        0.274879   0.067756 585.200000   4.057 5.65e-05 ***\n",
       "log(Assignees + 1)      0.204176   0.073164 587.400000   2.791  0.00543 ** \n",
       "log(ChangedFiles + 1)  -0.006972   0.076463 575.300000  -0.091  0.92738    \n",
       "log(TotalPrs)           0.473724   0.087727 577.100000   5.400 9.75e-08 ***\n",
       "InterventionTRUE        0.165825   0.188485  98.900000   0.880  0.38111    \n",
       "Period                  0.047028   0.014457 551.000000   3.253  0.00121 ** \n",
       "TimeAfterIntervention  -0.033924   0.020429 551.400000  -1.661  0.09736 .  \n",
       "---\n",
       "Signif. codes:  0 ‘***’ 0.001 ‘**’ 0.01 ‘*’ 0.05 ‘.’ 0.1 ‘ ’ 1\n",
       "\n",
       "Correlation of Fixed Effects:\n",
       "            (Intr) lg(Ad+1) l(D+1) l(C+1) lg(As+1) l(CF+1 lg(TP) InTRUE Period\n",
       "lg(Addtn+1) -0.246                                                            \n",
       "lg(Dltns+1) -0.001 -0.216                                                     \n",
       "lg(Cmmts+1) -0.144 -0.240   -0.030                                            \n",
       "lg(Assgn+1)  0.049 -0.016    0.070  0.038                                     \n",
       "lg(ChngF+1)  0.161 -0.481   -0.517 -0.147 -0.023                              \n",
       "log(TtlPrs) -0.280  0.171   -0.001 -0.456 -0.247   -0.227                     \n",
       "IntrvntTRUE  0.149 -0.054   -0.013 -0.005  0.007    0.088 -0.104              \n",
       "Period      -0.269  0.033    0.040  0.044  0.052   -0.134  0.014 -0.421       \n",
       "TmAftrIntrv  0.139  0.002   -0.029 -0.022 -0.113    0.052  0.078 -0.110 -0.707"
      ]
     },
     "metadata": {},
     "output_type": "display_data"
    },
    {
     "data": {
      "text/html": [
       "<dl class=dl-horizontal>\n",
       "\t<dt>R2m</dt>\n",
       "\t\t<dd>0.251316965281901</dd>\n",
       "\t<dt>R2c</dt>\n",
       "\t\t<dd>0.74228556211868</dd>\n",
       "</dl>\n"
      ],
      "text/latex": [
       "\\begin{description*}\n",
       "\\item[R2m] 0.251316965281901\n",
       "\\item[R2c] 0.74228556211868\n",
       "\\end{description*}\n"
      ],
      "text/markdown": [
       "R2m\n",
       ":   0.251316965281901R2c\n",
       ":   0.74228556211868\n",
       "\n"
      ],
      "text/plain": [
       "      R2m       R2c \n",
       "0.2513170 0.7422856 "
      ]
     },
     "metadata": {},
     "output_type": "display_data"
    },
    {
     "data": {
      "text/html": [
       "<dl class=dl-horizontal>\n",
       "\t<dt>log(Additions + 1)</dt>\n",
       "\t\t<dd>3.91604811670434</dd>\n",
       "\t<dt>log(Deletions + 1)</dt>\n",
       "\t\t<dd>3.77499101204033</dd>\n",
       "\t<dt>log(Commits + 1)</dt>\n",
       "\t\t<dd>2.72731828235765</dd>\n",
       "\t<dt>log(Assignees + 1)</dt>\n",
       "\t\t<dd>1.10821971457843</dd>\n",
       "\t<dt>log(ChangedFiles + 1)</dt>\n",
       "\t\t<dd>5.97899715930181</dd>\n",
       "\t<dt>log(TotalPrs)</dt>\n",
       "\t\t<dd>2.0934647544821</dd>\n",
       "\t<dt>InterventionTRUE</dt>\n",
       "\t\t<dd>2.04925865951074</dd>\n",
       "\t<dt>Period</dt>\n",
       "\t\t<dd>4.09740829435141</dd>\n",
       "\t<dt>TimeAfterIntervention</dt>\n",
       "\t\t<dd>3.4109622645199</dd>\n",
       "</dl>\n"
      ],
      "text/latex": [
       "\\begin{description*}\n",
       "\\item[log(Additions + 1)] 3.91604811670434\n",
       "\\item[log(Deletions + 1)] 3.77499101204033\n",
       "\\item[log(Commits + 1)] 2.72731828235765\n",
       "\\item[log(Assignees + 1)] 1.10821971457843\n",
       "\\item[log(ChangedFiles + 1)] 5.97899715930181\n",
       "\\item[log(TotalPrs)] 2.0934647544821\n",
       "\\item[InterventionTRUE] 2.04925865951074\n",
       "\\item[Period] 4.09740829435141\n",
       "\\item[TimeAfterIntervention] 3.4109622645199\n",
       "\\end{description*}\n"
      ],
      "text/markdown": [
       "log(Additions + 1)\n",
       ":   3.91604811670434log(Deletions + 1)\n",
       ":   3.77499101204033log(Commits + 1)\n",
       ":   2.72731828235765log(Assignees + 1)\n",
       ":   1.10821971457843log(ChangedFiles + 1)\n",
       ":   5.97899715930181log(TotalPrs)\n",
       ":   2.0934647544821InterventionTRUE\n",
       ":   2.04925865951074Period\n",
       ":   4.09740829435141TimeAfterIntervention\n",
       ":   3.4109622645199\n",
       "\n"
      ],
      "text/plain": [
       "   log(Additions + 1)    log(Deletions + 1)      log(Commits + 1) \n",
       "             3.916048              3.774991              2.727318 \n",
       "   log(Assignees + 1) log(ChangedFiles + 1)         log(TotalPrs) \n",
       "             1.108220              5.978997              2.093465 \n",
       "     InterventionTRUE                Period TimeAfterIntervention \n",
       "             2.049259              4.097408              3.410962 "
      ]
     },
     "metadata": {},
     "output_type": "display_data"
    },
    {
     "data": {
      "text/html": [
       "<table>\n",
       "<thead><tr><th></th><th scope=col>Sum Sq</th><th scope=col>Mean Sq</th><th scope=col>NumDF</th><th scope=col>DenDF</th><th scope=col>F.value</th><th scope=col>Pr(&gt;F)</th></tr></thead>\n",
       "<tbody>\n",
       "\t<tr><th scope=row>log(Additions + 1)</th><td> 2.415377705</td><td> 2.415377705</td><td>1           </td><td>579.91598   </td><td> 3.329874263</td><td>6.854639e-02</td></tr>\n",
       "\t<tr><th scope=row>log(Deletions + 1)</th><td> 2.948923871</td><td> 2.948923871</td><td>1           </td><td>568.05700   </td><td> 4.065428641</td><td>4.423974e-02</td></tr>\n",
       "\t<tr><th scope=row>log(Commits + 1)</th><td>11.938390964</td><td>11.938390964</td><td>1           </td><td>585.17688   </td><td>16.458436593</td><td>5.647289e-05</td></tr>\n",
       "\t<tr><th scope=row>log(Assignees + 1)</th><td> 5.648993032</td><td> 5.648993032</td><td>1           </td><td>587.40847   </td><td> 7.787782617</td><td>5.430972e-03</td></tr>\n",
       "\t<tr><th scope=row>log(ChangedFiles + 1)</th><td> 0.006030321</td><td> 0.006030321</td><td>1           </td><td>575.32419   </td><td> 0.008313487</td><td>9.273826e-01</td></tr>\n",
       "\t<tr><th scope=row>log(TotalPrs)</th><td>21.151408839</td><td>21.151408839</td><td>1           </td><td>577.11906   </td><td>29.159634850</td><td>9.753289e-08</td></tr>\n",
       "\t<tr><th scope=row>Intervention</th><td> 0.561439002</td><td> 0.561439002</td><td>1           </td><td> 98.93742   </td><td> 0.774007841</td><td>3.811120e-01</td></tr>\n",
       "\t<tr><th scope=row>Period</th><td> 7.676133730</td><td> 7.676133730</td><td>1           </td><td>550.95645   </td><td>10.582427787</td><td>1.211589e-03</td></tr>\n",
       "\t<tr><th scope=row>TimeAfterIntervention</th><td> 2.000292510</td><td> 2.000292510</td><td>1           </td><td>551.37491   </td><td> 2.757631874</td><td>9.735993e-02</td></tr>\n",
       "</tbody>\n",
       "</table>\n"
      ],
      "text/latex": [
       "\\begin{tabular}{r|llllll}\n",
       "  & Sum Sq & Mean Sq & NumDF & DenDF & F.value & Pr(>F)\\\\\n",
       "\\hline\n",
       "\tlog(Additions + 1) &  2.415377705 &  2.415377705 & 1            & 579.91598    &  3.329874263 & 6.854639e-02\\\\\n",
       "\tlog(Deletions + 1) &  2.948923871 &  2.948923871 & 1            & 568.05700    &  4.065428641 & 4.423974e-02\\\\\n",
       "\tlog(Commits + 1) & 11.938390964 & 11.938390964 & 1            & 585.17688    & 16.458436593 & 5.647289e-05\\\\\n",
       "\tlog(Assignees + 1) &  5.648993032 &  5.648993032 & 1            & 587.40847    &  7.787782617 & 5.430972e-03\\\\\n",
       "\tlog(ChangedFiles + 1) &  0.006030321 &  0.006030321 & 1            & 575.32419    &  0.008313487 & 9.273826e-01\\\\\n",
       "\tlog(TotalPrs) & 21.151408839 & 21.151408839 & 1            & 577.11906    & 29.159634850 & 9.753289e-08\\\\\n",
       "\tIntervention &  0.561439002 &  0.561439002 & 1            &  98.93742    &  0.774007841 & 3.811120e-01\\\\\n",
       "\tPeriod &  7.676133730 &  7.676133730 & 1            & 550.95645    & 10.582427787 & 1.211589e-03\\\\\n",
       "\tTimeAfterIntervention &  2.000292510 &  2.000292510 & 1            & 551.37491    &  2.757631874 & 9.735993e-02\\\\\n",
       "\\end{tabular}\n"
      ],
      "text/markdown": [
       "\n",
       "| <!--/--> | Sum Sq | Mean Sq | NumDF | DenDF | F.value | Pr(>F) | \n",
       "|---|---|---|---|---|---|---|---|---|\n",
       "| log(Additions + 1) |  2.415377705 |  2.415377705 | 1            | 579.91598    |  3.329874263 | 6.854639e-02 | \n",
       "| log(Deletions + 1) |  2.948923871 |  2.948923871 | 1            | 568.05700    |  4.065428641 | 4.423974e-02 | \n",
       "| log(Commits + 1) | 11.938390964 | 11.938390964 | 1            | 585.17688    | 16.458436593 | 5.647289e-05 | \n",
       "| log(Assignees + 1) |  5.648993032 |  5.648993032 | 1            | 587.40847    |  7.787782617 | 5.430972e-03 | \n",
       "| log(ChangedFiles + 1) |  0.006030321 |  0.006030321 | 1            | 575.32419    |  0.008313487 | 9.273826e-01 | \n",
       "| log(TotalPrs) | 21.151408839 | 21.151408839 | 1            | 577.11906    | 29.159634850 | 9.753289e-08 | \n",
       "| Intervention |  0.561439002 |  0.561439002 | 1            |  98.93742    |  0.774007841 | 3.811120e-01 | \n",
       "| Period |  7.676133730 |  7.676133730 | 1            | 550.95645    | 10.582427787 | 1.211589e-03 | \n",
       "| TimeAfterIntervention |  2.000292510 |  2.000292510 | 1            | 551.37491    |  2.757631874 | 9.735993e-02 | \n",
       "\n",
       "\n"
      ],
      "text/plain": [
       "                      Sum Sq       Mean Sq      NumDF DenDF     F.value     \n",
       "log(Additions + 1)     2.415377705  2.415377705 1     579.91598  3.329874263\n",
       "log(Deletions + 1)     2.948923871  2.948923871 1     568.05700  4.065428641\n",
       "log(Commits + 1)      11.938390964 11.938390964 1     585.17688 16.458436593\n",
       "log(Assignees + 1)     5.648993032  5.648993032 1     587.40847  7.787782617\n",
       "log(ChangedFiles + 1)  0.006030321  0.006030321 1     575.32419  0.008313487\n",
       "log(TotalPrs)         21.151408839 21.151408839 1     577.11906 29.159634850\n",
       "Intervention           0.561439002  0.561439002 1      98.93742  0.774007841\n",
       "Period                 7.676133730  7.676133730 1     550.95645 10.582427787\n",
       "TimeAfterIntervention  2.000292510  2.000292510 1     551.37491  2.757631874\n",
       "                      Pr(>F)      \n",
       "log(Additions + 1)    6.854639e-02\n",
       "log(Deletions + 1)    4.423974e-02\n",
       "log(Commits + 1)      5.647289e-05\n",
       "log(Assignees + 1)    5.430972e-03\n",
       "log(ChangedFiles + 1) 9.273826e-01\n",
       "log(TotalPrs)         9.753289e-08\n",
       "Intervention          3.811120e-01\n",
       "Period                1.211589e-03\n",
       "TimeAfterIntervention 9.735993e-02"
      ]
     },
     "metadata": {},
     "output_type": "display_data"
    }
   ],
   "source": [
    "modelNumberReviewComments = lmer(log(ReviewComments + 1) ~ \n",
    "            log(Additions + 1) +\n",
    "            log(Deletions + 1) +\n",
    "            log(Commits + 1) +\n",
    "            log(Assignees + 1) + \n",
    "            log(ChangedFiles + 1) + \n",
    "            log(TotalPrs) +\n",
    "            Intervention +\n",
    "            Period + \n",
    "            TimeAfterIntervention +\n",
    "            (1|Language) +\n",
    "            (1+Intervention|ProjectName),\n",
    "          data= TimeSeriesData, \n",
    "          REML=FALSE)\n",
    "summary(modelNumberReviewComments)\n",
    "r.squaredGLMM(modelNumberReviewComments)\n",
    "vif.mer(modelNumberReviewComments)\n",
    "anova(modelNumberReviewComments)"
   ]
  },
  {
   "cell_type": "code",
   "execution_count": 7,
   "metadata": {},
   "outputs": [
    {
     "data": {
      "text/plain": [
       "Linear mixed model fit by maximum likelihood t-tests use Satterthwaite\n",
       "  approximations to degrees of freedom [lmerMod]\n",
       "Formula: log(ShareReviewComments + 1) ~ log(Additions + 1) + log(Deletions +  \n",
       "    1) + log(Commits + 1) + log(Assignees + 1) + log(ChangedFiles +  \n",
       "    1) + log(TotalPrs) + Intervention + Period + TimeAfterIntervention +  \n",
       "    (1 | Language) + (1 + Intervention | ProjectName)\n",
       "   Data: TimeSeriesData\n",
       "\n",
       "     AIC      BIC   logLik deviance df.resid \n",
       "  -846.0   -780.1    438.0   -876.0      585 \n",
       "\n",
       "Scaled residuals: \n",
       "    Min      1Q  Median      3Q     Max \n",
       "-3.9497 -0.5225 -0.0739  0.4555  4.0681 \n",
       "\n",
       "Random effects:\n",
       " Groups      Name             Variance Std.Dev. Corr\n",
       " ProjectName (Intercept)      0.011712 0.10822      \n",
       "             InterventionTRUE 0.005233 0.07234  0.28\n",
       " Language    (Intercept)      0.000000 0.00000      \n",
       " Residual                     0.011218 0.10592      \n",
       "Number of obs: 600, groups:  ProjectName, 25; Language, 9\n",
       "\n",
       "Fixed effects:\n",
       "                        Estimate Std. Error         df t value Pr(>|t|)    \n",
       "(Intercept)             0.004284   0.035930 133.000000   0.119  0.90527    \n",
       "log(Additions + 1)      0.009501   0.005184 583.600000   1.833  0.06735 .  \n",
       "log(Deletions + 1)     -0.007771   0.004664 571.500000  -1.666  0.09619 .  \n",
       "log(Commits + 1)        0.035317   0.008330 571.500000   4.240 2.61e-05 ***\n",
       "log(Assignees + 1)      0.013767   0.009078 595.600000   1.517  0.12991    \n",
       "log(ChangedFiles + 1)  -0.008638   0.009485 579.200000  -0.911  0.36283    \n",
       "log(TotalPrs)          -0.004487   0.010700 531.100000  -0.419  0.67511    \n",
       "InterventionTRUE        0.020335   0.023773  93.800000   0.855  0.39453    \n",
       "Period                  0.005136   0.001798 551.400000   2.857  0.00444 ** \n",
       "TimeAfterIntervention  -0.005311   0.002540 551.900000  -2.091  0.03701 *  \n",
       "---\n",
       "Signif. codes:  0 ‘***’ 0.001 ‘**’ 0.01 ‘*’ 0.05 ‘.’ 0.1 ‘ ’ 1\n",
       "\n",
       "Correlation of Fixed Effects:\n",
       "            (Intr) lg(Ad+1) l(D+1) l(C+1) lg(As+1) l(CF+1 lg(TP) InTRUE Period\n",
       "lg(Addtn+1) -0.270                                                            \n",
       "lg(Dltns+1) -0.001 -0.215                                                     \n",
       "lg(Cmmts+1) -0.162 -0.235   -0.032                                            \n",
       "lg(Assgn+1)  0.053 -0.013    0.067  0.035                                     \n",
       "lg(ChngF+1)  0.176 -0.481   -0.519 -0.151 -0.024                              \n",
       "log(TtlPrs) -0.307  0.166    0.002 -0.449 -0.246   -0.222                     \n",
       "IntrvntTRUE  0.251 -0.052   -0.013 -0.006  0.006    0.086 -0.101              \n",
       "Period      -0.298  0.033    0.040  0.045  0.052   -0.134  0.013 -0.415       \n",
       "TmAftrIntrv  0.155  0.001   -0.029 -0.021 -0.112    0.053  0.077 -0.108 -0.707"
      ]
     },
     "metadata": {},
     "output_type": "display_data"
    },
    {
     "data": {
      "text/html": [
       "<dl class=dl-horizontal>\n",
       "\t<dt>R2m</dt>\n",
       "\t\t<dd>0.081392577239675</dd>\n",
       "\t<dt>R2c</dt>\n",
       "\t\t<dd>0.628217897217407</dd>\n",
       "</dl>\n"
      ],
      "text/latex": [
       "\\begin{description*}\n",
       "\\item[R2m] 0.081392577239675\n",
       "\\item[R2c] 0.628217897217407\n",
       "\\end{description*}\n"
      ],
      "text/markdown": [
       "R2m\n",
       ":   0.081392577239675R2c\n",
       ":   0.628217897217407\n",
       "\n"
      ],
      "text/plain": [
       "       R2m        R2c \n",
       "0.08139258 0.62821790 "
      ]
     },
     "metadata": {},
     "output_type": "display_data"
    },
    {
     "data": {
      "text/html": [
       "<dl class=dl-horizontal>\n",
       "\t<dt>log(Additions + 1)</dt>\n",
       "\t\t<dd>3.92435962846704</dd>\n",
       "\t<dt>log(Deletions + 1)</dt>\n",
       "\t\t<dd>3.7983588174286</dd>\n",
       "\t<dt>log(Commits + 1)</dt>\n",
       "\t\t<dd>2.70416439195531</dd>\n",
       "\t<dt>log(Assignees + 1)</dt>\n",
       "\t\t<dd>1.10745493697875</dd>\n",
       "\t<dt>log(ChangedFiles + 1)</dt>\n",
       "\t\t<dd>6.00638459064103</dd>\n",
       "\t<dt>log(TotalPrs)</dt>\n",
       "\t\t<dd>2.05410956325232</dd>\n",
       "\t<dt>InterventionTRUE</dt>\n",
       "\t\t<dd>1.98931984847371</dd>\n",
       "\t<dt>Period</dt>\n",
       "\t\t<dd>3.98197675517206</dd>\n",
       "\t<dt>TimeAfterIntervention</dt>\n",
       "\t\t<dd>3.33391651630391</dd>\n",
       "</dl>\n"
      ],
      "text/latex": [
       "\\begin{description*}\n",
       "\\item[log(Additions + 1)] 3.92435962846704\n",
       "\\item[log(Deletions + 1)] 3.7983588174286\n",
       "\\item[log(Commits + 1)] 2.70416439195531\n",
       "\\item[log(Assignees + 1)] 1.10745493697875\n",
       "\\item[log(ChangedFiles + 1)] 6.00638459064103\n",
       "\\item[log(TotalPrs)] 2.05410956325232\n",
       "\\item[InterventionTRUE] 1.98931984847371\n",
       "\\item[Period] 3.98197675517206\n",
       "\\item[TimeAfterIntervention] 3.33391651630391\n",
       "\\end{description*}\n"
      ],
      "text/markdown": [
       "log(Additions + 1)\n",
       ":   3.92435962846704log(Deletions + 1)\n",
       ":   3.7983588174286log(Commits + 1)\n",
       ":   2.70416439195531log(Assignees + 1)\n",
       ":   1.10745493697875log(ChangedFiles + 1)\n",
       ":   6.00638459064103log(TotalPrs)\n",
       ":   2.05410956325232InterventionTRUE\n",
       ":   1.98931984847371Period\n",
       ":   3.98197675517206TimeAfterIntervention\n",
       ":   3.33391651630391\n",
       "\n"
      ],
      "text/plain": [
       "   log(Additions + 1)    log(Deletions + 1)      log(Commits + 1) \n",
       "             3.924360              3.798359              2.704164 \n",
       "   log(Assignees + 1) log(ChangedFiles + 1)         log(TotalPrs) \n",
       "             1.107455              6.006385              2.054110 \n",
       "     InterventionTRUE                Period TimeAfterIntervention \n",
       "             1.989320              3.981977              3.333917 "
      ]
     },
     "metadata": {},
     "output_type": "display_data"
    },
    {
     "data": {
      "text/html": [
       "<table>\n",
       "<thead><tr><th></th><th scope=col>Sum Sq</th><th scope=col>Mean Sq</th><th scope=col>NumDF</th><th scope=col>DenDF</th><th scope=col>F.value</th><th scope=col>Pr(&gt;F)</th></tr></thead>\n",
       "<tbody>\n",
       "\t<tr><th scope=row>log(Additions + 1)</th><td>0.037679608 </td><td>0.037679608 </td><td>1           </td><td>583.55777   </td><td> 3.3588465  </td><td>6.735421e-02</td></tr>\n",
       "\t<tr><th scope=row>log(Deletions + 1)</th><td>0.031149973 </td><td>0.031149973 </td><td>1           </td><td>571.50736   </td><td> 2.7767798  </td><td>9.618822e-02</td></tr>\n",
       "\t<tr><th scope=row>log(Commits + 1)</th><td>0.201637402 </td><td>0.201637402 </td><td>1           </td><td>571.53740   </td><td>17.9744193  </td><td>2.610674e-05</td></tr>\n",
       "\t<tr><th scope=row>log(Assignees + 1)</th><td>0.025800071 </td><td>0.025800071 </td><td>1           </td><td>595.62380   </td><td> 2.2998774  </td><td>1.299147e-01</td></tr>\n",
       "\t<tr><th scope=row>log(ChangedFiles + 1)</th><td>0.009304004 </td><td>0.009304004 </td><td>1           </td><td>579.17940   </td><td> 0.8293802  </td><td>3.628307e-01</td></tr>\n",
       "\t<tr><th scope=row>log(TotalPrs)</th><td>0.001972951 </td><td>0.001972951 </td><td>1           </td><td>531.08099   </td><td> 0.1758734  </td><td>6.751134e-01</td></tr>\n",
       "\t<tr><th scope=row>Intervention</th><td>0.008207643 </td><td>0.008207643 </td><td>1           </td><td> 93.78221   </td><td> 0.7316480  </td><td>3.945295e-01</td></tr>\n",
       "\t<tr><th scope=row>Period</th><td>0.091569673 </td><td>0.091569673 </td><td>1           </td><td>551.40581   </td><td> 8.1627301  </td><td>4.437367e-03</td></tr>\n",
       "\t<tr><th scope=row>TimeAfterIntervention</th><td>0.049035608 </td><td>0.049035608 </td><td>1           </td><td>551.86980   </td><td> 4.3711463  </td><td>3.700925e-02</td></tr>\n",
       "</tbody>\n",
       "</table>\n"
      ],
      "text/latex": [
       "\\begin{tabular}{r|llllll}\n",
       "  & Sum Sq & Mean Sq & NumDF & DenDF & F.value & Pr(>F)\\\\\n",
       "\\hline\n",
       "\tlog(Additions + 1) & 0.037679608  & 0.037679608  & 1            & 583.55777    &  3.3588465   & 6.735421e-02\\\\\n",
       "\tlog(Deletions + 1) & 0.031149973  & 0.031149973  & 1            & 571.50736    &  2.7767798   & 9.618822e-02\\\\\n",
       "\tlog(Commits + 1) & 0.201637402  & 0.201637402  & 1            & 571.53740    & 17.9744193   & 2.610674e-05\\\\\n",
       "\tlog(Assignees + 1) & 0.025800071  & 0.025800071  & 1            & 595.62380    &  2.2998774   & 1.299147e-01\\\\\n",
       "\tlog(ChangedFiles + 1) & 0.009304004  & 0.009304004  & 1            & 579.17940    &  0.8293802   & 3.628307e-01\\\\\n",
       "\tlog(TotalPrs) & 0.001972951  & 0.001972951  & 1            & 531.08099    &  0.1758734   & 6.751134e-01\\\\\n",
       "\tIntervention & 0.008207643  & 0.008207643  & 1            &  93.78221    &  0.7316480   & 3.945295e-01\\\\\n",
       "\tPeriod & 0.091569673  & 0.091569673  & 1            & 551.40581    &  8.1627301   & 4.437367e-03\\\\\n",
       "\tTimeAfterIntervention & 0.049035608  & 0.049035608  & 1            & 551.86980    &  4.3711463   & 3.700925e-02\\\\\n",
       "\\end{tabular}\n"
      ],
      "text/markdown": [
       "\n",
       "| <!--/--> | Sum Sq | Mean Sq | NumDF | DenDF | F.value | Pr(>F) | \n",
       "|---|---|---|---|---|---|---|---|---|\n",
       "| log(Additions + 1) | 0.037679608  | 0.037679608  | 1            | 583.55777    |  3.3588465   | 6.735421e-02 | \n",
       "| log(Deletions + 1) | 0.031149973  | 0.031149973  | 1            | 571.50736    |  2.7767798   | 9.618822e-02 | \n",
       "| log(Commits + 1) | 0.201637402  | 0.201637402  | 1            | 571.53740    | 17.9744193   | 2.610674e-05 | \n",
       "| log(Assignees + 1) | 0.025800071  | 0.025800071  | 1            | 595.62380    |  2.2998774   | 1.299147e-01 | \n",
       "| log(ChangedFiles + 1) | 0.009304004  | 0.009304004  | 1            | 579.17940    |  0.8293802   | 3.628307e-01 | \n",
       "| log(TotalPrs) | 0.001972951  | 0.001972951  | 1            | 531.08099    |  0.1758734   | 6.751134e-01 | \n",
       "| Intervention | 0.008207643  | 0.008207643  | 1            |  93.78221    |  0.7316480   | 3.945295e-01 | \n",
       "| Period | 0.091569673  | 0.091569673  | 1            | 551.40581    |  8.1627301   | 4.437367e-03 | \n",
       "| TimeAfterIntervention | 0.049035608  | 0.049035608  | 1            | 551.86980    |  4.3711463   | 3.700925e-02 | \n",
       "\n",
       "\n"
      ],
      "text/plain": [
       "                      Sum Sq      Mean Sq     NumDF DenDF     F.value   \n",
       "log(Additions + 1)    0.037679608 0.037679608 1     583.55777  3.3588465\n",
       "log(Deletions + 1)    0.031149973 0.031149973 1     571.50736  2.7767798\n",
       "log(Commits + 1)      0.201637402 0.201637402 1     571.53740 17.9744193\n",
       "log(Assignees + 1)    0.025800071 0.025800071 1     595.62380  2.2998774\n",
       "log(ChangedFiles + 1) 0.009304004 0.009304004 1     579.17940  0.8293802\n",
       "log(TotalPrs)         0.001972951 0.001972951 1     531.08099  0.1758734\n",
       "Intervention          0.008207643 0.008207643 1      93.78221  0.7316480\n",
       "Period                0.091569673 0.091569673 1     551.40581  8.1627301\n",
       "TimeAfterIntervention 0.049035608 0.049035608 1     551.86980  4.3711463\n",
       "                      Pr(>F)      \n",
       "log(Additions + 1)    6.735421e-02\n",
       "log(Deletions + 1)    9.618822e-02\n",
       "log(Commits + 1)      2.610674e-05\n",
       "log(Assignees + 1)    1.299147e-01\n",
       "log(ChangedFiles + 1) 3.628307e-01\n",
       "log(TotalPrs)         6.751134e-01\n",
       "Intervention          3.945295e-01\n",
       "Period                4.437367e-03\n",
       "TimeAfterIntervention 3.700925e-02"
      ]
     },
     "metadata": {},
     "output_type": "display_data"
    }
   ],
   "source": [
    "modelShareReviewComments = lmer(log(ShareReviewComments + 1) ~ \n",
    "            log(Additions + 1) +\n",
    "            log(Deletions + 1) +\n",
    "            log(Commits + 1) +\n",
    "            log(Assignees + 1) + \n",
    "            log(ChangedFiles + 1) + \n",
    "            log(TotalPrs) +\n",
    "            Intervention +\n",
    "            Period + \n",
    "            TimeAfterIntervention +\n",
    "            (1|Language) +\n",
    "            (1+Intervention|ProjectName),\n",
    "          data= TimeSeriesData, \n",
    "          REML=FALSE)\n",
    "summary(modelShareReviewComments)\n",
    "r.squaredGLMM(modelShareReviewComments)\n",
    "vif.mer(modelShareReviewComments)\n",
    "anova(modelShareReviewComments)"
   ]
  },
  {
   "cell_type": "code",
   "execution_count": 8,
   "metadata": {},
   "outputs": [
    {
     "data": {
      "text/plain": [
       "Linear mixed model fit by maximum likelihood t-tests use Satterthwaite\n",
       "  approximations to degrees of freedom [lmerMod]\n",
       "Formula: log(GeneralComments + 1) ~ log(Additions + 1) + log(Deletions +  \n",
       "    1) + log(Commits + 1) + log(Assignees + 1) + log(ChangedFiles +  \n",
       "    1) + log(TotalPrs) + Intervention + Period + TimeAfterIntervention +  \n",
       "    (1 | Language) + (1 + Intervention | ProjectName)\n",
       "   Data: TimeSeriesData\n",
       "\n",
       "     AIC      BIC   logLik deviance df.resid \n",
       "  1067.1   1133.0   -518.5   1037.1      585 \n",
       "\n",
       "Scaled residuals: \n",
       "    Min      1Q  Median      3Q     Max \n",
       "-3.9791 -0.4745  0.0650  0.6123  3.2999 \n",
       "\n",
       "Random effects:\n",
       " Groups      Name             Variance Std.Dev. Corr \n",
       " ProjectName (Intercept)      0.4641   0.6812        \n",
       "             InterventionTRUE 0.1612   0.4015   -0.58\n",
       " Language    (Intercept)      0.0000   0.0000        \n",
       " Residual                     0.2689   0.5186        \n",
       "Number of obs: 600, groups:  ProjectName, 25; Language, 9\n",
       "\n",
       "Fixed effects:\n",
       "                        Estimate Std. Error         df t value Pr(>|t|)    \n",
       "(Intercept)            6.966e-01  1.954e-01  8.650e+01   3.565 0.000596 ***\n",
       "log(Additions + 1)     2.297e-02  2.552e-02  5.798e+02   0.900 0.368354    \n",
       "log(Deletions + 1)    -8.660e-04  2.287e-02  5.675e+02  -0.038 0.969805    \n",
       "log(Commits + 1)       3.933e-02  4.148e-02  5.953e+02   0.948 0.343321    \n",
       "log(Assignees + 1)     1.236e-01  4.384e-02  5.515e+02   2.819 0.004995 ** \n",
       "log(ChangedFiles + 1)  2.664e-02  4.648e-02  5.765e+02   0.573 0.566768    \n",
       "log(TotalPrs)          8.369e-01  5.382e-02  5.969e+02  15.552  < 2e-16 ***\n",
       "InterventionTRUE       9.636e-02  1.224e-01  7.530e+01   0.787 0.433680    \n",
       "Period                 5.904e-03  8.802e-03  5.488e+02   0.671 0.502647    \n",
       "TimeAfterIntervention  7.083e-04  1.243e-02  5.498e+02   0.057 0.954596    \n",
       "---\n",
       "Signif. codes:  0 ‘***’ 0.001 ‘**’ 0.01 ‘*’ 0.05 ‘.’ 0.1 ‘ ’ 1\n",
       "\n",
       "Correlation of Fixed Effects:\n",
       "            (Intr) lg(Ad+1) l(D+1) l(C+1) lg(As+1) l(CF+1 lg(TP) InTRUE Period\n",
       "lg(Addtn+1) -0.244                                                            \n",
       "lg(Dltns+1) -0.002 -0.218                                                     \n",
       "lg(Cmmts+1) -0.138 -0.245   -0.028                                            \n",
       "lg(Assgn+1)  0.048 -0.018    0.071  0.030                                     \n",
       "lg(ChngF+1)  0.161 -0.480   -0.514 -0.141 -0.024                              \n",
       "log(TtlPrs) -0.272  0.176   -0.002 -0.467 -0.232   -0.233                     \n",
       "IntrvntTRUE -0.139 -0.051   -0.012 -0.003  0.005    0.083 -0.099              \n",
       "Period      -0.269  0.033    0.040  0.043  0.051   -0.134  0.017 -0.395       \n",
       "TmAftrIntrv  0.140  0.002   -0.029 -0.022 -0.111    0.052  0.075 -0.103 -0.707"
      ]
     },
     "metadata": {},
     "output_type": "display_data"
    },
    {
     "data": {
      "text/html": [
       "<dl class=dl-horizontal>\n",
       "\t<dt>R2m</dt>\n",
       "\t\t<dd>0.549064747299481</dd>\n",
       "\t<dt>R2c</dt>\n",
       "\t\t<dd>0.814481400120828</dd>\n",
       "</dl>\n"
      ],
      "text/latex": [
       "\\begin{description*}\n",
       "\\item[R2m] 0.549064747299481\n",
       "\\item[R2c] 0.814481400120828\n",
       "\\end{description*}\n"
      ],
      "text/markdown": [
       "R2m\n",
       ":   0.549064747299481R2c\n",
       ":   0.814481400120828\n",
       "\n"
      ],
      "text/plain": [
       "      R2m       R2c \n",
       "0.5490647 0.8144814 "
      ]
     },
     "metadata": {},
     "output_type": "display_data"
    },
    {
     "data": {
      "text/html": [
       "<dl class=dl-horizontal>\n",
       "\t<dt>log(Additions + 1)</dt>\n",
       "\t\t<dd>3.94560568831343</dd>\n",
       "\t<dt>log(Deletions + 1)</dt>\n",
       "\t\t<dd>3.78172469300293</dd>\n",
       "\t<dt>log(Commits + 1)</dt>\n",
       "\t\t<dd>2.79521787205299</dd>\n",
       "\t<dt>log(Assignees + 1)</dt>\n",
       "\t\t<dd>1.10050705605833</dd>\n",
       "\t<dt>log(ChangedFiles + 1)</dt>\n",
       "\t\t<dd>6.01012039331916</dd>\n",
       "\t<dt>log(TotalPrs)</dt>\n",
       "\t\t<dd>2.15478789562386</dd>\n",
       "\t<dt>InterventionTRUE</dt>\n",
       "\t\t<dd>1.81857271637158</dd>\n",
       "\t<dt>Period</dt>\n",
       "\t\t<dd>3.64882255425934</dd>\n",
       "\t<dt>TimeAfterIntervention</dt>\n",
       "\t\t<dd>3.11070040532047</dd>\n",
       "</dl>\n"
      ],
      "text/latex": [
       "\\begin{description*}\n",
       "\\item[log(Additions + 1)] 3.94560568831343\n",
       "\\item[log(Deletions + 1)] 3.78172469300293\n",
       "\\item[log(Commits + 1)] 2.79521787205299\n",
       "\\item[log(Assignees + 1)] 1.10050705605833\n",
       "\\item[log(ChangedFiles + 1)] 6.01012039331916\n",
       "\\item[log(TotalPrs)] 2.15478789562386\n",
       "\\item[InterventionTRUE] 1.81857271637158\n",
       "\\item[Period] 3.64882255425934\n",
       "\\item[TimeAfterIntervention] 3.11070040532047\n",
       "\\end{description*}\n"
      ],
      "text/markdown": [
       "log(Additions + 1)\n",
       ":   3.94560568831343log(Deletions + 1)\n",
       ":   3.78172469300293log(Commits + 1)\n",
       ":   2.79521787205299log(Assignees + 1)\n",
       ":   1.10050705605833log(ChangedFiles + 1)\n",
       ":   6.01012039331916log(TotalPrs)\n",
       ":   2.15478789562386InterventionTRUE\n",
       ":   1.81857271637158Period\n",
       ":   3.64882255425934TimeAfterIntervention\n",
       ":   3.11070040532047\n",
       "\n"
      ],
      "text/plain": [
       "   log(Additions + 1)    log(Deletions + 1)      log(Commits + 1) \n",
       "             3.945606              3.781725              2.795218 \n",
       "   log(Assignees + 1) log(ChangedFiles + 1)         log(TotalPrs) \n",
       "             1.100507              6.010120              2.154788 \n",
       "     InterventionTRUE                Period TimeAfterIntervention \n",
       "             1.818573              3.648823              3.110700 "
      ]
     },
     "metadata": {},
     "output_type": "display_data"
    },
    {
     "data": {
      "text/html": [
       "<table>\n",
       "<thead><tr><th></th><th scope=col>Sum Sq</th><th scope=col>Mean Sq</th><th scope=col>NumDF</th><th scope=col>DenDF</th><th scope=col>F.value</th><th scope=col>Pr(&gt;F)</th></tr></thead>\n",
       "<tbody>\n",
       "\t<tr><th scope=row>log(Additions + 1)</th><td>2.179575e-01</td><td>2.179575e-01</td><td>1           </td><td>579.76503   </td><td>8.104740e-01</td><td>0.368353936 </td></tr>\n",
       "\t<tr><th scope=row>log(Deletions + 1)</th><td>3.856649e-04</td><td>3.856649e-04</td><td>1           </td><td>567.48403   </td><td>1.434093e-03</td><td>0.969805108 </td></tr>\n",
       "\t<tr><th scope=row>log(Commits + 1)</th><td>2.418783e-01</td><td>2.418783e-01</td><td>1           </td><td>595.32659   </td><td>8.994235e-01</td><td>0.343321140 </td></tr>\n",
       "\t<tr><th scope=row>log(Assignees + 1)</th><td>2.136683e+00</td><td>2.136683e+00</td><td>1           </td><td>551.48490   </td><td>7.945248e+00</td><td>0.004994532 </td></tr>\n",
       "\t<tr><th scope=row>log(ChangedFiles + 1)</th><td>8.834162e-02</td><td>8.834162e-02</td><td>1           </td><td>576.47976   </td><td>3.284980e-01</td><td>0.566768364 </td></tr>\n",
       "\t<tr><th scope=row>log(TotalPrs)</th><td>6.504560e+01</td><td>6.504560e+01</td><td>1           </td><td>596.89447   </td><td>2.418718e+02</td><td>0.000000000 </td></tr>\n",
       "\t<tr><th scope=row>Intervention</th><td>1.666162e-01</td><td>1.666162e-01</td><td>1           </td><td> 75.31166   </td><td>6.195617e-01</td><td>0.433680331 </td></tr>\n",
       "\t<tr><th scope=row>Period</th><td>1.209998e-01</td><td>1.209998e-01</td><td>1           </td><td>548.80124   </td><td>4.499375e-01</td><td>0.502646839 </td></tr>\n",
       "\t<tr><th scope=row>TimeAfterIntervention</th><td>8.725965e-04</td><td>8.725965e-04</td><td>1           </td><td>549.82086   </td><td>3.244747e-03</td><td>0.954595620 </td></tr>\n",
       "</tbody>\n",
       "</table>\n"
      ],
      "text/latex": [
       "\\begin{tabular}{r|llllll}\n",
       "  & Sum Sq & Mean Sq & NumDF & DenDF & F.value & Pr(>F)\\\\\n",
       "\\hline\n",
       "\tlog(Additions + 1) & 2.179575e-01 & 2.179575e-01 & 1            & 579.76503    & 8.104740e-01 & 0.368353936 \\\\\n",
       "\tlog(Deletions + 1) & 3.856649e-04 & 3.856649e-04 & 1            & 567.48403    & 1.434093e-03 & 0.969805108 \\\\\n",
       "\tlog(Commits + 1) & 2.418783e-01 & 2.418783e-01 & 1            & 595.32659    & 8.994235e-01 & 0.343321140 \\\\\n",
       "\tlog(Assignees + 1) & 2.136683e+00 & 2.136683e+00 & 1            & 551.48490    & 7.945248e+00 & 0.004994532 \\\\\n",
       "\tlog(ChangedFiles + 1) & 8.834162e-02 & 8.834162e-02 & 1            & 576.47976    & 3.284980e-01 & 0.566768364 \\\\\n",
       "\tlog(TotalPrs) & 6.504560e+01 & 6.504560e+01 & 1            & 596.89447    & 2.418718e+02 & 0.000000000 \\\\\n",
       "\tIntervention & 1.666162e-01 & 1.666162e-01 & 1            &  75.31166    & 6.195617e-01 & 0.433680331 \\\\\n",
       "\tPeriod & 1.209998e-01 & 1.209998e-01 & 1            & 548.80124    & 4.499375e-01 & 0.502646839 \\\\\n",
       "\tTimeAfterIntervention & 8.725965e-04 & 8.725965e-04 & 1            & 549.82086    & 3.244747e-03 & 0.954595620 \\\\\n",
       "\\end{tabular}\n"
      ],
      "text/markdown": [
       "\n",
       "| <!--/--> | Sum Sq | Mean Sq | NumDF | DenDF | F.value | Pr(>F) | \n",
       "|---|---|---|---|---|---|---|---|---|\n",
       "| log(Additions + 1) | 2.179575e-01 | 2.179575e-01 | 1            | 579.76503    | 8.104740e-01 | 0.368353936  | \n",
       "| log(Deletions + 1) | 3.856649e-04 | 3.856649e-04 | 1            | 567.48403    | 1.434093e-03 | 0.969805108  | \n",
       "| log(Commits + 1) | 2.418783e-01 | 2.418783e-01 | 1            | 595.32659    | 8.994235e-01 | 0.343321140  | \n",
       "| log(Assignees + 1) | 2.136683e+00 | 2.136683e+00 | 1            | 551.48490    | 7.945248e+00 | 0.004994532  | \n",
       "| log(ChangedFiles + 1) | 8.834162e-02 | 8.834162e-02 | 1            | 576.47976    | 3.284980e-01 | 0.566768364  | \n",
       "| log(TotalPrs) | 6.504560e+01 | 6.504560e+01 | 1            | 596.89447    | 2.418718e+02 | 0.000000000  | \n",
       "| Intervention | 1.666162e-01 | 1.666162e-01 | 1            |  75.31166    | 6.195617e-01 | 0.433680331  | \n",
       "| Period | 1.209998e-01 | 1.209998e-01 | 1            | 548.80124    | 4.499375e-01 | 0.502646839  | \n",
       "| TimeAfterIntervention | 8.725965e-04 | 8.725965e-04 | 1            | 549.82086    | 3.244747e-03 | 0.954595620  | \n",
       "\n",
       "\n"
      ],
      "text/plain": [
       "                      Sum Sq       Mean Sq      NumDF DenDF     F.value     \n",
       "log(Additions + 1)    2.179575e-01 2.179575e-01 1     579.76503 8.104740e-01\n",
       "log(Deletions + 1)    3.856649e-04 3.856649e-04 1     567.48403 1.434093e-03\n",
       "log(Commits + 1)      2.418783e-01 2.418783e-01 1     595.32659 8.994235e-01\n",
       "log(Assignees + 1)    2.136683e+00 2.136683e+00 1     551.48490 7.945248e+00\n",
       "log(ChangedFiles + 1) 8.834162e-02 8.834162e-02 1     576.47976 3.284980e-01\n",
       "log(TotalPrs)         6.504560e+01 6.504560e+01 1     596.89447 2.418718e+02\n",
       "Intervention          1.666162e-01 1.666162e-01 1      75.31166 6.195617e-01\n",
       "Period                1.209998e-01 1.209998e-01 1     548.80124 4.499375e-01\n",
       "TimeAfterIntervention 8.725965e-04 8.725965e-04 1     549.82086 3.244747e-03\n",
       "                      Pr(>F)     \n",
       "log(Additions + 1)    0.368353936\n",
       "log(Deletions + 1)    0.969805108\n",
       "log(Commits + 1)      0.343321140\n",
       "log(Assignees + 1)    0.004994532\n",
       "log(ChangedFiles + 1) 0.566768364\n",
       "log(TotalPrs)         0.000000000\n",
       "Intervention          0.433680331\n",
       "Period                0.502646839\n",
       "TimeAfterIntervention 0.954595620"
      ]
     },
     "metadata": {},
     "output_type": "display_data"
    }
   ],
   "source": [
    "modelShareReviewComments = lmer(log(GeneralComments + 1) ~ \n",
    "            log(Additions + 1) +\n",
    "            log(Deletions + 1) +\n",
    "            log(Commits + 1) +\n",
    "            log(Assignees + 1) + \n",
    "            log(ChangedFiles + 1) + \n",
    "            log(TotalPrs) +\n",
    "            Intervention +\n",
    "            Period + \n",
    "            TimeAfterIntervention +\n",
    "            (1|Language) +\n",
    "            (1+Intervention|ProjectName),\n",
    "          data= TimeSeriesData, \n",
    "          REML=FALSE)\n",
    "summary(modelShareReviewComments)\n",
    "r.squaredGLMM(modelShareReviewComments)\n",
    "vif.mer(modelShareReviewComments)\n",
    "anova(modelShareReviewComments)"
   ]
  },
  {
   "cell_type": "markdown",
   "metadata": {},
   "source": [
    "# how about if we don't apply any aggregation"
   ]
  },
  {
   "cell_type": "code",
   "execution_count": 9,
   "metadata": {},
   "outputs": [
    {
     "data": {
      "text/plain": [
       "                       ProjectName       Period      EffectiveComments\n",
       " caskdata/cdap               : 633   Min.   : 1.00   Min.   :  1.000  \n",
       " adobe/brackets              : 542   1st Qu.: 6.00   1st Qu.:  1.000  \n",
       " DynamoDS/Dynamo             : 420   Median :12.00   Median :  2.000  \n",
       " AnalyticalGraphicsInc/cesium: 192   Mean   :12.66   Mean   :  5.848  \n",
       " mne-tools/mne-python        : 190   3rd Qu.:19.00   3rd Qu.:  5.000  \n",
       " cakephp/docs                : 183   Max.   :25.00   Max.   :179.000  \n",
       " (Other)                     :1200                                    \n",
       " ReviewThreads      Additions          Deletions            Commits      \n",
       " Min.   :  1.00   Min.   :     0.0   Min.   :     0.00   Min.   :  1.00  \n",
       " 1st Qu.:  2.00   1st Qu.:    16.0   1st Qu.:     1.00   1st Qu.:  3.00  \n",
       " Median :  6.00   Median :   103.0   Median :    13.00   Median :  5.00  \n",
       " Mean   : 13.16   Mean   :   839.8   Mean   :   349.88   Mean   : 11.49  \n",
       " 3rd Qu.: 14.00   3rd Qu.:   390.2   3rd Qu.:    78.25   3rd Qu.: 10.00  \n",
       " Max.   :358.00   Max.   :265154.0   Max.   :265026.00   Max.   :250.00  \n",
       "                                                                         \n",
       "  IsMerged      Assignees       ChangedFiles      IsAfter    \n",
       " False: 449   Min.   :0.0000   Min.   :   0.00   False:1696  \n",
       " True :2911   1st Qu.:0.0000   1st Qu.:   1.00   True :1664  \n",
       "              Median :0.0000   Median :   4.00               \n",
       "              Mean   :0.2711   Mean   :  13.05               \n",
       "              3rd Qu.:1.0000   3rd Qu.:  11.00               \n",
       "              Max.   :2.0000   Max.   :1480.00               \n",
       "                                                             "
      ]
     },
     "metadata": {},
     "output_type": "display_data"
    }
   ],
   "source": [
    "filename_no_aggr <- 'generated/metrics_for_time_series_no_aggr.csv'\n",
    "\n",
    "TimeSeriesDataNoAggr <- read.csv(file=filename_no_aggr, header=TRUE, sep=\",\")\n",
    "\n",
    "summary(TimeSeriesDataNoAggr)\n",
    "\n",
    "TimeSeriesDataNoAggr <- sqldf(\"select *\n",
    "                      from 'TimeSeriesDataNoAggr' \n",
    "                      where Period != 13\")\n",
    "\n",
    "\n",
    "TimeSeriesDataNoAggr$Intervention = TimeSeriesDataNoAggr$Period > 12\n",
    "TimeSeriesDataNoAggr$TimeAfterIntervention = ifelse(TimeSeriesDataNoAggr$Period>12, TimeSeriesDataNoAggr$Period-12, 0)"
   ]
  },
  {
   "cell_type": "code",
   "execution_count": 10,
   "metadata": {},
   "outputs": [
    {
     "name": "stdout",
     "output_type": "stream",
     "text": [
      "  count(distinct(ProjectName))\n",
      "1                           15\n"
     ]
    }
   ],
   "source": [
    "projects <- sqldf(\"select count(distinct(ProjectName)) from TimeSeriesDataNoAggr\")\n",
    "\n",
    "print(projects)"
   ]
  },
  {
   "cell_type": "code",
   "execution_count": 11,
   "metadata": {},
   "outputs": [
    {
     "data": {
      "text/plain": [
       "Linear mixed model fit by maximum likelihood t-tests use Satterthwaite\n",
       "  approximations to degrees of freedom [lmerMod]\n",
       "Formula: log(EffectiveComments + 1) ~ log(Additions + 1) + log(Deletions +  \n",
       "    1) + log(Commits + 1) + log(Assignees + 1) + log(ChangedFiles +  \n",
       "    1) + IsMerged + Intervention + Period + TimeAfterIntervention +  \n",
       "    (1 + Intervention | ProjectName)\n",
       "   Data: TimeSeriesDataNoAggr\n",
       "\n",
       "     AIC      BIC   logLik deviance df.resid \n",
       "  6836.7   6921.8  -3404.4   6808.7     3194 \n",
       "\n",
       "Scaled residuals: \n",
       "    Min      1Q  Median      3Q     Max \n",
       "-3.3158 -0.6691 -0.1427  0.5350  4.3624 \n",
       "\n",
       "Random effects:\n",
       " Groups      Name             Variance Std.Dev. Corr \n",
       " ProjectName (Intercept)      0.02610  0.1615        \n",
       "             InterventionTRUE 0.02843  0.1686   -0.28\n",
       " Residual                     0.48082  0.6934        \n",
       "Number of obs: 3208, groups:  ProjectName, 15\n",
       "\n",
       "Fixed effects:\n",
       "                        Estimate Std. Error         df t value Pr(>|t|)    \n",
       "(Intercept)            4.510e-01  7.582e-02  9.600e+01   5.948 4.36e-08 ***\n",
       "log(Additions + 1)     1.111e-01  1.041e-02  3.201e+03  10.667  < 2e-16 ***\n",
       "log(Deletions + 1)    -7.966e-02  8.954e-03  3.195e+03  -8.896  < 2e-16 ***\n",
       "log(Commits + 1)       3.890e-01  1.785e-02  3.171e+03  21.796  < 2e-16 ***\n",
       "log(Assignees + 1)     9.760e-02  5.157e-02  2.577e+03   1.893   0.0585 .  \n",
       "log(ChangedFiles + 1) -4.255e-02  2.330e-02  3.202e+03  -1.827   0.0679 .  \n",
       "IsMergedTrue          -3.182e-02  3.783e-02  3.186e+03  -0.841   0.4004    \n",
       "InterventionTRUE      -1.011e-02  7.150e-02  4.500e+01  -0.141   0.8882    \n",
       "Period                 4.568e-03  4.903e-03  3.165e+03   0.932   0.3515    \n",
       "TimeAfterIntervention -4.894e-03  7.302e-03  3.186e+03  -0.670   0.5027    \n",
       "---\n",
       "Signif. codes:  0 ‘***’ 0.001 ‘**’ 0.01 ‘*’ 0.05 ‘.’ 0.1 ‘ ’ 1\n",
       "\n",
       "Correlation of Fixed Effects:\n",
       "            (Intr) lg(Ad+1) l(D+1) l(C+1) lg(As+1) l(CF+1 IsMrgT InTRUE Period\n",
       "lg(Addtn+1) -0.137                                                            \n",
       "lg(Dltns+1)  0.033 -0.188                                                     \n",
       "lg(Cmmts+1) -0.387 -0.124   -0.013                                            \n",
       "lg(Assgn+1) -0.025 -0.048    0.007 -0.019                                     \n",
       "lg(ChngF+1)  0.057 -0.613   -0.419 -0.178  0.036                              \n",
       "IsMergedTru -0.474 -0.043   -0.027  0.173  0.000   -0.002                     \n",
       "IntrvntTRUE -0.008 -0.010    0.007 -0.017 -0.010   -0.009  0.015              \n",
       "Period      -0.463  0.047    0.004  0.021 -0.080   -0.010  0.011 -0.362       \n",
       "TmAftrIntrv  0.308 -0.039   -0.029  0.006  0.096    0.020 -0.022 -0.184 -0.676"
      ]
     },
     "metadata": {},
     "output_type": "display_data"
    },
    {
     "data": {
      "text/html": [
       "<dl class=dl-horizontal>\n",
       "\t<dt>R2m</dt>\n",
       "\t\t<dd>0.235739911303485</dd>\n",
       "\t<dt>R2c</dt>\n",
       "\t\t<dd>0.283699314612023</dd>\n",
       "</dl>\n"
      ],
      "text/latex": [
       "\\begin{description*}\n",
       "\\item[R2m] 0.235739911303485\n",
       "\\item[R2c] 0.283699314612023\n",
       "\\end{description*}\n"
      ],
      "text/markdown": [
       "R2m\n",
       ":   0.235739911303485R2c\n",
       ":   0.283699314612023\n",
       "\n"
      ],
      "text/plain": [
       "      R2m       R2c \n",
       "0.2357399 0.2836993 "
      ]
     },
     "metadata": {},
     "output_type": "display_data"
    },
    {
     "data": {
      "text/html": [
       "<dl class=dl-horizontal>\n",
       "\t<dt>log(Additions + 1)</dt>\n",
       "\t\t<dd>3.32565657318865</dd>\n",
       "\t<dt>log(Deletions + 1)</dt>\n",
       "\t\t<dd>2.30629529417917</dd>\n",
       "\t<dt>log(Commits + 1)</dt>\n",
       "\t\t<dd>1.35825307973536</dd>\n",
       "\t<dt>log(Assignees + 1)</dt>\n",
       "\t\t<dd>1.01237072084861</dd>\n",
       "\t<dt>log(ChangedFiles + 1)</dt>\n",
       "\t\t<dd>3.97410028799547</dd>\n",
       "\t<dt>IsMergedTrue</dt>\n",
       "\t\t<dd>1.033055388536</dd>\n",
       "\t<dt>InterventionTRUE</dt>\n",
       "\t\t<dd>1.88433706152005</dd>\n",
       "\t<dt>Period</dt>\n",
       "\t\t<dd>3.36206639432202</dd>\n",
       "\t<dt>TimeAfterIntervention</dt>\n",
       "\t\t<dd>3.02804765620934</dd>\n",
       "</dl>\n"
      ],
      "text/latex": [
       "\\begin{description*}\n",
       "\\item[log(Additions + 1)] 3.32565657318865\n",
       "\\item[log(Deletions + 1)] 2.30629529417917\n",
       "\\item[log(Commits + 1)] 1.35825307973536\n",
       "\\item[log(Assignees + 1)] 1.01237072084861\n",
       "\\item[log(ChangedFiles + 1)] 3.97410028799547\n",
       "\\item[IsMergedTrue] 1.033055388536\n",
       "\\item[InterventionTRUE] 1.88433706152005\n",
       "\\item[Period] 3.36206639432202\n",
       "\\item[TimeAfterIntervention] 3.02804765620934\n",
       "\\end{description*}\n"
      ],
      "text/markdown": [
       "log(Additions + 1)\n",
       ":   3.32565657318865log(Deletions + 1)\n",
       ":   2.30629529417917log(Commits + 1)\n",
       ":   1.35825307973536log(Assignees + 1)\n",
       ":   1.01237072084861log(ChangedFiles + 1)\n",
       ":   3.97410028799547IsMergedTrue\n",
       ":   1.033055388536InterventionTRUE\n",
       ":   1.88433706152005Period\n",
       ":   3.36206639432202TimeAfterIntervention\n",
       ":   3.02804765620934\n",
       "\n"
      ],
      "text/plain": [
       "   log(Additions + 1)    log(Deletions + 1)      log(Commits + 1) \n",
       "             3.325657              2.306295              1.358253 \n",
       "   log(Assignees + 1) log(ChangedFiles + 1)          IsMergedTrue \n",
       "             1.012371              3.974100              1.033055 \n",
       "     InterventionTRUE                Period TimeAfterIntervention \n",
       "             1.884337              3.362066              3.028048 "
      ]
     },
     "metadata": {},
     "output_type": "display_data"
    },
    {
     "data": {
      "text/html": [
       "<table>\n",
       "<thead><tr><th></th><th scope=col>Sum Sq</th><th scope=col>Mean Sq</th><th scope=col>NumDF</th><th scope=col>DenDF</th><th scope=col>F.value</th><th scope=col>Pr(&gt;F)</th></tr></thead>\n",
       "<tbody>\n",
       "\t<tr><th scope=row>log(Additions + 1)</th><td>5.471543e+01</td><td>5.471543e+01</td><td>1           </td><td>3201.15080  </td><td>113.79492725</td><td>0.00000000  </td></tr>\n",
       "\t<tr><th scope=row>log(Deletions + 1)</th><td>3.805505e+01</td><td>3.805505e+01</td><td>1           </td><td>3194.63863  </td><td> 79.14534801</td><td>0.00000000  </td></tr>\n",
       "\t<tr><th scope=row>log(Commits + 1)</th><td>2.284280e+02</td><td>2.284280e+02</td><td>1           </td><td>3171.11567  </td><td>475.07524345</td><td>0.00000000  </td></tr>\n",
       "\t<tr><th scope=row>log(Assignees + 1)</th><td>1.722403e+00</td><td>1.722403e+00</td><td>1           </td><td>2577.26345  </td><td>  3.58218481</td><td>0.05851425  </td></tr>\n",
       "\t<tr><th scope=row>log(ChangedFiles + 1)</th><td>1.604281e+00</td><td>1.604281e+00</td><td>1           </td><td>3202.45927  </td><td>  3.33651794</td><td>0.06785090  </td></tr>\n",
       "\t<tr><th scope=row>IsMerged</th><td>3.401663e-01</td><td>3.401663e-01</td><td>1           </td><td>3186.22576  </td><td>  0.70746416</td><td>0.40035005  </td></tr>\n",
       "\t<tr><th scope=row>Intervention</th><td>9.618148e-03</td><td>9.618148e-03</td><td>1           </td><td>  44.50808  </td><td>  0.02000343</td><td>0.88816573  </td></tr>\n",
       "\t<tr><th scope=row>Period</th><td>4.175097e-01</td><td>4.175097e-01</td><td>1           </td><td>3165.14181  </td><td>  0.86831983</td><td>0.35149194  </td></tr>\n",
       "\t<tr><th scope=row>TimeAfterIntervention</th><td>2.160129e-01</td><td>2.160129e-01</td><td>1           </td><td>3185.75351  </td><td>  0.44925497</td><td>0.50273755  </td></tr>\n",
       "</tbody>\n",
       "</table>\n"
      ],
      "text/latex": [
       "\\begin{tabular}{r|llllll}\n",
       "  & Sum Sq & Mean Sq & NumDF & DenDF & F.value & Pr(>F)\\\\\n",
       "\\hline\n",
       "\tlog(Additions + 1) & 5.471543e+01 & 5.471543e+01 & 1            & 3201.15080   & 113.79492725 & 0.00000000  \\\\\n",
       "\tlog(Deletions + 1) & 3.805505e+01 & 3.805505e+01 & 1            & 3194.63863   &  79.14534801 & 0.00000000  \\\\\n",
       "\tlog(Commits + 1) & 2.284280e+02 & 2.284280e+02 & 1            & 3171.11567   & 475.07524345 & 0.00000000  \\\\\n",
       "\tlog(Assignees + 1) & 1.722403e+00 & 1.722403e+00 & 1            & 2577.26345   &   3.58218481 & 0.05851425  \\\\\n",
       "\tlog(ChangedFiles + 1) & 1.604281e+00 & 1.604281e+00 & 1            & 3202.45927   &   3.33651794 & 0.06785090  \\\\\n",
       "\tIsMerged & 3.401663e-01 & 3.401663e-01 & 1            & 3186.22576   &   0.70746416 & 0.40035005  \\\\\n",
       "\tIntervention & 9.618148e-03 & 9.618148e-03 & 1            &   44.50808   &   0.02000343 & 0.88816573  \\\\\n",
       "\tPeriod & 4.175097e-01 & 4.175097e-01 & 1            & 3165.14181   &   0.86831983 & 0.35149194  \\\\\n",
       "\tTimeAfterIntervention & 2.160129e-01 & 2.160129e-01 & 1            & 3185.75351   &   0.44925497 & 0.50273755  \\\\\n",
       "\\end{tabular}\n"
      ],
      "text/markdown": [
       "\n",
       "| <!--/--> | Sum Sq | Mean Sq | NumDF | DenDF | F.value | Pr(>F) | \n",
       "|---|---|---|---|---|---|---|---|---|\n",
       "| log(Additions + 1) | 5.471543e+01 | 5.471543e+01 | 1            | 3201.15080   | 113.79492725 | 0.00000000   | \n",
       "| log(Deletions + 1) | 3.805505e+01 | 3.805505e+01 | 1            | 3194.63863   |  79.14534801 | 0.00000000   | \n",
       "| log(Commits + 1) | 2.284280e+02 | 2.284280e+02 | 1            | 3171.11567   | 475.07524345 | 0.00000000   | \n",
       "| log(Assignees + 1) | 1.722403e+00 | 1.722403e+00 | 1            | 2577.26345   |   3.58218481 | 0.05851425   | \n",
       "| log(ChangedFiles + 1) | 1.604281e+00 | 1.604281e+00 | 1            | 3202.45927   |   3.33651794 | 0.06785090   | \n",
       "| IsMerged | 3.401663e-01 | 3.401663e-01 | 1            | 3186.22576   |   0.70746416 | 0.40035005   | \n",
       "| Intervention | 9.618148e-03 | 9.618148e-03 | 1            |   44.50808   |   0.02000343 | 0.88816573   | \n",
       "| Period | 4.175097e-01 | 4.175097e-01 | 1            | 3165.14181   |   0.86831983 | 0.35149194   | \n",
       "| TimeAfterIntervention | 2.160129e-01 | 2.160129e-01 | 1            | 3185.75351   |   0.44925497 | 0.50273755   | \n",
       "\n",
       "\n"
      ],
      "text/plain": [
       "                      Sum Sq       Mean Sq      NumDF DenDF      F.value     \n",
       "log(Additions + 1)    5.471543e+01 5.471543e+01 1     3201.15080 113.79492725\n",
       "log(Deletions + 1)    3.805505e+01 3.805505e+01 1     3194.63863  79.14534801\n",
       "log(Commits + 1)      2.284280e+02 2.284280e+02 1     3171.11567 475.07524345\n",
       "log(Assignees + 1)    1.722403e+00 1.722403e+00 1     2577.26345   3.58218481\n",
       "log(ChangedFiles + 1) 1.604281e+00 1.604281e+00 1     3202.45927   3.33651794\n",
       "IsMerged              3.401663e-01 3.401663e-01 1     3186.22576   0.70746416\n",
       "Intervention          9.618148e-03 9.618148e-03 1       44.50808   0.02000343\n",
       "Period                4.175097e-01 4.175097e-01 1     3165.14181   0.86831983\n",
       "TimeAfterIntervention 2.160129e-01 2.160129e-01 1     3185.75351   0.44925497\n",
       "                      Pr(>F)    \n",
       "log(Additions + 1)    0.00000000\n",
       "log(Deletions + 1)    0.00000000\n",
       "log(Commits + 1)      0.00000000\n",
       "log(Assignees + 1)    0.05851425\n",
       "log(ChangedFiles + 1) 0.06785090\n",
       "IsMerged              0.40035005\n",
       "Intervention          0.88816573\n",
       "Period                0.35149194\n",
       "TimeAfterIntervention 0.50273755"
      ]
     },
     "metadata": {},
     "output_type": "display_data"
    }
   ],
   "source": [
    "modelEffectiveCommentsNoAggr = lmer(log(EffectiveComments + 1) ~ \n",
    "            log(Additions + 1) +\n",
    "            log(Deletions + 1) +\n",
    "            log(Commits + 1) +\n",
    "            log(Assignees + 1) + \n",
    "            log(ChangedFiles + 1) + \n",
    "            IsMerged + \n",
    "            Intervention +\n",
    "            Period + \n",
    "            TimeAfterIntervention +\n",
    "            (1+Intervention|ProjectName),\n",
    "          data= TimeSeriesDataNoAggr, \n",
    "          REML=FALSE)\n",
    "summary(modelEffectiveCommentsNoAggr)\n",
    "r.squaredGLMM(modelEffectiveCommentsNoAggr)\n",
    "vif.mer(modelEffectiveCommentsNoAggr)\n",
    "anova(modelEffectiveCommentsNoAggr)"
   ]
  },
  {
   "cell_type": "code",
   "execution_count": null,
   "metadata": {},
   "outputs": [],
   "source": []
  }
 ],
 "metadata": {
  "kernelspec": {
   "display_name": "R",
   "language": "R",
   "name": "ir"
  },
  "language_info": {
   "codemirror_mode": "r",
   "file_extension": ".r",
   "mimetype": "text/x-r-source",
   "name": "R",
   "pygments_lexer": "r",
   "version": "3.4.3"
  }
 },
 "nbformat": 4,
 "nbformat_minor": 2
}
