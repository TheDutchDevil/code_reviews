{
 "cells": [
  {
   "cell_type": "code",
   "execution_count": 70,
   "metadata": {},
   "outputs": [
    {
     "data": {
      "text/plain": [
       "                         ProjectName         Language    ShareReviewComments\n",
       " activemerchant/active_merchant:  25   Ruby      :1200   Min.   :0.0000     \n",
       " adobe/brackets                :  25   Python    :1125   1st Qu.:0.0000     \n",
       " AFNetworking/AFNetworking     :  25   JavaScript: 925   Median :0.1186     \n",
       " airbnb/javascript             :  25   PHP       : 800   Mean   :0.1855     \n",
       " ajaxorg/ace                   :  25   C++       : 775   3rd Qu.:0.3090     \n",
       " alexreisner/geocoder          :  25   Java      : 700   Max.   :1.0000     \n",
       " (Other)                       :7450   (Other)   :2075                      \n",
       "   Additions        Deletions       ChangedFiles      Assignees      \n",
       " Min.   : 0.000   Min.   :0.0000   Min.   :0.0000   Min.   :0.00000  \n",
       " 1st Qu.: 1.586   1st Qu.:0.8815   1st Qu.:0.6931   1st Qu.:0.00000  \n",
       " Median : 2.382   Median :1.4915   Median :1.0104   Median :0.00000  \n",
       " Mean   : 2.423   Mean   :1.5884   Mean   :1.0583   Mean   :0.04135  \n",
       " 3rd Qu.: 3.200   3rd Qu.:2.1859   3rd Qu.:1.3726   3rd Qu.:0.00000  \n",
       " Max.   :10.116   Max.   :8.4255   Max.   :5.9296   Max.   :1.16398  \n",
       "                                                                     \n",
       " ReviewComments   GeneralComments     TotalPrs         Commits      \n",
       " Min.   :0.0000   Min.   :0.0000   Min.   :  1.00   Min.   :0.5199  \n",
       " 1st Qu.:0.0000   1st Qu.:0.6356   1st Qu.:  8.00   1st Qu.:0.8539  \n",
       " Median :0.1421   Median :0.9329   Median : 16.00   Median :1.0055  \n",
       " Mean   :0.2490   Mean   :0.9565   Mean   : 28.81   Mean   :1.0788  \n",
       " 3rd Qu.:0.3779   3rd Qu.:1.2469   3rd Qu.: 33.00   3rd Qu.:1.2204  \n",
       " Max.   :2.9581   Max.   :3.2683   Max.   :684.00   Max.   :5.5255  \n",
       "                                                                    \n",
       " CommitsAfterCreate EffectiveComments NumOfUniqueUsers     Period  \n",
       " Min.   :0.0000     Min.   :0.00000   Min.   :0.0000   Min.   : 1  \n",
       " 1st Qu.:0.1126     1st Qu.:0.00000   1st Qu.:0.5705   1st Qu.: 7  \n",
       " Median :0.2374     Median :0.00000   Median :0.8056   Median :13  \n",
       " Mean   :0.3021     Mean   :0.07895   Mean   :0.7885   Mean   :13  \n",
       " 3rd Qu.:0.4159     3rd Qu.:0.10196   3rd Qu.:1.0129   3rd Qu.:19  \n",
       " Max.   :3.9512     Max.   :2.77259   Max.   :2.3979   Max.   :25  \n",
       "                                                                   "
      ]
     },
     "metadata": {},
     "output_type": "display_data"
    }
   ],
   "source": [
    "library(lmerTest)\n",
    "library(MuMIn)\n",
    "library(VIF)\n",
    "library(sqldf)\n",
    "\n",
    "filename <- 'generated/metrics_for_time_series.csv'\n",
    "\n",
    "TimeSeriesData <- read.csv(file=filename, header=TRUE, sep=\",\")\n",
    "\n",
    "summary(TimeSeriesData)\n",
    "\n",
    "TimeSeriesData <- sqldf(\"select *\n",
    "                      from 'TimeSeriesData' \n",
    "                      where Period != 13\")\n",
    "\n",
    "\n",
    "TimeSeriesData$Intervention = TimeSeriesData$Period > 12\n",
    "TimeSeriesData$TimeAfterIntervention = ifelse(TimeSeriesData$Period>12, TimeSeriesData$Period-12, 0)"
   ]
  },
  {
   "cell_type": "code",
   "execution_count": 40,
   "metadata": {},
   "outputs": [],
   "source": [
    "vif.mer <- function (fit) {\n",
    "    ## adapted from rms::vif\n",
    "    \n",
    "    v <- vcov(fit)\n",
    "    nam <- names(fixef(fit))\n",
    "\n",
    "    ## exclude intercepts\n",
    "    ns <- sum(1 * (nam == \"Intercept\" | nam == \"(Intercept)\"))\n",
    "    if (ns > 0) {\n",
    "        v <- v[-(1:ns), -(1:ns), drop = FALSE]\n",
    "        nam <- nam[-(1:ns)]\n",
    "    }\n",
    "    \n",
    "    d <- diag(v)^0.5\n",
    "    v <- diag(solve(v/(d %o% d)))\n",
    "    names(v) <- nam\n",
    "    v\n",
    "}"
   ]
  },
  {
   "cell_type": "code",
   "execution_count": 41,
   "metadata": {},
   "outputs": [
    {
     "name": "stdout",
     "output_type": "stream",
     "text": [
      "  count(distinct(ProjectName))\n",
      "1                          304\n"
     ]
    }
   ],
   "source": [
    "projects <- sqldf(\"select count(distinct(ProjectName)) from TimeSeriesData\")\n",
    "\n",
    "print(projects)"
   ]
  },
  {
   "cell_type": "code",
   "execution_count": 76,
   "metadata": {},
   "outputs": [
    {
     "data": {
      "text/plain": [
       "Linear mixed model fit by maximum likelihood t-tests use Satterthwaite\n",
       "  approximations to degrees of freedom [lmerMod]\n",
       "Formula: ReviewComments ~ Additions + Deletions + Commits + Assignees +  \n",
       "    ChangedFiles + TotalPrs + Intervention + Period + TimeAfterIntervention +  \n",
       "    (1 | Language) + (1 + Intervention | ProjectName)\n",
       "   Data: TimeSeriesData\n",
       "\n",
       "     AIC      BIC   logLik deviance df.resid \n",
       " -1428.9  -1325.4    729.4  -1458.9     7281 \n",
       "\n",
       "Scaled residuals: \n",
       "    Min      1Q  Median      3Q     Max \n",
       "-5.0023 -0.4528 -0.0819  0.3420 12.0942 \n",
       "\n",
       "Random effects:\n",
       " Groups      Name             Variance Std.Dev. Corr \n",
       " ProjectName (Intercept)      0.03424  0.18504       \n",
       "             InterventionTRUE 0.01666  0.12907  -0.09\n",
       " Language    (Intercept)      0.00179  0.04231       \n",
       " Residual                     0.03997  0.19991       \n",
       "Number of obs: 7296, groups:  ProjectName, 304; Language, 36\n",
       "\n",
       "Fixed effects:\n",
       "                        Estimate Std. Error         df t value Pr(>|t|)    \n",
       "(Intercept)           -8.080e-02  2.033e-02  5.500e+01  -3.975 0.000206 ***\n",
       "Additions              6.216e-02  5.563e-03  7.145e+03  11.175  < 2e-16 ***\n",
       "Deletions             -4.762e-03  5.812e-03  7.086e+03  -0.819 0.412669    \n",
       "Commits                1.562e-01  1.044e-02  7.216e+03  14.960  < 2e-16 ***\n",
       "Assignees              2.340e-02  3.636e-02  6.435e+03   0.643 0.519999    \n",
       "ChangedFiles          -7.353e-02  1.327e-02  7.186e+03  -5.541 3.12e-08 ***\n",
       "TotalPrs               2.810e-04  1.138e-04  5.678e+03   2.470 0.013555 *  \n",
       "InterventionTRUE       1.816e-02  1.251e-02  1.203e+03   1.452 0.146820    \n",
       "Period                 7.007e-03  9.642e-04  6.706e+03   7.267 4.09e-13 ***\n",
       "TimeAfterIntervention -5.144e-03  1.358e-03  6.688e+03  -3.788 0.000153 ***\n",
       "---\n",
       "Signif. codes:  0 ‘***’ 0.001 ‘**’ 0.01 ‘*’ 0.05 ‘.’ 0.1 ‘ ’ 1\n",
       "\n",
       "Correlation of Fixed Effects:\n",
       "            (Intr) Addtns Deltns Commts Assgns ChngdF TtlPrs InTRUE Period\n",
       "Additions   -0.076                                                        \n",
       "Deletions    0.030 -0.252                                                 \n",
       "Commits     -0.395 -0.081 -0.069                                          \n",
       "Assignees   -0.046 -0.060 -0.006  0.010                                   \n",
       "ChangedFils -0.007 -0.619 -0.395 -0.151  0.052                            \n",
       "TotalPrs    -0.137  0.006 -0.048  0.044 -0.008  0.013                     \n",
       "IntrvntTRUE  0.072  0.000  0.000 -0.012  0.001 -0.007 -0.028              \n",
       "Period      -0.312  0.010  0.006  0.052 -0.057 -0.032 -0.065 -0.418       \n",
       "TmAftrIntrv  0.215 -0.006 -0.011 -0.017  0.035  0.022  0.029 -0.109 -0.708"
      ]
     },
     "metadata": {},
     "output_type": "display_data"
    },
    {
     "data": {
      "text/html": [
       "<dl class=dl-horizontal>\n",
       "\t<dt>R2m</dt>\n",
       "\t\t<dd>0.0869417783994654</dd>\n",
       "\t<dt>R2c</dt>\n",
       "\t\t<dd>0.555479100249569</dd>\n",
       "</dl>\n"
      ],
      "text/latex": [
       "\\begin{description*}\n",
       "\\item[R2m] 0.0869417783994654\n",
       "\\item[R2c] 0.555479100249569\n",
       "\\end{description*}\n"
      ],
      "text/markdown": [
       "R2m\n",
       ":   0.0869417783994654R2c\n",
       ":   0.555479100249569\n",
       "\n"
      ],
      "text/plain": [
       "       R2m        R2c \n",
       "0.08694178 0.55547910 "
      ]
     },
     "metadata": {},
     "output_type": "display_data"
    },
    {
     "data": {
      "text/html": [
       "<dl class=dl-horizontal>\n",
       "\t<dt>Additions</dt>\n",
       "\t\t<dd>3.85201021358037</dd>\n",
       "\t<dt>Deletions</dt>\n",
       "\t\t<dd>2.73073913014488</dd>\n",
       "\t<dt>Commits</dt>\n",
       "\t\t<dd>1.3106678708019</dd>\n",
       "\t<dt>Assignees</dt>\n",
       "\t\t<dd>1.00921454484006</dd>\n",
       "\t<dt>ChangedFiles</dt>\n",
       "\t\t<dd>4.39493272668013</dd>\n",
       "\t<dt>TotalPrs</dt>\n",
       "\t\t<dd>1.02009056604847</dd>\n",
       "\t<dt>InterventionTRUE</dt>\n",
       "\t\t<dd>2.03942338151527</dd>\n",
       "\t<dt>Period</dt>\n",
       "\t\t<dd>4.07079924390047</dd>\n",
       "\t<dt>TimeAfterIntervention</dt>\n",
       "\t\t<dd>3.357701941823</dd>\n",
       "</dl>\n"
      ],
      "text/latex": [
       "\\begin{description*}\n",
       "\\item[Additions] 3.85201021358037\n",
       "\\item[Deletions] 2.73073913014488\n",
       "\\item[Commits] 1.3106678708019\n",
       "\\item[Assignees] 1.00921454484006\n",
       "\\item[ChangedFiles] 4.39493272668013\n",
       "\\item[TotalPrs] 1.02009056604847\n",
       "\\item[InterventionTRUE] 2.03942338151527\n",
       "\\item[Period] 4.07079924390047\n",
       "\\item[TimeAfterIntervention] 3.357701941823\n",
       "\\end{description*}\n"
      ],
      "text/markdown": [
       "Additions\n",
       ":   3.85201021358037Deletions\n",
       ":   2.73073913014488Commits\n",
       ":   1.3106678708019Assignees\n",
       ":   1.00921454484006ChangedFiles\n",
       ":   4.39493272668013TotalPrs\n",
       ":   1.02009056604847InterventionTRUE\n",
       ":   2.03942338151527Period\n",
       ":   4.07079924390047TimeAfterIntervention\n",
       ":   3.357701941823\n",
       "\n"
      ],
      "text/plain": [
       "            Additions             Deletions               Commits \n",
       "             3.852010              2.730739              1.310668 \n",
       "            Assignees          ChangedFiles              TotalPrs \n",
       "             1.009215              4.394933              1.020091 \n",
       "     InterventionTRUE                Period TimeAfterIntervention \n",
       "             2.039423              4.070799              3.357702 "
      ]
     },
     "metadata": {},
     "output_type": "display_data"
    },
    {
     "data": {
      "text/html": [
       "<table>\n",
       "<thead><tr><th></th><th scope=col>Sum Sq</th><th scope=col>Mean Sq</th><th scope=col>NumDF</th><th scope=col>DenDF</th><th scope=col>F.value</th><th scope=col>Pr(&gt;F)</th></tr></thead>\n",
       "<tbody>\n",
       "\t<tr><th scope=row>Additions</th><td>4.99089458  </td><td>4.99089458  </td><td>1           </td><td>7145.084    </td><td>124.8786956 </td><td>0.000000e+00</td></tr>\n",
       "\t<tr><th scope=row>Deletions</th><td>0.02682426  </td><td>0.02682426  </td><td>1           </td><td>7085.995    </td><td>  0.6711779 </td><td>4.126688e-01</td></tr>\n",
       "\t<tr><th scope=row>Commits</th><td>8.94443838  </td><td>8.94443838  </td><td>1           </td><td>7216.460    </td><td>223.8015208 </td><td>0.000000e+00</td></tr>\n",
       "\t<tr><th scope=row>Assignees</th><td>0.01654348  </td><td>0.01654348  </td><td>1           </td><td>6434.702    </td><td>  0.4139395 </td><td>5.199997e-01</td></tr>\n",
       "\t<tr><th scope=row>ChangedFiles</th><td>1.22701357  </td><td>1.22701357  </td><td>1           </td><td>7185.965    </td><td> 30.7014809 </td><td>3.115933e-08</td></tr>\n",
       "\t<tr><th scope=row>TotalPrs</th><td>0.24375318  </td><td>0.24375318  </td><td>1           </td><td>5678.215    </td><td>  6.0990227 </td><td>1.355486e-02</td></tr>\n",
       "\t<tr><th scope=row>Intervention</th><td>0.08423634  </td><td>0.08423634  </td><td>1           </td><td>1202.994    </td><td>  2.1077032 </td><td>1.468199e-01</td></tr>\n",
       "\t<tr><th scope=row>Period</th><td>2.11071035  </td><td>2.11071035  </td><td>1           </td><td>6705.739    </td><td> 52.8127274 </td><td>4.085621e-13</td></tr>\n",
       "\t<tr><th scope=row>TimeAfterIntervention</th><td>0.57356183  </td><td>0.57356183  </td><td>1           </td><td>6687.504    </td><td> 14.3512654 </td><td>1.530087e-04</td></tr>\n",
       "</tbody>\n",
       "</table>\n"
      ],
      "text/latex": [
       "\\begin{tabular}{r|llllll}\n",
       "  & Sum Sq & Mean Sq & NumDF & DenDF & F.value & Pr(>F)\\\\\n",
       "\\hline\n",
       "\tAdditions & 4.99089458   & 4.99089458   & 1            & 7145.084     & 124.8786956  & 0.000000e+00\\\\\n",
       "\tDeletions & 0.02682426   & 0.02682426   & 1            & 7085.995     &   0.6711779  & 4.126688e-01\\\\\n",
       "\tCommits & 8.94443838   & 8.94443838   & 1            & 7216.460     & 223.8015208  & 0.000000e+00\\\\\n",
       "\tAssignees & 0.01654348   & 0.01654348   & 1            & 6434.702     &   0.4139395  & 5.199997e-01\\\\\n",
       "\tChangedFiles & 1.22701357   & 1.22701357   & 1            & 7185.965     &  30.7014809  & 3.115933e-08\\\\\n",
       "\tTotalPrs & 0.24375318   & 0.24375318   & 1            & 5678.215     &   6.0990227  & 1.355486e-02\\\\\n",
       "\tIntervention & 0.08423634   & 0.08423634   & 1            & 1202.994     &   2.1077032  & 1.468199e-01\\\\\n",
       "\tPeriod & 2.11071035   & 2.11071035   & 1            & 6705.739     &  52.8127274  & 4.085621e-13\\\\\n",
       "\tTimeAfterIntervention & 0.57356183   & 0.57356183   & 1            & 6687.504     &  14.3512654  & 1.530087e-04\\\\\n",
       "\\end{tabular}\n"
      ],
      "text/markdown": [
       "\n",
       "| <!--/--> | Sum Sq | Mean Sq | NumDF | DenDF | F.value | Pr(>F) | \n",
       "|---|---|---|---|---|---|---|---|---|\n",
       "| Additions | 4.99089458   | 4.99089458   | 1            | 7145.084     | 124.8786956  | 0.000000e+00 | \n",
       "| Deletions | 0.02682426   | 0.02682426   | 1            | 7085.995     |   0.6711779  | 4.126688e-01 | \n",
       "| Commits | 8.94443838   | 8.94443838   | 1            | 7216.460     | 223.8015208  | 0.000000e+00 | \n",
       "| Assignees | 0.01654348   | 0.01654348   | 1            | 6434.702     |   0.4139395  | 5.199997e-01 | \n",
       "| ChangedFiles | 1.22701357   | 1.22701357   | 1            | 7185.965     |  30.7014809  | 3.115933e-08 | \n",
       "| TotalPrs | 0.24375318   | 0.24375318   | 1            | 5678.215     |   6.0990227  | 1.355486e-02 | \n",
       "| Intervention | 0.08423634   | 0.08423634   | 1            | 1202.994     |   2.1077032  | 1.468199e-01 | \n",
       "| Period | 2.11071035   | 2.11071035   | 1            | 6705.739     |  52.8127274  | 4.085621e-13 | \n",
       "| TimeAfterIntervention | 0.57356183   | 0.57356183   | 1            | 6687.504     |  14.3512654  | 1.530087e-04 | \n",
       "\n",
       "\n"
      ],
      "text/plain": [
       "                      Sum Sq     Mean Sq    NumDF DenDF    F.value    \n",
       "Additions             4.99089458 4.99089458 1     7145.084 124.8786956\n",
       "Deletions             0.02682426 0.02682426 1     7085.995   0.6711779\n",
       "Commits               8.94443838 8.94443838 1     7216.460 223.8015208\n",
       "Assignees             0.01654348 0.01654348 1     6434.702   0.4139395\n",
       "ChangedFiles          1.22701357 1.22701357 1     7185.965  30.7014809\n",
       "TotalPrs              0.24375318 0.24375318 1     5678.215   6.0990227\n",
       "Intervention          0.08423634 0.08423634 1     1202.994   2.1077032\n",
       "Period                2.11071035 2.11071035 1     6705.739  52.8127274\n",
       "TimeAfterIntervention 0.57356183 0.57356183 1     6687.504  14.3512654\n",
       "                      Pr(>F)      \n",
       "Additions             0.000000e+00\n",
       "Deletions             4.126688e-01\n",
       "Commits               0.000000e+00\n",
       "Assignees             5.199997e-01\n",
       "ChangedFiles          3.115933e-08\n",
       "TotalPrs              1.355486e-02\n",
       "Intervention          1.468199e-01\n",
       "Period                4.085621e-13\n",
       "TimeAfterIntervention 1.530087e-04"
      ]
     },
     "metadata": {},
     "output_type": "display_data"
    }
   ],
   "source": [
    "modelNumberReviewComments = lmer(ReviewComments ~ \n",
    "            Additions+\n",
    "            Deletions  +\n",
    "            Commits  +\n",
    "            #CommitsAfterCreate  +\n",
    "            Assignees  + \n",
    "            ChangedFiles + \n",
    "            TotalPrs +\n",
    "            Intervention +\n",
    "            Period + \n",
    "            TimeAfterIntervention +\n",
    "            (1|Language) +\n",
    "            (1+Intervention|ProjectName),\n",
    "          data= TimeSeriesData, \n",
    "          REML=FALSE)\n",
    "summary(modelNumberReviewComments)\n",
    "r.squaredGLMM(modelNumberReviewComments)\n",
    "vif.mer(modelNumberReviewComments)\n",
    "anova(modelNumberReviewComments)"
   ]
  },
  {
   "cell_type": "code",
   "execution_count": 75,
   "metadata": {},
   "outputs": [
    {
     "data": {
      "text/plain": [
       "Linear mixed model fit by maximum likelihood t-tests use Satterthwaite\n",
       "  approximations to degrees of freedom [lmerMod]\n",
       "Formula: GeneralComments ~ Additions + Deletions + Commits + Assignees +  \n",
       "    ChangedFiles + TotalPrs + Intervention + Period + TimeAfterIntervention +  \n",
       "    (1 | Language) + (1 + Intervention | ProjectName)\n",
       "   Data: TimeSeriesData\n",
       "\n",
       "     AIC      BIC   logLik deviance df.resid \n",
       "  4337.3   4440.7  -2153.6   4307.3     7281 \n",
       "\n",
       "Scaled residuals: \n",
       "    Min      1Q  Median      3Q     Max \n",
       "-5.3346 -0.5442 -0.0226  0.5107  6.4213 \n",
       "\n",
       "Random effects:\n",
       " Groups      Name             Variance Std.Dev. Corr \n",
       " ProjectName (Intercept)      0.11103  0.3332        \n",
       "             InterventionTRUE 0.05460  0.2337   -0.26\n",
       " Language    (Intercept)      0.00000  0.0000        \n",
       " Residual                     0.08589  0.2931        \n",
       "Number of obs: 7296, groups:  ProjectName, 304; Language, 36\n",
       "\n",
       "Fixed effects:\n",
       "                        Estimate Std. Error         df t value Pr(>|t|)    \n",
       "(Intercept)            6.049e-01  2.708e-02  9.930e+02  22.335  < 2e-16 ***\n",
       "Additions              6.377e-02  8.207e-03  7.060e+03   7.770 8.88e-15 ***\n",
       "Deletions             -3.212e-02  8.564e-03  7.012e+03  -3.751 0.000177 ***\n",
       "Commits                1.982e-01  1.544e-02  7.150e+03  12.838  < 2e-16 ***\n",
       "Assignees              3.797e-01  5.451e-02  6.886e+03   6.965 3.58e-12 ***\n",
       "ChangedFiles          -8.271e-02  1.959e-02  7.107e+03  -4.222 2.45e-05 ***\n",
       "TotalPrs              -6.640e-04  1.717e-04  6.345e+03  -3.868 0.000111 ***\n",
       "InterventionTRUE       6.527e-02  1.995e-02  9.070e+02   3.272 0.001110 ** \n",
       "Period                 9.425e-03  1.414e-03  6.705e+03   6.666 2.84e-11 ***\n",
       "TimeAfterIntervention -8.534e-03  1.991e-03  6.690e+03  -4.287 1.84e-05 ***\n",
       "---\n",
       "Signif. codes:  0 ‘***’ 0.001 ‘**’ 0.01 ‘*’ 0.05 ‘.’ 0.1 ‘ ’ 1\n",
       "\n",
       "Correlation of Fixed Effects:\n",
       "            (Intr) Addtns Deltns Commts Assgns ChngdF TtlPrs InTRUE Period\n",
       "Additions   -0.085                                                        \n",
       "Deletions    0.033 -0.251                                                 \n",
       "Commits     -0.442 -0.082 -0.067                                          \n",
       "Assignees   -0.050 -0.059 -0.007  0.007                                   \n",
       "ChangedFils -0.009 -0.619 -0.395 -0.150  0.052                            \n",
       "TotalPrs    -0.150  0.005 -0.048  0.043 -0.009  0.014                     \n",
       "IntrvntTRUE -0.020  0.000  0.000 -0.011  0.001 -0.006 -0.027              \n",
       "Period      -0.344  0.010  0.006  0.053 -0.059 -0.032 -0.067 -0.384       \n",
       "TmAftrIntrv  0.237 -0.006 -0.011 -0.018  0.036  0.022  0.029 -0.100 -0.708"
      ]
     },
     "metadata": {},
     "output_type": "display_data"
    },
    {
     "data": {
      "text/html": [
       "<dl class=dl-horizontal>\n",
       "\t<dt>R2m</dt>\n",
       "\t\t<dd>0.0596607061308583</dd>\n",
       "\t<dt>R2c</dt>\n",
       "\t\t<dd>0.604218461498677</dd>\n",
       "</dl>\n"
      ],
      "text/latex": [
       "\\begin{description*}\n",
       "\\item[R2m] 0.0596607061308583\n",
       "\\item[R2c] 0.604218461498677\n",
       "\\end{description*}\n"
      ],
      "text/markdown": [
       "R2m\n",
       ":   0.0596607061308583R2c\n",
       ":   0.604218461498677\n",
       "\n"
      ],
      "text/plain": [
       "       R2m        R2c \n",
       "0.05966071 0.60421846 "
      ]
     },
     "metadata": {},
     "output_type": "display_data"
    },
    {
     "data": {
      "text/html": [
       "<dl class=dl-horizontal>\n",
       "\t<dt>Additions</dt>\n",
       "\t\t<dd>3.82917855443428</dd>\n",
       "\t<dt>Deletions</dt>\n",
       "\t\t<dd>2.70636376730876</dd>\n",
       "\t<dt>Commits</dt>\n",
       "\t\t<dd>1.30544977810609</dd>\n",
       "\t<dt>Assignees</dt>\n",
       "\t\t<dd>1.00893060825331</dd>\n",
       "\t<dt>ChangedFiles</dt>\n",
       "\t\t<dd>4.36564575293531</dd>\n",
       "\t<dt>TotalPrs</dt>\n",
       "\t\t<dd>1.01790930308883</dd>\n",
       "\t<dt>InterventionTRUE</dt>\n",
       "\t\t<dd>1.75592479529322</dd>\n",
       "\t<dt>Period</dt>\n",
       "\t\t<dd>3.51365517597554</dd>\n",
       "\t<dt>TimeAfterIntervention</dt>\n",
       "\t\t<dd>2.98916768417655</dd>\n",
       "</dl>\n"
      ],
      "text/latex": [
       "\\begin{description*}\n",
       "\\item[Additions] 3.82917855443428\n",
       "\\item[Deletions] 2.70636376730876\n",
       "\\item[Commits] 1.30544977810609\n",
       "\\item[Assignees] 1.00893060825331\n",
       "\\item[ChangedFiles] 4.36564575293531\n",
       "\\item[TotalPrs] 1.01790930308883\n",
       "\\item[InterventionTRUE] 1.75592479529322\n",
       "\\item[Period] 3.51365517597554\n",
       "\\item[TimeAfterIntervention] 2.98916768417655\n",
       "\\end{description*}\n"
      ],
      "text/markdown": [
       "Additions\n",
       ":   3.82917855443428Deletions\n",
       ":   2.70636376730876Commits\n",
       ":   1.30544977810609Assignees\n",
       ":   1.00893060825331ChangedFiles\n",
       ":   4.36564575293531TotalPrs\n",
       ":   1.01790930308883InterventionTRUE\n",
       ":   1.75592479529322Period\n",
       ":   3.51365517597554TimeAfterIntervention\n",
       ":   2.98916768417655\n",
       "\n"
      ],
      "text/plain": [
       "            Additions             Deletions               Commits \n",
       "             3.829179              2.706364              1.305450 \n",
       "            Assignees          ChangedFiles              TotalPrs \n",
       "             1.008931              4.365646              1.017909 \n",
       "     InterventionTRUE                Period TimeAfterIntervention \n",
       "             1.755925              3.513655              2.989168 "
      ]
     },
     "metadata": {},
     "output_type": "display_data"
    },
    {
     "data": {
      "text/html": [
       "<table>\n",
       "<thead><tr><th></th><th scope=col>Sum Sq</th><th scope=col>Mean Sq</th><th scope=col>NumDF</th><th scope=col>DenDF</th><th scope=col>F.value</th><th scope=col>Pr(&gt;F)</th></tr></thead>\n",
       "<tbody>\n",
       "\t<tr><th scope=row>Additions</th><td> 5.1859210  </td><td> 5.1859210  </td><td>1           </td><td>7059.5324   </td><td> 60.38043   </td><td>8.881784e-15</td></tr>\n",
       "\t<tr><th scope=row>Deletions</th><td> 1.2085223  </td><td> 1.2085223  </td><td>1           </td><td>7011.7991   </td><td> 14.07100   </td><td>1.774564e-04</td></tr>\n",
       "\t<tr><th scope=row>Commits</th><td>14.1554108  </td><td>14.1554108  </td><td>1           </td><td>7150.2411   </td><td>164.81350   </td><td>0.000000e+00</td></tr>\n",
       "\t<tr><th scope=row>Assignees</th><td> 4.1669915  </td><td> 4.1669915  </td><td>1           </td><td>6886.0245   </td><td> 48.51689   </td><td>3.577583e-12</td></tr>\n",
       "\t<tr><th scope=row>ChangedFiles</th><td> 1.5311067  </td><td> 1.5311067  </td><td>1           </td><td>7106.6024   </td><td> 17.82690   </td><td>2.449551e-05</td></tr>\n",
       "\t<tr><th scope=row>TotalPrs</th><td> 1.2847543  </td><td> 1.2847543  </td><td>1           </td><td>6345.4737   </td><td> 14.95858   </td><td>1.109965e-04</td></tr>\n",
       "\t<tr><th scope=row>Intervention</th><td> 0.9192769  </td><td> 0.9192769  </td><td>1           </td><td> 906.5334   </td><td> 10.70327   </td><td>1.109841e-03</td></tr>\n",
       "\t<tr><th scope=row>Period</th><td> 3.8164149  </td><td> 3.8164149  </td><td>1           </td><td>6705.4045   </td><td> 44.43507   </td><td>2.838574e-11</td></tr>\n",
       "\t<tr><th scope=row>TimeAfterIntervention</th><td> 1.5782344  </td><td> 1.5782344  </td><td>1           </td><td>6690.4157   </td><td> 18.37561   </td><td>1.839104e-05</td></tr>\n",
       "</tbody>\n",
       "</table>\n"
      ],
      "text/latex": [
       "\\begin{tabular}{r|llllll}\n",
       "  & Sum Sq & Mean Sq & NumDF & DenDF & F.value & Pr(>F)\\\\\n",
       "\\hline\n",
       "\tAdditions &  5.1859210   &  5.1859210   & 1            & 7059.5324    &  60.38043    & 8.881784e-15\\\\\n",
       "\tDeletions &  1.2085223   &  1.2085223   & 1            & 7011.7991    &  14.07100    & 1.774564e-04\\\\\n",
       "\tCommits & 14.1554108   & 14.1554108   & 1            & 7150.2411    & 164.81350    & 0.000000e+00\\\\\n",
       "\tAssignees &  4.1669915   &  4.1669915   & 1            & 6886.0245    &  48.51689    & 3.577583e-12\\\\\n",
       "\tChangedFiles &  1.5311067   &  1.5311067   & 1            & 7106.6024    &  17.82690    & 2.449551e-05\\\\\n",
       "\tTotalPrs &  1.2847543   &  1.2847543   & 1            & 6345.4737    &  14.95858    & 1.109965e-04\\\\\n",
       "\tIntervention &  0.9192769   &  0.9192769   & 1            &  906.5334    &  10.70327    & 1.109841e-03\\\\\n",
       "\tPeriod &  3.8164149   &  3.8164149   & 1            & 6705.4045    &  44.43507    & 2.838574e-11\\\\\n",
       "\tTimeAfterIntervention &  1.5782344   &  1.5782344   & 1            & 6690.4157    &  18.37561    & 1.839104e-05\\\\\n",
       "\\end{tabular}\n"
      ],
      "text/markdown": [
       "\n",
       "| <!--/--> | Sum Sq | Mean Sq | NumDF | DenDF | F.value | Pr(>F) | \n",
       "|---|---|---|---|---|---|---|---|---|\n",
       "| Additions |  5.1859210   |  5.1859210   | 1            | 7059.5324    |  60.38043    | 8.881784e-15 | \n",
       "| Deletions |  1.2085223   |  1.2085223   | 1            | 7011.7991    |  14.07100    | 1.774564e-04 | \n",
       "| Commits | 14.1554108   | 14.1554108   | 1            | 7150.2411    | 164.81350    | 0.000000e+00 | \n",
       "| Assignees |  4.1669915   |  4.1669915   | 1            | 6886.0245    |  48.51689    | 3.577583e-12 | \n",
       "| ChangedFiles |  1.5311067   |  1.5311067   | 1            | 7106.6024    |  17.82690    | 2.449551e-05 | \n",
       "| TotalPrs |  1.2847543   |  1.2847543   | 1            | 6345.4737    |  14.95858    | 1.109965e-04 | \n",
       "| Intervention |  0.9192769   |  0.9192769   | 1            |  906.5334    |  10.70327    | 1.109841e-03 | \n",
       "| Period |  3.8164149   |  3.8164149   | 1            | 6705.4045    |  44.43507    | 2.838574e-11 | \n",
       "| TimeAfterIntervention |  1.5782344   |  1.5782344   | 1            | 6690.4157    |  18.37561    | 1.839104e-05 | \n",
       "\n",
       "\n"
      ],
      "text/plain": [
       "                      Sum Sq     Mean Sq    NumDF DenDF     F.value  \n",
       "Additions              5.1859210  5.1859210 1     7059.5324  60.38043\n",
       "Deletions              1.2085223  1.2085223 1     7011.7991  14.07100\n",
       "Commits               14.1554108 14.1554108 1     7150.2411 164.81350\n",
       "Assignees              4.1669915  4.1669915 1     6886.0245  48.51689\n",
       "ChangedFiles           1.5311067  1.5311067 1     7106.6024  17.82690\n",
       "TotalPrs               1.2847543  1.2847543 1     6345.4737  14.95858\n",
       "Intervention           0.9192769  0.9192769 1      906.5334  10.70327\n",
       "Period                 3.8164149  3.8164149 1     6705.4045  44.43507\n",
       "TimeAfterIntervention  1.5782344  1.5782344 1     6690.4157  18.37561\n",
       "                      Pr(>F)      \n",
       "Additions             8.881784e-15\n",
       "Deletions             1.774564e-04\n",
       "Commits               0.000000e+00\n",
       "Assignees             3.577583e-12\n",
       "ChangedFiles          2.449551e-05\n",
       "TotalPrs              1.109965e-04\n",
       "Intervention          1.109841e-03\n",
       "Period                2.838574e-11\n",
       "TimeAfterIntervention 1.839104e-05"
      ]
     },
     "metadata": {},
     "output_type": "display_data"
    }
   ],
   "source": [
    "modelShareReviewComments = lmer(GeneralComments  ~ \n",
    "            Additions  +\n",
    "            Deletions + \n",
    "            Commits + \n",
    "            Assignees +\n",
    "            ChangedFiles +\n",
    "            TotalPrs +\n",
    "            #CommitsAfterCreate +\n",
    "            Intervention +\n",
    "            Period + \n",
    "            TimeAfterIntervention +\n",
    "            (1|Language) +\n",
    "            (1+Intervention|ProjectName),\n",
    "          data= TimeSeriesData, \n",
    "          REML=FALSE)\n",
    "summary(modelShareReviewComments)\n",
    "r.squaredGLMM(modelShareReviewComments)\n",
    "vif.mer(modelShareReviewComments)\n",
    "anova(modelShareReviewComments)"
   ]
  },
  {
   "cell_type": "code",
   "execution_count": 77,
   "metadata": {},
   "outputs": [
    {
     "data": {
      "text/plain": [
       "Linear mixed model fit by maximum likelihood t-tests use Satterthwaite\n",
       "  approximations to degrees of freedom [lmerMod]\n",
       "Formula: EffectiveComments ~ Additions + Deletions + Commits + Assignees +  \n",
       "    ChangedFiles + TotalPrs + Intervention + Period + TimeAfterIntervention +  \n",
       "    (1 | Language) + (1 + Intervention | ProjectName)\n",
       "   Data: TimeSeriesData\n",
       "\n",
       "     AIC      BIC   logLik deviance df.resid \n",
       "-10200.7 -10097.3   5115.4 -10230.7     7281 \n",
       "\n",
       "Scaled residuals: \n",
       "    Min      1Q  Median      3Q     Max \n",
       "-4.9855 -0.3924 -0.0927  0.2136 21.5281 \n",
       "\n",
       "Random effects:\n",
       " Groups      Name             Variance  Std.Dev. Corr \n",
       " ProjectName (Intercept)      0.0053491 0.07314       \n",
       "             InterventionTRUE 0.0032844 0.05731  -0.29\n",
       " Language    (Intercept)      0.0002394 0.01547       \n",
       " Residual                     0.0125468 0.11201       \n",
       "Number of obs: 7296, groups:  ProjectName, 304; Language, 36\n",
       "\n",
       "Fixed effects:\n",
       "                        Estimate Std. Error         df t value Pr(>|t|)    \n",
       "(Intercept)           -9.602e-02  9.290e-03  1.370e+02 -10.337  < 2e-16 ***\n",
       "Additions              3.125e-02  3.073e-03  7.276e+03  10.167  < 2e-16 ***\n",
       "Deletions             -1.733e-02  3.219e-03  7.223e+03  -5.384 7.50e-08 ***\n",
       "Commits                1.181e-01  5.741e-03  7.251e+03  20.574  < 2e-16 ***\n",
       "Assignees              1.741e-02  1.901e-02  4.204e+03   0.916    0.360    \n",
       "ChangedFiles          -3.195e-02  7.311e-03  7.270e+03  -4.370 1.26e-05 ***\n",
       "TotalPrs               3.731e-05  5.889e-05  3.616e+03   0.634    0.526    \n",
       "InterventionTRUE       4.735e-03  6.535e-03  1.623e+03   0.724    0.469    \n",
       "Period                 3.015e-03  5.399e-04  6.711e+03   5.584 2.44e-08 ***\n",
       "TimeAfterIntervention -3.514e-03  7.607e-04  6.687e+03  -4.619 3.93e-06 ***\n",
       "---\n",
       "Signif. codes:  0 ‘***’ 0.001 ‘**’ 0.01 ‘*’ 0.05 ‘.’ 0.1 ‘ ’ 1\n",
       "\n",
       "Correlation of Fixed Effects:\n",
       "            (Intr) Addtns Deltns Commts Assgns ChngdF TtlPrs InTRUE Period\n",
       "Additions   -0.092                                                        \n",
       "Deletions    0.042 -0.258                                                 \n",
       "Commits     -0.473 -0.082 -0.072                                          \n",
       "Assignees   -0.051 -0.059 -0.007  0.009                                   \n",
       "ChangedFils -0.007 -0.617 -0.396 -0.148  0.048                            \n",
       "TotalPrs    -0.153  0.010 -0.050  0.042 -0.008  0.008                     \n",
       "IntrvntTRUE  0.065  0.000  0.000 -0.012  0.001 -0.007 -0.028              \n",
       "Period      -0.385  0.009  0.006  0.052 -0.054 -0.030 -0.060 -0.449       \n",
       "TmAftrIntrv  0.265 -0.006 -0.011 -0.017  0.033  0.021  0.026 -0.117 -0.707"
      ]
     },
     "metadata": {},
     "output_type": "display_data"
    },
    {
     "data": {
      "text/html": [
       "<dl class=dl-horizontal>\n",
       "\t<dt>R2m</dt>\n",
       "\t\t<dd>0.104937538540038</dd>\n",
       "\t<dt>R2c</dt>\n",
       "\t\t<dd>0.39488035352673</dd>\n",
       "</dl>\n"
      ],
      "text/latex": [
       "\\begin{description*}\n",
       "\\item[R2m] 0.104937538540038\n",
       "\\item[R2c] 0.39488035352673\n",
       "\\end{description*}\n"
      ],
      "text/markdown": [
       "R2m\n",
       ":   0.104937538540038R2c\n",
       ":   0.39488035352673\n",
       "\n"
      ],
      "text/plain": [
       "      R2m       R2c \n",
       "0.1049375 0.3948804 "
      ]
     },
     "metadata": {},
     "output_type": "display_data"
    },
    {
     "data": {
      "text/html": [
       "<dl class=dl-horizontal>\n",
       "\t<dt>Additions</dt>\n",
       "\t\t<dd>3.94720028509683</dd>\n",
       "\t<dt>Deletions</dt>\n",
       "\t\t<dd>2.81446065429617</dd>\n",
       "\t<dt>Commits</dt>\n",
       "\t\t<dd>1.31989094927366</dd>\n",
       "\t<dt>Assignees</dt>\n",
       "\t\t<dd>1.00896488835991</dd>\n",
       "\t<dt>ChangedFiles</dt>\n",
       "\t\t<dd>4.4905755893665</dd>\n",
       "\t<dt>TotalPrs</dt>\n",
       "\t\t<dd>1.02102548044043</dd>\n",
       "\t<dt>InterventionTRUE</dt>\n",
       "\t\t<dd>2.41515327999224</dd>\n",
       "\t<dt>Period</dt>\n",
       "\t\t<dd>4.8061771531118</dd>\n",
       "\t<dt>TimeAfterIntervention</dt>\n",
       "\t\t<dd>3.84577778220887</dd>\n",
       "</dl>\n"
      ],
      "text/latex": [
       "\\begin{description*}\n",
       "\\item[Additions] 3.94720028509683\n",
       "\\item[Deletions] 2.81446065429617\n",
       "\\item[Commits] 1.31989094927366\n",
       "\\item[Assignees] 1.00896488835991\n",
       "\\item[ChangedFiles] 4.4905755893665\n",
       "\\item[TotalPrs] 1.02102548044043\n",
       "\\item[InterventionTRUE] 2.41515327999224\n",
       "\\item[Period] 4.8061771531118\n",
       "\\item[TimeAfterIntervention] 3.84577778220887\n",
       "\\end{description*}\n"
      ],
      "text/markdown": [
       "Additions\n",
       ":   3.94720028509683Deletions\n",
       ":   2.81446065429617Commits\n",
       ":   1.31989094927366Assignees\n",
       ":   1.00896488835991ChangedFiles\n",
       ":   4.4905755893665TotalPrs\n",
       ":   1.02102548044043InterventionTRUE\n",
       ":   2.41515327999224Period\n",
       ":   4.8061771531118TimeAfterIntervention\n",
       ":   3.84577778220887\n",
       "\n"
      ],
      "text/plain": [
       "            Additions             Deletions               Commits \n",
       "             3.947200              2.814461              1.319891 \n",
       "            Assignees          ChangedFiles              TotalPrs \n",
       "             1.008965              4.490576              1.021025 \n",
       "     InterventionTRUE                Period TimeAfterIntervention \n",
       "             2.415153              4.806177              3.845778 "
      ]
     },
     "metadata": {},
     "output_type": "display_data"
    },
    {
     "data": {
      "text/html": [
       "<table>\n",
       "<thead><tr><th></th><th scope=col>Sum Sq</th><th scope=col>Mean Sq</th><th scope=col>NumDF</th><th scope=col>DenDF</th><th scope=col>F.value</th><th scope=col>Pr(&gt;F)</th></tr></thead>\n",
       "<tbody>\n",
       "\t<tr><th scope=row>Additions</th><td>1.296957960 </td><td>1.296957960 </td><td>1           </td><td>7275.612    </td><td>103.3698477 </td><td>0.000000e+00</td></tr>\n",
       "\t<tr><th scope=row>Deletions</th><td>0.363749784 </td><td>0.363749784 </td><td>1           </td><td>7223.170    </td><td> 28.9915024 </td><td>7.498454e-08</td></tr>\n",
       "\t<tr><th scope=row>Commits</th><td>5.310722393 </td><td>5.310722393 </td><td>1           </td><td>7250.522    </td><td>423.2739855 </td><td>0.000000e+00</td></tr>\n",
       "\t<tr><th scope=row>Assignees</th><td>0.010527377 </td><td>0.010527377 </td><td>1           </td><td>4204.098    </td><td>  0.8390506 </td><td>3.597210e-01</td></tr>\n",
       "\t<tr><th scope=row>ChangedFiles</th><td>0.239565637 </td><td>0.239565637 </td><td>1           </td><td>7269.723    </td><td> 19.0938058 </td><td>1.261778e-05</td></tr>\n",
       "\t<tr><th scope=row>TotalPrs</th><td>0.005036171 </td><td>0.005036171 </td><td>1           </td><td>3616.386    </td><td>  0.4013917 </td><td>5.264114e-01</td></tr>\n",
       "\t<tr><th scope=row>Intervention</th><td>0.006585597 </td><td>0.006585597 </td><td>1           </td><td>1622.521    </td><td>  0.5248837 </td><td>4.688703e-01</td></tr>\n",
       "\t<tr><th scope=row>Period</th><td>0.391250747 </td><td>0.391250747 </td><td>1           </td><td>6711.094    </td><td> 31.1833778 </td><td>2.439582e-08</td></tr>\n",
       "\t<tr><th scope=row>TimeAfterIntervention</th><td>0.267699412 </td><td>0.267699412 </td><td>1           </td><td>6686.646    </td><td> 21.3361175 </td><td>3.926174e-06</td></tr>\n",
       "</tbody>\n",
       "</table>\n"
      ],
      "text/latex": [
       "\\begin{tabular}{r|llllll}\n",
       "  & Sum Sq & Mean Sq & NumDF & DenDF & F.value & Pr(>F)\\\\\n",
       "\\hline\n",
       "\tAdditions & 1.296957960  & 1.296957960  & 1            & 7275.612     & 103.3698477  & 0.000000e+00\\\\\n",
       "\tDeletions & 0.363749784  & 0.363749784  & 1            & 7223.170     &  28.9915024  & 7.498454e-08\\\\\n",
       "\tCommits & 5.310722393  & 5.310722393  & 1            & 7250.522     & 423.2739855  & 0.000000e+00\\\\\n",
       "\tAssignees & 0.010527377  & 0.010527377  & 1            & 4204.098     &   0.8390506  & 3.597210e-01\\\\\n",
       "\tChangedFiles & 0.239565637  & 0.239565637  & 1            & 7269.723     &  19.0938058  & 1.261778e-05\\\\\n",
       "\tTotalPrs & 0.005036171  & 0.005036171  & 1            & 3616.386     &   0.4013917  & 5.264114e-01\\\\\n",
       "\tIntervention & 0.006585597  & 0.006585597  & 1            & 1622.521     &   0.5248837  & 4.688703e-01\\\\\n",
       "\tPeriod & 0.391250747  & 0.391250747  & 1            & 6711.094     &  31.1833778  & 2.439582e-08\\\\\n",
       "\tTimeAfterIntervention & 0.267699412  & 0.267699412  & 1            & 6686.646     &  21.3361175  & 3.926174e-06\\\\\n",
       "\\end{tabular}\n"
      ],
      "text/markdown": [
       "\n",
       "| <!--/--> | Sum Sq | Mean Sq | NumDF | DenDF | F.value | Pr(>F) | \n",
       "|---|---|---|---|---|---|---|---|---|\n",
       "| Additions | 1.296957960  | 1.296957960  | 1            | 7275.612     | 103.3698477  | 0.000000e+00 | \n",
       "| Deletions | 0.363749784  | 0.363749784  | 1            | 7223.170     |  28.9915024  | 7.498454e-08 | \n",
       "| Commits | 5.310722393  | 5.310722393  | 1            | 7250.522     | 423.2739855  | 0.000000e+00 | \n",
       "| Assignees | 0.010527377  | 0.010527377  | 1            | 4204.098     |   0.8390506  | 3.597210e-01 | \n",
       "| ChangedFiles | 0.239565637  | 0.239565637  | 1            | 7269.723     |  19.0938058  | 1.261778e-05 | \n",
       "| TotalPrs | 0.005036171  | 0.005036171  | 1            | 3616.386     |   0.4013917  | 5.264114e-01 | \n",
       "| Intervention | 0.006585597  | 0.006585597  | 1            | 1622.521     |   0.5248837  | 4.688703e-01 | \n",
       "| Period | 0.391250747  | 0.391250747  | 1            | 6711.094     |  31.1833778  | 2.439582e-08 | \n",
       "| TimeAfterIntervention | 0.267699412  | 0.267699412  | 1            | 6686.646     |  21.3361175  | 3.926174e-06 | \n",
       "\n",
       "\n"
      ],
      "text/plain": [
       "                      Sum Sq      Mean Sq     NumDF DenDF    F.value    \n",
       "Additions             1.296957960 1.296957960 1     7275.612 103.3698477\n",
       "Deletions             0.363749784 0.363749784 1     7223.170  28.9915024\n",
       "Commits               5.310722393 5.310722393 1     7250.522 423.2739855\n",
       "Assignees             0.010527377 0.010527377 1     4204.098   0.8390506\n",
       "ChangedFiles          0.239565637 0.239565637 1     7269.723  19.0938058\n",
       "TotalPrs              0.005036171 0.005036171 1     3616.386   0.4013917\n",
       "Intervention          0.006585597 0.006585597 1     1622.521   0.5248837\n",
       "Period                0.391250747 0.391250747 1     6711.094  31.1833778\n",
       "TimeAfterIntervention 0.267699412 0.267699412 1     6686.646  21.3361175\n",
       "                      Pr(>F)      \n",
       "Additions             0.000000e+00\n",
       "Deletions             7.498454e-08\n",
       "Commits               0.000000e+00\n",
       "Assignees             3.597210e-01\n",
       "ChangedFiles          1.261778e-05\n",
       "TotalPrs              5.264114e-01\n",
       "Intervention          4.688703e-01\n",
       "Period                2.439582e-08\n",
       "TimeAfterIntervention 3.926174e-06"
      ]
     },
     "metadata": {},
     "output_type": "display_data"
    }
   ],
   "source": [
    "modelShareReviewComments = lmer(EffectiveComments ~ \n",
    "            Additions + \n",
    "            Deletions + \n",
    "            Commits + \n",
    "            Assignees + \n",
    "            ChangedFiles + \n",
    "            #GeneralComments + \n",
    "            TotalPrs +\n",
    "            Intervention +\n",
    "            Period + \n",
    "            TimeAfterIntervention +\n",
    "            (1|Language) +\n",
    "            (1+Intervention|ProjectName),\n",
    "          data= TimeSeriesData, \n",
    "          REML=FALSE)\n",
    "summary(modelShareReviewComments)\n",
    "r.squaredGLMM(modelShareReviewComments)\n",
    "vif.mer(modelShareReviewComments)\n",
    "anova(modelShareReviewComments)"
   ]
  },
  {
   "cell_type": "code",
   "execution_count": 79,
   "metadata": {},
   "outputs": [
    {
     "data": {
      "text/plain": [
       "Linear mixed model fit by maximum likelihood t-tests use Satterthwaite\n",
       "  approximations to degrees of freedom [lmerMod]\n",
       "Formula: CommitsAfterCreate ~ Additions + Deletions + Commits + Assignees +  \n",
       "    ChangedFiles + TotalPrs + GeneralComments + Intervention +  \n",
       "    Period + TimeAfterIntervention + (1 | Language) + (1 + Intervention |  \n",
       "    ProjectName)\n",
       "   Data: TimeSeriesData\n",
       "\n",
       "     AIC      BIC   logLik deviance df.resid \n",
       " -4958.7  -4848.3   2495.3  -4990.7     7280 \n",
       "\n",
       "Scaled residuals: \n",
       "     Min       1Q   Median       3Q      Max \n",
       "-10.8614  -0.4345  -0.0085   0.4173  11.3471 \n",
       "\n",
       "Random effects:\n",
       " Groups      Name             Variance Std.Dev. Corr \n",
       " ProjectName (Intercept)      0.009398 0.09694       \n",
       "             InterventionTRUE 0.006582 0.08113  -0.62\n",
       " Language    (Intercept)      0.000640 0.02530       \n",
       " Residual                     0.026253 0.16203       \n",
       "Number of obs: 7296, groups:  ProjectName, 304; Language, 36\n",
       "\n",
       "Fixed effects:\n",
       "                        Estimate Std. Error         df t value Pr(>|t|)    \n",
       "(Intercept)           -4.357e-01  1.366e-02  1.780e+02 -31.891  < 2e-16 ***\n",
       "Additions              2.945e-02  4.418e-03  7.230e+03   6.666 2.82e-11 ***\n",
       "Deletions              6.081e-03  4.622e-03  7.250e+03   1.316  0.18837    \n",
       "Commits                5.237e-01  8.263e-03  7.000e+03  63.382  < 2e-16 ***\n",
       "Assignees              8.304e-02  2.575e-02  2.443e+03   3.225  0.00128 ** \n",
       "ChangedFiles          -7.492e-02  1.045e-02  7.130e+03  -7.167 8.41e-13 ***\n",
       "TotalPrs               8.955e-05  7.910e-05  2.125e+03   1.132  0.25769    \n",
       "GeneralComments        1.505e-01  5.930e-03  5.073e+03  25.374  < 2e-16 ***\n",
       "InterventionTRUE       2.830e-03  9.410e-03  1.646e+03   0.301  0.76365    \n",
       "Period                 1.906e-03  7.826e-04  6.736e+03   2.435  0.01492 *  \n",
       "TimeAfterIntervention -1.762e-03  1.101e-03  6.699e+03  -1.600  0.10962    \n",
       "---\n",
       "Signif. codes:  0 ‘***’ 0.001 ‘**’ 0.01 ‘*’ 0.05 ‘.’ 0.1 ‘ ’ 1\n",
       "\n",
       "Correlation of Fixed Effects:\n",
       "            (Intr) Addtns Deltns Commts Assgns ChngdF TtlPrs GnrlCm InTRUE\n",
       "Additions   -0.062                                                        \n",
       "Deletions    0.034 -0.264                                                 \n",
       "Commits     -0.416 -0.070 -0.079                                          \n",
       "Assignees   -0.027 -0.047 -0.014  0.020                                   \n",
       "ChangedFils -0.023 -0.617 -0.394 -0.149  0.038                            \n",
       "TotalPrs    -0.150  0.010 -0.047  0.032 -0.011  0.006                     \n",
       "GenrlCmmnts -0.250 -0.100  0.040 -0.139 -0.074  0.059  0.044              \n",
       "IntrvntTRUE  0.015  0.004 -0.002 -0.006  0.004 -0.009 -0.028 -0.041       \n",
       "Period      -0.360  0.015  0.003  0.061 -0.044 -0.033 -0.059 -0.072 -0.447\n",
       "TmAftrIntrv  0.249 -0.010 -0.009 -0.023  0.027  0.023  0.026  0.046 -0.119\n",
       "            Period\n",
       "Additions         \n",
       "Deletions         \n",
       "Commits           \n",
       "Assignees         \n",
       "ChangedFils       \n",
       "TotalPrs          \n",
       "GenrlCmmnts       \n",
       "IntrvntTRUE       \n",
       "Period            \n",
       "TmAftrIntrv -0.708"
      ]
     },
     "metadata": {},
     "output_type": "display_data"
    },
    {
     "data": {
      "text/html": [
       "<dl class=dl-horizontal>\n",
       "\t<dt>R2m</dt>\n",
       "\t\t<dd>0.547590434506048</dd>\n",
       "\t<dt>R2c</dt>\n",
       "\t\t<dd>0.658096782539796</dd>\n",
       "</dl>\n"
      ],
      "text/latex": [
       "\\begin{description*}\n",
       "\\item[R2m] 0.547590434506048\n",
       "\\item[R2c] 0.658096782539796\n",
       "\\end{description*}\n"
      ],
      "text/markdown": [
       "R2m\n",
       ":   0.547590434506048R2c\n",
       ":   0.658096782539796\n",
       "\n"
      ],
      "text/plain": [
       "      R2m       R2c \n",
       "0.5475904 0.6580968 "
      ]
     },
     "metadata": {},
     "output_type": "display_data"
    },
    {
     "data": {
      "text/html": [
       "<dl class=dl-horizontal>\n",
       "\t<dt>Additions</dt>\n",
       "\t\t<dd>4.04105762097078</dd>\n",
       "\t<dt>Deletions</dt>\n",
       "\t\t<dd>2.8713358103461</dd>\n",
       "\t<dt>Commits</dt>\n",
       "\t\t<dd>1.34857170146154</dd>\n",
       "\t<dt>Assignees</dt>\n",
       "\t\t<dd>1.01381872099434</dd>\n",
       "\t<dt>ChangedFiles</dt>\n",
       "\t\t<dd>4.54770756754388</dd>\n",
       "\t<dt>TotalPrs</dt>\n",
       "\t\t<dd>1.02056216046122</dd>\n",
       "\t<dt>GeneralComments</dt>\n",
       "\t\t<dd>1.06369158527695</dd>\n",
       "\t<dt>InterventionTRUE</dt>\n",
       "\t\t<dd>2.45643388236969</dd>\n",
       "\t<dt>Period</dt>\n",
       "\t\t<dd>4.90028010368263</dd>\n",
       "\t<dt>TimeAfterIntervention</dt>\n",
       "\t\t<dd>3.90184743279481</dd>\n",
       "</dl>\n"
      ],
      "text/latex": [
       "\\begin{description*}\n",
       "\\item[Additions] 4.04105762097078\n",
       "\\item[Deletions] 2.8713358103461\n",
       "\\item[Commits] 1.34857170146154\n",
       "\\item[Assignees] 1.01381872099434\n",
       "\\item[ChangedFiles] 4.54770756754388\n",
       "\\item[TotalPrs] 1.02056216046122\n",
       "\\item[GeneralComments] 1.06369158527695\n",
       "\\item[InterventionTRUE] 2.45643388236969\n",
       "\\item[Period] 4.90028010368263\n",
       "\\item[TimeAfterIntervention] 3.90184743279481\n",
       "\\end{description*}\n"
      ],
      "text/markdown": [
       "Additions\n",
       ":   4.04105762097078Deletions\n",
       ":   2.8713358103461Commits\n",
       ":   1.34857170146154Assignees\n",
       ":   1.01381872099434ChangedFiles\n",
       ":   4.54770756754388TotalPrs\n",
       ":   1.02056216046122GeneralComments\n",
       ":   1.06369158527695InterventionTRUE\n",
       ":   2.45643388236969Period\n",
       ":   4.90028010368263TimeAfterIntervention\n",
       ":   3.90184743279481\n",
       "\n"
      ],
      "text/plain": [
       "            Additions             Deletions               Commits \n",
       "             4.041058              2.871336              1.348572 \n",
       "            Assignees          ChangedFiles              TotalPrs \n",
       "             1.013819              4.547708              1.020562 \n",
       "      GeneralComments      InterventionTRUE                Period \n",
       "             1.063692              2.456434              4.900280 \n",
       "TimeAfterIntervention \n",
       "             3.901847 "
      ]
     },
     "metadata": {},
     "output_type": "display_data"
    },
    {
     "data": {
      "text/html": [
       "<table>\n",
       "<thead><tr><th></th><th scope=col>Sum Sq</th><th scope=col>Mean Sq</th><th scope=col>NumDF</th><th scope=col>DenDF</th><th scope=col>F.value</th><th scope=col>Pr(&gt;F)</th></tr></thead>\n",
       "<tbody>\n",
       "\t<tr><th scope=row>Additions</th><td>1.166546e+00</td><td>1.166546e+00</td><td>1           </td><td>7230.328    </td><td>4.443454e+01</td><td>2.823652e-11</td></tr>\n",
       "\t<tr><th scope=row>Deletions</th><td>4.543434e-02</td><td>4.543434e-02</td><td>1           </td><td>7249.877    </td><td>1.730626e+00</td><td>1.883726e-01</td></tr>\n",
       "\t<tr><th scope=row>Commits</th><td>1.054670e+02</td><td>1.054670e+02</td><td>1           </td><td>6999.949    </td><td>4.017311e+03</td><td>0.000000e+00</td></tr>\n",
       "\t<tr><th scope=row>Assignees</th><td>2.730551e-01</td><td>2.730551e-01</td><td>1           </td><td>2443.285    </td><td>1.040086e+01</td><td>1.276184e-03</td></tr>\n",
       "\t<tr><th scope=row>ChangedFiles</th><td>1.348665e+00</td><td>1.348665e+00</td><td>1           </td><td>7130.359    </td><td>5.137158e+01</td><td>8.411050e-13</td></tr>\n",
       "\t<tr><th scope=row>TotalPrs</th><td>3.365115e-02</td><td>3.365115e-02</td><td>1           </td><td>2125.484    </td><td>1.281796e+00</td><td>2.576931e-01</td></tr>\n",
       "\t<tr><th scope=row>GeneralComments</th><td>1.690303e+01</td><td>1.690303e+01</td><td>1           </td><td>5072.985    </td><td>6.438482e+02</td><td>0.000000e+00</td></tr>\n",
       "\t<tr><th scope=row>Intervention</th><td>2.374365e-03</td><td>2.374365e-03</td><td>1           </td><td>1645.993    </td><td>9.044123e-02</td><td>7.636550e-01</td></tr>\n",
       "\t<tr><th scope=row>Period</th><td>1.556662e-01</td><td>1.556662e-01</td><td>1           </td><td>6735.611    </td><td>5.929434e+00</td><td>1.491581e-02</td></tr>\n",
       "\t<tr><th scope=row>TimeAfterIntervention</th><td>6.721950e-02</td><td>6.721950e-02</td><td>1           </td><td>6699.351    </td><td>2.560438e+00</td><td>1.096154e-01</td></tr>\n",
       "</tbody>\n",
       "</table>\n"
      ],
      "text/latex": [
       "\\begin{tabular}{r|llllll}\n",
       "  & Sum Sq & Mean Sq & NumDF & DenDF & F.value & Pr(>F)\\\\\n",
       "\\hline\n",
       "\tAdditions & 1.166546e+00 & 1.166546e+00 & 1            & 7230.328     & 4.443454e+01 & 2.823652e-11\\\\\n",
       "\tDeletions & 4.543434e-02 & 4.543434e-02 & 1            & 7249.877     & 1.730626e+00 & 1.883726e-01\\\\\n",
       "\tCommits & 1.054670e+02 & 1.054670e+02 & 1            & 6999.949     & 4.017311e+03 & 0.000000e+00\\\\\n",
       "\tAssignees & 2.730551e-01 & 2.730551e-01 & 1            & 2443.285     & 1.040086e+01 & 1.276184e-03\\\\\n",
       "\tChangedFiles & 1.348665e+00 & 1.348665e+00 & 1            & 7130.359     & 5.137158e+01 & 8.411050e-13\\\\\n",
       "\tTotalPrs & 3.365115e-02 & 3.365115e-02 & 1            & 2125.484     & 1.281796e+00 & 2.576931e-01\\\\\n",
       "\tGeneralComments & 1.690303e+01 & 1.690303e+01 & 1            & 5072.985     & 6.438482e+02 & 0.000000e+00\\\\\n",
       "\tIntervention & 2.374365e-03 & 2.374365e-03 & 1            & 1645.993     & 9.044123e-02 & 7.636550e-01\\\\\n",
       "\tPeriod & 1.556662e-01 & 1.556662e-01 & 1            & 6735.611     & 5.929434e+00 & 1.491581e-02\\\\\n",
       "\tTimeAfterIntervention & 6.721950e-02 & 6.721950e-02 & 1            & 6699.351     & 2.560438e+00 & 1.096154e-01\\\\\n",
       "\\end{tabular}\n"
      ],
      "text/markdown": [
       "\n",
       "| <!--/--> | Sum Sq | Mean Sq | NumDF | DenDF | F.value | Pr(>F) | \n",
       "|---|---|---|---|---|---|---|---|---|---|\n",
       "| Additions | 1.166546e+00 | 1.166546e+00 | 1            | 7230.328     | 4.443454e+01 | 2.823652e-11 | \n",
       "| Deletions | 4.543434e-02 | 4.543434e-02 | 1            | 7249.877     | 1.730626e+00 | 1.883726e-01 | \n",
       "| Commits | 1.054670e+02 | 1.054670e+02 | 1            | 6999.949     | 4.017311e+03 | 0.000000e+00 | \n",
       "| Assignees | 2.730551e-01 | 2.730551e-01 | 1            | 2443.285     | 1.040086e+01 | 1.276184e-03 | \n",
       "| ChangedFiles | 1.348665e+00 | 1.348665e+00 | 1            | 7130.359     | 5.137158e+01 | 8.411050e-13 | \n",
       "| TotalPrs | 3.365115e-02 | 3.365115e-02 | 1            | 2125.484     | 1.281796e+00 | 2.576931e-01 | \n",
       "| GeneralComments | 1.690303e+01 | 1.690303e+01 | 1            | 5072.985     | 6.438482e+02 | 0.000000e+00 | \n",
       "| Intervention | 2.374365e-03 | 2.374365e-03 | 1            | 1645.993     | 9.044123e-02 | 7.636550e-01 | \n",
       "| Period | 1.556662e-01 | 1.556662e-01 | 1            | 6735.611     | 5.929434e+00 | 1.491581e-02 | \n",
       "| TimeAfterIntervention | 6.721950e-02 | 6.721950e-02 | 1            | 6699.351     | 2.560438e+00 | 1.096154e-01 | \n",
       "\n",
       "\n"
      ],
      "text/plain": [
       "                      Sum Sq       Mean Sq      NumDF DenDF    F.value     \n",
       "Additions             1.166546e+00 1.166546e+00 1     7230.328 4.443454e+01\n",
       "Deletions             4.543434e-02 4.543434e-02 1     7249.877 1.730626e+00\n",
       "Commits               1.054670e+02 1.054670e+02 1     6999.949 4.017311e+03\n",
       "Assignees             2.730551e-01 2.730551e-01 1     2443.285 1.040086e+01\n",
       "ChangedFiles          1.348665e+00 1.348665e+00 1     7130.359 5.137158e+01\n",
       "TotalPrs              3.365115e-02 3.365115e-02 1     2125.484 1.281796e+00\n",
       "GeneralComments       1.690303e+01 1.690303e+01 1     5072.985 6.438482e+02\n",
       "Intervention          2.374365e-03 2.374365e-03 1     1645.993 9.044123e-02\n",
       "Period                1.556662e-01 1.556662e-01 1     6735.611 5.929434e+00\n",
       "TimeAfterIntervention 6.721950e-02 6.721950e-02 1     6699.351 2.560438e+00\n",
       "                      Pr(>F)      \n",
       "Additions             2.823652e-11\n",
       "Deletions             1.883726e-01\n",
       "Commits               0.000000e+00\n",
       "Assignees             1.276184e-03\n",
       "ChangedFiles          8.411050e-13\n",
       "TotalPrs              2.576931e-01\n",
       "GeneralComments       0.000000e+00\n",
       "Intervention          7.636550e-01\n",
       "Period                1.491581e-02\n",
       "TimeAfterIntervention 1.096154e-01"
      ]
     },
     "metadata": {},
     "output_type": "display_data"
    }
   ],
   "source": [
    "modelShareReviewComments = lmer(CommitsAfterCreate ~ \n",
    "            Additions + \n",
    "            Deletions + \n",
    "            Commits + \n",
    "            Assignees + \n",
    "            ChangedFiles + \n",
    "            TotalPrs +\n",
    "            GeneralComments + \n",
    "            Intervention +\n",
    "            Period + \n",
    "            TimeAfterIntervention +\n",
    "            (1|Language) +\n",
    "            (1+Intervention|ProjectName),\n",
    "          data= TimeSeriesData, \n",
    "          REML=FALSE)\n",
    "summary(modelShareReviewComments)\n",
    "r.squaredGLMM(modelShareReviewComments)\n",
    "vif.mer(modelShareReviewComments)\n",
    "anova(modelShareReviewComments)"
   ]
  },
  {
   "cell_type": "markdown",
   "metadata": {},
   "source": [
    "# how about if we don't apply any aggregation"
   ]
  },
  {
   "cell_type": "code",
   "execution_count": 29,
   "metadata": {},
   "outputs": [
    {
     "data": {
      "text/plain": [
       "                       ProjectName       Period      EffectiveComments\n",
       " adobe/brackets              : 638   Min.   : 1.00   Min.   :  1.000  \n",
       " caskdata/cdap               : 633   1st Qu.: 7.00   1st Qu.:  1.000  \n",
       " DynamoDS/Dynamo             : 420   Median :13.00   Median :  2.000  \n",
       " symfony/symfony-docs        : 370   Mean   :12.93   Mean   :  6.055  \n",
       " AnalyticalGraphicsInc/cesium: 261   3rd Qu.:19.00   3rd Qu.:  5.000  \n",
       " cakephp/docs                : 253   Max.   :25.00   Max.   :190.000  \n",
       " (Other)                     :1966                                    \n",
       " ReviewThreads    GeneralComments     Additions          Deletions       \n",
       " Min.   :  1.00   Min.   :  0.000   Min.   :     0.0   Min.   :     0.0  \n",
       " 1st Qu.:  2.00   1st Qu.:  2.000   1st Qu.:    13.0   1st Qu.:     1.0  \n",
       " Median :  5.00   Median :  4.000   Median :    87.0   Median :    12.0  \n",
       " Mean   : 12.55   Mean   :  8.498   Mean   :   819.5   Mean   :   322.8  \n",
       " 3rd Qu.: 13.00   3rd Qu.:  9.000   3rd Qu.:   347.0   3rd Qu.:    71.0  \n",
       " Max.   :358.00   Max.   :279.000   Max.   :265154.0   Max.   :265026.0  \n",
       "                                                                         \n",
       "    Commits        IsMerged      Assignees       ChangedFiles    \n",
       " Min.   :  1.00   False: 776   Min.   :0.0000   Min.   :   0.00  \n",
       " 1st Qu.:  3.00   True :3765   1st Qu.:0.0000   1st Qu.:   1.00  \n",
       " Median :  5.00                Median :0.0000   Median :   4.00  \n",
       " Mean   : 11.59                Mean   :0.2233   Mean   :  12.43  \n",
       " 3rd Qu.: 10.00                3rd Qu.:0.0000   3rd Qu.:  10.00  \n",
       " Max.   :250.00                Max.   :2.0000   Max.   :1480.00  \n",
       "                                                                 "
      ]
     },
     "metadata": {},
     "output_type": "display_data"
    }
   ],
   "source": [
    "filename_no_aggr <- 'generated/metrics_for_time_series_no_aggr.csv'\n",
    "\n",
    "TimeSeriesDataNoAggr <- read.csv(file=filename_no_aggr, header=TRUE, sep=\",\")\n",
    "\n",
    "summary(TimeSeriesDataNoAggr)\n",
    "\n",
    "TimeSeriesDataNoAggr <- sqldf(\"select *\n",
    "                      from 'TimeSeriesDataNoAggr' \n",
    "                      where Period != 13\")\n",
    "\n",
    "\n",
    "TimeSeriesDataNoAggr$Intervention = TimeSeriesDataNoAggr$Period > 12\n",
    "TimeSeriesDataNoAggr$TimeAfterIntervention = ifelse(TimeSeriesDataNoAggr$Period>12, TimeSeriesDataNoAggr$Period-12, 0)"
   ]
  },
  {
   "cell_type": "code",
   "execution_count": 30,
   "metadata": {},
   "outputs": [
    {
     "name": "stdout",
     "output_type": "stream",
     "text": [
      "  count(distinct(ProjectName))\n",
      "1                           18\n"
     ]
    }
   ],
   "source": [
    "projects <- sqldf(\"select count(distinct(ProjectName)) from TimeSeriesDataNoAggr\")\n",
    "\n",
    "print(projects)"
   ]
  },
  {
   "cell_type": "code",
   "execution_count": 31,
   "metadata": {},
   "outputs": [
    {
     "data": {
      "text/plain": [
       "Linear mixed model fit by maximum likelihood t-tests use Satterthwaite\n",
       "  approximations to degrees of freedom [lmerMod]\n",
       "Formula: log(EffectiveComments + 1) ~ log(Additions + 1) + log(Deletions +  \n",
       "    1) + log(Commits + 1) + log(Assignees + 1) + log(ChangedFiles +  \n",
       "    1) + IsMerged + Intervention + Period + TimeAfterIntervention +  \n",
       "    (1 + Intervention | ProjectName)\n",
       "   Data: TimeSeriesDataNoAggr\n",
       "\n",
       "     AIC      BIC   logLik deviance df.resid \n",
       "  9171.4   9260.6  -4571.7   9143.4     4317 \n",
       "\n",
       "Scaled residuals: \n",
       "    Min      1Q  Median      3Q     Max \n",
       "-3.5157 -0.6843 -0.1494  0.5464  4.4667 \n",
       "\n",
       "Random effects:\n",
       " Groups      Name             Variance Std.Dev. Corr\n",
       " ProjectName (Intercept)      0.02523  0.1588       \n",
       "             InterventionTRUE 0.01784  0.1336   0.00\n",
       " Residual                     0.47627  0.6901       \n",
       "Number of obs: 4331, groups:  ProjectName, 18\n",
       "\n",
       "Fixed effects:\n",
       "                        Estimate Std. Error         df t value Pr(>|t|)    \n",
       "(Intercept)            3.615e-01  6.521e-02  1.120e+02   5.544 1.99e-07 ***\n",
       "log(Additions + 1)     1.096e-01  8.732e-03  4.322e+03  12.553  < 2e-16 ***\n",
       "log(Deletions + 1)    -8.390e-02  7.609e-03  4.318e+03 -11.026  < 2e-16 ***\n",
       "log(Commits + 1)       4.145e-01  1.529e-02  4.320e+03  27.107  < 2e-16 ***\n",
       "log(Assignees + 1)     1.487e-01  4.987e-02  3.574e+03   2.982  0.00288 ** \n",
       "log(ChangedFiles + 1) -4.730e-02  1.942e-02  4.328e+03  -2.435  0.01493 *  \n",
       "IsMergedTrue           1.706e-02  3.038e-02  4.304e+03   0.562  0.57438    \n",
       "InterventionTRUE      -1.353e-02  5.635e-02  6.100e+01  -0.240  0.81111    \n",
       "Period                 9.635e-03  4.232e-03  4.262e+03   2.276  0.02287 *  \n",
       "TimeAfterIntervention -1.294e-02  6.174e-03  4.274e+03  -2.096  0.03610 *  \n",
       "---\n",
       "Signif. codes:  0 ‘***’ 0.001 ‘**’ 0.01 ‘*’ 0.05 ‘.’ 0.1 ‘ ’ 1\n",
       "\n",
       "Correlation of Fixed Effects:\n",
       "            (Intr) lg(Ad+1) l(D+1) l(C+1) lg(As+1) l(CF+1 IsMrgT InTRUE Period\n",
       "lg(Addtn+1) -0.148                                                            \n",
       "lg(Dltns+1)  0.041 -0.213                                                     \n",
       "lg(Cmmts+1) -0.372 -0.143   -0.018                                            \n",
       "lg(Assgn+1) -0.020 -0.042    0.015 -0.024                                     \n",
       "lg(ChngF+1)  0.058 -0.586   -0.408 -0.184  0.028                              \n",
       "IsMergedTru -0.450 -0.010   -0.054  0.174 -0.006   -0.012                     \n",
       "IntrvntTRUE  0.095 -0.007    0.014 -0.019 -0.009   -0.003  0.021              \n",
       "Period      -0.477  0.042   -0.002  0.030 -0.067   -0.012  0.027 -0.389       \n",
       "TmAftrIntrv  0.333 -0.034   -0.021 -0.004  0.080    0.013 -0.044 -0.167 -0.690"
      ]
     },
     "metadata": {},
     "output_type": "display_data"
    },
    {
     "data": {
      "text/html": [
       "<dl class=dl-horizontal>\n",
       "\t<dt>R2m</dt>\n",
       "\t\t<dd>0.253367705587287</dd>\n",
       "\t<dt>R2c</dt>\n",
       "\t\t<dd>0.303135929314067</dd>\n",
       "</dl>\n"
      ],
      "text/latex": [
       "\\begin{description*}\n",
       "\\item[R2m] 0.253367705587287\n",
       "\\item[R2c] 0.303135929314067\n",
       "\\end{description*}\n"
      ],
      "text/markdown": [
       "R2m\n",
       ":   0.253367705587287R2c\n",
       ":   0.303135929314067\n",
       "\n"
      ],
      "text/plain": [
       "      R2m       R2c \n",
       "0.2533677 0.3031359 "
      ]
     },
     "metadata": {},
     "output_type": "display_data"
    },
    {
     "data": {
      "text/html": [
       "<dl class=dl-horizontal>\n",
       "\t<dt>log(Additions + 1)</dt>\n",
       "\t\t<dd>3.18513273009702</dd>\n",
       "\t<dt>log(Deletions + 1)</dt>\n",
       "\t\t<dd>2.28109852152519</dd>\n",
       "\t<dt>log(Commits + 1)</dt>\n",
       "\t\t<dd>1.39873301642453</dd>\n",
       "\t<dt>log(Assignees + 1)</dt>\n",
       "\t\t<dd>1.00923042719014</dd>\n",
       "\t<dt>log(ChangedFiles + 1)</dt>\n",
       "\t\t<dd>3.72064348341819</dd>\n",
       "\t<dt>IsMergedTrue</dt>\n",
       "\t\t<dd>1.03654761015424</dd>\n",
       "\t<dt>InterventionTRUE</dt>\n",
       "\t\t<dd>2.04777191920487</dd>\n",
       "\t<dt>Period</dt>\n",
       "\t\t<dd>3.80413176876271</dd>\n",
       "\t<dt>TimeAfterIntervention</dt>\n",
       "\t\t<dd>3.32228242314431</dd>\n",
       "</dl>\n"
      ],
      "text/latex": [
       "\\begin{description*}\n",
       "\\item[log(Additions + 1)] 3.18513273009702\n",
       "\\item[log(Deletions + 1)] 2.28109852152519\n",
       "\\item[log(Commits + 1)] 1.39873301642453\n",
       "\\item[log(Assignees + 1)] 1.00923042719014\n",
       "\\item[log(ChangedFiles + 1)] 3.72064348341819\n",
       "\\item[IsMergedTrue] 1.03654761015424\n",
       "\\item[InterventionTRUE] 2.04777191920487\n",
       "\\item[Period] 3.80413176876271\n",
       "\\item[TimeAfterIntervention] 3.32228242314431\n",
       "\\end{description*}\n"
      ],
      "text/markdown": [
       "log(Additions + 1)\n",
       ":   3.18513273009702log(Deletions + 1)\n",
       ":   2.28109852152519log(Commits + 1)\n",
       ":   1.39873301642453log(Assignees + 1)\n",
       ":   1.00923042719014log(ChangedFiles + 1)\n",
       ":   3.72064348341819IsMergedTrue\n",
       ":   1.03654761015424InterventionTRUE\n",
       ":   2.04777191920487Period\n",
       ":   3.80413176876271TimeAfterIntervention\n",
       ":   3.32228242314431\n",
       "\n"
      ],
      "text/plain": [
       "   log(Additions + 1)    log(Deletions + 1)      log(Commits + 1) \n",
       "             3.185133              2.281099              1.398733 \n",
       "   log(Assignees + 1) log(ChangedFiles + 1)          IsMergedTrue \n",
       "             1.009230              3.720643              1.036548 \n",
       "     InterventionTRUE                Period TimeAfterIntervention \n",
       "             2.047772              3.804132              3.322282 "
      ]
     },
     "metadata": {},
     "output_type": "display_data"
    },
    {
     "data": {
      "text/html": [
       "<table>\n",
       "<thead><tr><th></th><th scope=col>Sum Sq</th><th scope=col>Mean Sq</th><th scope=col>NumDF</th><th scope=col>DenDF</th><th scope=col>F.value</th><th scope=col>Pr(&gt;F)</th></tr></thead>\n",
       "<tbody>\n",
       "\t<tr><th scope=row>log(Additions + 1)</th><td> 75.04443963</td><td> 75.04443963</td><td>1           </td><td>4321.977    </td><td>157.56617240</td><td>0.00000000  </td></tr>\n",
       "\t<tr><th scope=row>log(Deletions + 1)</th><td> 57.90042174</td><td> 57.90042174</td><td>1           </td><td>4317.630    </td><td>121.56993748</td><td>0.00000000  </td></tr>\n",
       "\t<tr><th scope=row>log(Commits + 1)</th><td>349.96244096</td><td>349.96244096</td><td>1           </td><td>4319.894    </td><td>734.79451083</td><td>0.00000000  </td></tr>\n",
       "\t<tr><th scope=row>log(Assignees + 1)</th><td>  4.23595771</td><td>  4.23595771</td><td>1           </td><td>3574.080    </td><td>  8.89397863</td><td>0.00288045  </td></tr>\n",
       "\t<tr><th scope=row>log(ChangedFiles + 1)</th><td>  2.82422692</td><td>  2.82422692</td><td>1           </td><td>4328.159    </td><td>  5.92985474</td><td>0.01492659  </td></tr>\n",
       "\t<tr><th scope=row>IsMerged</th><td>  0.15024479</td><td>  0.15024479</td><td>1           </td><td>4303.772    </td><td>  0.31545971</td><td>0.57437830  </td></tr>\n",
       "\t<tr><th scope=row>Intervention</th><td>  0.02744097</td><td>  0.02744097</td><td>1           </td><td>  60.608    </td><td>  0.05761611</td><td>0.81111424  </td></tr>\n",
       "\t<tr><th scope=row>Period</th><td>  2.46823576</td><td>  2.46823576</td><td>1           </td><td>4261.915    </td><td>  5.18240209</td><td>0.02286613  </td></tr>\n",
       "\t<tr><th scope=row>TimeAfterIntervention</th><td>  2.09320811</td><td>  2.09320811</td><td>1           </td><td>4274.361    </td><td>  4.39497972</td><td>0.03610353  </td></tr>\n",
       "</tbody>\n",
       "</table>\n"
      ],
      "text/latex": [
       "\\begin{tabular}{r|llllll}\n",
       "  & Sum Sq & Mean Sq & NumDF & DenDF & F.value & Pr(>F)\\\\\n",
       "\\hline\n",
       "\tlog(Additions + 1) &  75.04443963 &  75.04443963 & 1            & 4321.977     & 157.56617240 & 0.00000000  \\\\\n",
       "\tlog(Deletions + 1) &  57.90042174 &  57.90042174 & 1            & 4317.630     & 121.56993748 & 0.00000000  \\\\\n",
       "\tlog(Commits + 1) & 349.96244096 & 349.96244096 & 1            & 4319.894     & 734.79451083 & 0.00000000  \\\\\n",
       "\tlog(Assignees + 1) &   4.23595771 &   4.23595771 & 1            & 3574.080     &   8.89397863 & 0.00288045  \\\\\n",
       "\tlog(ChangedFiles + 1) &   2.82422692 &   2.82422692 & 1            & 4328.159     &   5.92985474 & 0.01492659  \\\\\n",
       "\tIsMerged &   0.15024479 &   0.15024479 & 1            & 4303.772     &   0.31545971 & 0.57437830  \\\\\n",
       "\tIntervention &   0.02744097 &   0.02744097 & 1            &   60.608     &   0.05761611 & 0.81111424  \\\\\n",
       "\tPeriod &   2.46823576 &   2.46823576 & 1            & 4261.915     &   5.18240209 & 0.02286613  \\\\\n",
       "\tTimeAfterIntervention &   2.09320811 &   2.09320811 & 1            & 4274.361     &   4.39497972 & 0.03610353  \\\\\n",
       "\\end{tabular}\n"
      ],
      "text/markdown": [
       "\n",
       "| <!--/--> | Sum Sq | Mean Sq | NumDF | DenDF | F.value | Pr(>F) | \n",
       "|---|---|---|---|---|---|---|---|---|\n",
       "| log(Additions + 1) |  75.04443963 |  75.04443963 | 1            | 4321.977     | 157.56617240 | 0.00000000   | \n",
       "| log(Deletions + 1) |  57.90042174 |  57.90042174 | 1            | 4317.630     | 121.56993748 | 0.00000000   | \n",
       "| log(Commits + 1) | 349.96244096 | 349.96244096 | 1            | 4319.894     | 734.79451083 | 0.00000000   | \n",
       "| log(Assignees + 1) |   4.23595771 |   4.23595771 | 1            | 3574.080     |   8.89397863 | 0.00288045   | \n",
       "| log(ChangedFiles + 1) |   2.82422692 |   2.82422692 | 1            | 4328.159     |   5.92985474 | 0.01492659   | \n",
       "| IsMerged |   0.15024479 |   0.15024479 | 1            | 4303.772     |   0.31545971 | 0.57437830   | \n",
       "| Intervention |   0.02744097 |   0.02744097 | 1            |   60.608     |   0.05761611 | 0.81111424   | \n",
       "| Period |   2.46823576 |   2.46823576 | 1            | 4261.915     |   5.18240209 | 0.02286613   | \n",
       "| TimeAfterIntervention |   2.09320811 |   2.09320811 | 1            | 4274.361     |   4.39497972 | 0.03610353   | \n",
       "\n",
       "\n"
      ],
      "text/plain": [
       "                      Sum Sq       Mean Sq      NumDF DenDF    F.value     \n",
       "log(Additions + 1)     75.04443963  75.04443963 1     4321.977 157.56617240\n",
       "log(Deletions + 1)     57.90042174  57.90042174 1     4317.630 121.56993748\n",
       "log(Commits + 1)      349.96244096 349.96244096 1     4319.894 734.79451083\n",
       "log(Assignees + 1)      4.23595771   4.23595771 1     3574.080   8.89397863\n",
       "log(ChangedFiles + 1)   2.82422692   2.82422692 1     4328.159   5.92985474\n",
       "IsMerged                0.15024479   0.15024479 1     4303.772   0.31545971\n",
       "Intervention            0.02744097   0.02744097 1       60.608   0.05761611\n",
       "Period                  2.46823576   2.46823576 1     4261.915   5.18240209\n",
       "TimeAfterIntervention   2.09320811   2.09320811 1     4274.361   4.39497972\n",
       "                      Pr(>F)    \n",
       "log(Additions + 1)    0.00000000\n",
       "log(Deletions + 1)    0.00000000\n",
       "log(Commits + 1)      0.00000000\n",
       "log(Assignees + 1)    0.00288045\n",
       "log(ChangedFiles + 1) 0.01492659\n",
       "IsMerged              0.57437830\n",
       "Intervention          0.81111424\n",
       "Period                0.02286613\n",
       "TimeAfterIntervention 0.03610353"
      ]
     },
     "metadata": {},
     "output_type": "display_data"
    }
   ],
   "source": [
    "modelEffectiveCommentsNoAggr = lmer(log(EffectiveComments + 1) ~ \n",
    "            log(Additions + 1) +\n",
    "            log(Deletions + 1) +\n",
    "            log(Commits + 1) +\n",
    "            log(Assignees + 1) + \n",
    "            log(ChangedFiles + 1) + \n",
    "            IsMerged + \n",
    "            Intervention +\n",
    "            Period + \n",
    "            TimeAfterIntervention +\n",
    "            (1+Intervention|ProjectName),\n",
    "          data= TimeSeriesDataNoAggr, \n",
    "          REML=FALSE)\n",
    "summary(modelEffectiveCommentsNoAggr)\n",
    "r.squaredGLMM(modelEffectiveCommentsNoAggr)\n",
    "vif.mer(modelEffectiveCommentsNoAggr)\n",
    "anova(modelEffectiveCommentsNoAggr)"
   ]
  },
  {
   "cell_type": "code",
   "execution_count": null,
   "metadata": {},
   "outputs": [],
   "source": []
  }
 ],
 "metadata": {
  "kernelspec": {
   "display_name": "R",
   "language": "R",
   "name": "ir"
  },
  "language_info": {
   "codemirror_mode": "r",
   "file_extension": ".r",
   "mimetype": "text/x-r-source",
   "name": "R",
   "pygments_lexer": "r",
   "version": "3.4.3"
  }
 },
 "nbformat": 4,
 "nbformat_minor": 2
}
