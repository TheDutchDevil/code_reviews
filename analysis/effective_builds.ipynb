{
 "cells": [
  {
   "cell_type": "markdown",
   "metadata": {},
   "source": [
    "# Introduction\n",
    "\n",
    "This notebook deals with finding effective, or pseudo-effective builds"
   ]
  },
  {
   "cell_type": "code",
   "execution_count": 1,
   "metadata": {},
   "outputs": [
    {
     "name": "stdout",
     "output_type": "stream",
     "text": [
      "Found 685 projects with a travis build status date\n"
     ]
    }
   ],
   "source": [
    "%load_ext autoreload\n",
    "%autoreload 2\n",
    "\n",
    "from pymongo import MongoClient\n",
    "from bson.objectid import ObjectId\n",
    "\n",
    "import analysis_utilities\n",
    "\n",
    "mongo_client = MongoClient()\n",
    "\n",
    "database = mongo_client[\"graduation\"]\n",
    "\n",
    "pull_requests_collection = database[\"pull_requests\"]\n",
    "\n",
    "projects_collection = database[\"projects\"]\n",
    "\n",
    "commits_collection = database[\"commits\"]\n",
    "\n",
    "projects = list(projects_collection.find({'succeeded' : True, 'travis_is_oldest_ci': True}))\n",
    "\n",
    "print(\"Found {} projects with a travis build status date\".format(len(projects)))"
   ]
  },
  {
   "cell_type": "code",
   "execution_count": null,
   "metadata": {},
   "outputs": [],
   "source": [
    "for project in projects:\n",
    "    pull_requests = list(pull_requests_collection.find({\n",
    "        'project_name': project[\"full_name\"].split(\"/\")[1],\n",
    "        'project_owner': project[\"full_name\"].split(\"/\")[0],\n",
    "    }))\n",
    "    \n",
    "    after = analysis_utilities.split_prs_on_build_date(project, pull_requests, field_name= \"status_travis_date\", days_delta = 0)[1]\n",
    "    \n",
    "    for pr in after:\n",
    "        full_commits = list([commits_collection.find_one({'sha': commit_hash, 'date': {'$exists': True}, 'statuses': {'$exists': True}}) for commit_hash in pr[\"commits\"]])\n",
    "        \n",
    "        full_commits = [c for c in full_commits if c is not None]\n",
    "        \n",
    "        if len(full_commits)== 0:\n",
    "            continue\n",
    "            \n",
    "        full_commits.sort(key = lambda c : c[\"date\"])\n",
    "        \n",
    "        statuses = []\n",
    "        \n",
    "        for commit in full_commits:\n",
    "            \n",
    "            build_res = [status for status in commit[\"statuses\"] if status[\"target_url\"] is not None and status[\"target_url\"].startswith(\"https://travis-ci.org\") and status[\"state\"] != \"pending\"]\n",
    "            \n",
    "            build_res.sort(key = lambda r : r[\"created_at\"])\n",
    "            \n",
    "            statuses.extend(build_res)\n",
    "        \n",
    "        current_build_status = True\n",
    "        \n",
    "        pe_build = 0\n",
    "            \n",
    "        for status in statuses:\n",
    "            new_state = True\n",
    "            \n",
    "            if status[\"state\"] == \"passed\":\n",
    "                new_state = True\n",
    "            elif status[\"state\"] == \"failure\":\n",
    "                new_state = False\n",
    "                \n",
    "            if new_state != current_build_status and new_state:\n",
    "                pe_build += 1\n",
    "                \n",
    "            current_build_status = new_state\n",
    "            \n",
    "        pr[\"pseudo_effective_builds\"] = pe_build\n",
    "        \n",
    "        pull_requests_collection.update_one({\"_id\": pr[\"_id\"]}, {\"$set\": {\"pseudo_effective_builds\" : pr[\"pseudo_effective_builds\"]}})\n",
    "            \n",
    "        "
   ]
  },
  {
   "cell_type": "code",
   "execution_count": null,
   "metadata": {},
   "outputs": [],
   "source": []
  }
 ],
 "metadata": {
  "kernelspec": {
   "display_name": "Python 3",
   "language": "python",
   "name": "python3"
  },
  "language_info": {
   "codemirror_mode": {
    "name": "ipython",
    "version": 3
   },
   "file_extension": ".py",
   "mimetype": "text/x-python",
   "name": "python",
   "nbconvert_exporter": "python",
   "pygments_lexer": "ipython3",
   "version": "3.6.5"
  }
 },
 "nbformat": 4,
 "nbformat_minor": 2
}
