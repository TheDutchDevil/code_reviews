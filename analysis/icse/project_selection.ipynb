{
 "cells": [
  {
   "cell_type": "code",
   "execution_count": 46,
   "metadata": {},
   "outputs": [],
   "source": [
    "%matplotlib inline\n",
    "import pandas as pd\n",
    "import MySQLdb\n",
    "from matplotlib import pyplot as plt"
   ]
  },
  {
   "cell_type": "code",
   "execution_count": 26,
   "metadata": {},
   "outputs": [
    {
     "data": {
      "text/html": [
       "<div>\n",
       "<style scoped>\n",
       "    .dataframe tbody tr th:only-of-type {\n",
       "        vertical-align: middle;\n",
       "    }\n",
       "\n",
       "    .dataframe tbody tr th {\n",
       "        vertical-align: top;\n",
       "    }\n",
       "\n",
       "    .dataframe thead th {\n",
       "        text-align: right;\n",
       "    }\n",
       "</style>\n",
       "<table border=\"1\" class=\"dataframe\">\n",
       "  <thead>\n",
       "    <tr style=\"text-align: right;\">\n",
       "      <th></th>\n",
       "      <th>Id</th>\n",
       "      <th>Slug</th>\n",
       "      <th>Url</th>\n",
       "      <th>HasTravis</th>\n",
       "      <th>HasCircle</th>\n",
       "    </tr>\n",
       "  </thead>\n",
       "  <tbody>\n",
       "    <tr>\n",
       "      <th>0</th>\n",
       "      <td>3670016</td>\n",
       "      <td>seomoz/qless-py</td>\n",
       "      <td>https://api.github.com/repos/seomoz/qless-py</td>\n",
       "      <td>True</td>\n",
       "      <td>False</td>\n",
       "    </tr>\n",
       "    <tr>\n",
       "      <th>1</th>\n",
       "      <td>18814208</td>\n",
       "      <td>rdkit/conda-rdkit</td>\n",
       "      <td>https://api.github.com/repos/rdkit/conda-rdkit</td>\n",
       "      <td>False</td>\n",
       "      <td>False</td>\n",
       "    </tr>\n",
       "    <tr>\n",
       "      <th>2</th>\n",
       "      <td>37952512</td>\n",
       "      <td>NCAR/mizuRoute</td>\n",
       "      <td>https://api.github.com/repos/NCAR/mizuRoute</td>\n",
       "      <td>False</td>\n",
       "      <td>False</td>\n",
       "    </tr>\n",
       "    <tr>\n",
       "      <th>3</th>\n",
       "      <td>1319936</td>\n",
       "      <td>kazuho/picojson</td>\n",
       "      <td>https://api.github.com/repos/kazuho/picojson</td>\n",
       "      <td>True</td>\n",
       "      <td>False</td>\n",
       "    </tr>\n",
       "    <tr>\n",
       "      <th>4</th>\n",
       "      <td>6761984</td>\n",
       "      <td>IATI/IATI-Schemas</td>\n",
       "      <td>https://api.github.com/repos/IATI/IATI-Schemas</td>\n",
       "      <td>True</td>\n",
       "      <td>False</td>\n",
       "    </tr>\n",
       "  </tbody>\n",
       "</table>\n",
       "</div>"
      ],
      "text/plain": [
       "         Id               Slug  \\\n",
       "0   3670016    seomoz/qless-py   \n",
       "1  18814208  rdkit/conda-rdkit   \n",
       "2  37952512     NCAR/mizuRoute   \n",
       "3   1319936    kazuho/picojson   \n",
       "4   6761984  IATI/IATI-Schemas   \n",
       "\n",
       "                                              Url  HasTravis  HasCircle  \n",
       "0    https://api.github.com/repos/seomoz/qless-py       True      False  \n",
       "1  https://api.github.com/repos/rdkit/conda-rdkit      False      False  \n",
       "2     https://api.github.com/repos/NCAR/mizuRoute      False      False  \n",
       "3    https://api.github.com/repos/kazuho/picojson       True      False  \n",
       "4  https://api.github.com/repos/IATI/IATI-Schemas       True      False  "
      ]
     },
     "execution_count": 26,
     "metadata": {},
     "output_type": "execute_result"
    }
   ],
   "source": [
    "ci_projects = pd.read_csv(\"longer2y_and_more24pr_withci.csv\")\n",
    "\n",
    "ci_projects.head()"
   ]
  },
  {
   "cell_type": "code",
   "execution_count": 27,
   "metadata": {},
   "outputs": [],
   "source": [
    "all_proj = len(ci_projects)\n",
    "no_ci = len(ci_projects.loc[(ci_projects[\"HasTravis\"] == False) & (ci_projects[\"HasCircle\"] == False)])\n",
    "one_ci = len(ci_projects.loc[(ci_projects[\"HasTravis\"] == True) | (ci_projects[\"HasCircle\"] == True)])\n",
    "both_ci = len(ci_projects.loc[(ci_projects[\"HasTravis\"] == True) & (ci_projects[\"HasCircle\"] == True)])"
   ]
  },
  {
   "cell_type": "code",
   "execution_count": 28,
   "metadata": {},
   "outputs": [
    {
     "name": "stdout",
     "output_type": "stream",
     "text": [
      "Out of 89481 projects, 40651 have no CI, 48830 have at least one CI, and 856 both use Travis and Circle\n"
     ]
    }
   ],
   "source": [
    "print(\"Out of {} projects, {} have no CI, {} have at least one CI, and {} both use Travis and Circle\".format(all_proj, no_ci, one_ci, both_ci))"
   ]
  },
  {
   "cell_type": "code",
   "execution_count": 29,
   "metadata": {},
   "outputs": [],
   "source": [
    "travis_proj = len(ci_projects.loc[(ci_projects[\"HasTravis\"] == True)])\n",
    "circle_proj = len(ci_projects.loc[(ci_projects[\"HasCircle\"] == True)])"
   ]
  },
  {
   "cell_type": "code",
   "execution_count": 30,
   "metadata": {},
   "outputs": [
    {
     "name": "stdout",
     "output_type": "stream",
     "text": [
      "Out of 48830 projects that use CI, 45881 use Travis and 3805 use Circle\n"
     ]
    }
   ],
   "source": [
    "print(\"Out of {} projects that use CI, {} use Travis and {} use Circle\".format(one_ci, travis_proj, circle_proj))"
   ]
  },
  {
   "cell_type": "code",
   "execution_count": 40,
   "metadata": {},
   "outputs": [
    {
     "data": {
      "text/html": [
       "<div>\n",
       "<style scoped>\n",
       "    .dataframe tbody tr th:only-of-type {\n",
       "        vertical-align: middle;\n",
       "    }\n",
       "\n",
       "    .dataframe tbody tr th {\n",
       "        vertical-align: top;\n",
       "    }\n",
       "\n",
       "    .dataframe thead th {\n",
       "        text-align: right;\n",
       "    }\n",
       "</style>\n",
       "<table border=\"1\" class=\"dataframe\">\n",
       "  <thead>\n",
       "    <tr style=\"text-align: right;\">\n",
       "      <th></th>\n",
       "      <th>Id</th>\n",
       "      <th>Slug</th>\n",
       "      <th>Url</th>\n",
       "      <th>HasTravis</th>\n",
       "      <th>HasCircle</th>\n",
       "      <th>NumPrs</th>\n",
       "      <th>NumComments</th>\n",
       "    </tr>\n",
       "  </thead>\n",
       "  <tbody>\n",
       "    <tr>\n",
       "      <th>0</th>\n",
       "      <td>3670016</td>\n",
       "      <td>seomoz/qless-py</td>\n",
       "      <td>https://api.github.com/repos/seomoz/qless-py</td>\n",
       "      <td>True</td>\n",
       "      <td>False</td>\n",
       "      <td>35.0</td>\n",
       "      <td>59.0</td>\n",
       "    </tr>\n",
       "    <tr>\n",
       "      <th>1</th>\n",
       "      <td>18814208</td>\n",
       "      <td>rdkit/conda-rdkit</td>\n",
       "      <td>https://api.github.com/repos/rdkit/conda-rdkit</td>\n",
       "      <td>False</td>\n",
       "      <td>False</td>\n",
       "      <td>0.0</td>\n",
       "      <td>0.0</td>\n",
       "    </tr>\n",
       "    <tr>\n",
       "      <th>2</th>\n",
       "      <td>37952512</td>\n",
       "      <td>NCAR/mizuRoute</td>\n",
       "      <td>https://api.github.com/repos/NCAR/mizuRoute</td>\n",
       "      <td>False</td>\n",
       "      <td>False</td>\n",
       "      <td>0.0</td>\n",
       "      <td>0.0</td>\n",
       "    </tr>\n",
       "    <tr>\n",
       "      <th>3</th>\n",
       "      <td>1319936</td>\n",
       "      <td>kazuho/picojson</td>\n",
       "      <td>https://api.github.com/repos/kazuho/picojson</td>\n",
       "      <td>True</td>\n",
       "      <td>False</td>\n",
       "      <td>67.0</td>\n",
       "      <td>107.0</td>\n",
       "    </tr>\n",
       "    <tr>\n",
       "      <th>4</th>\n",
       "      <td>6761984</td>\n",
       "      <td>IATI/IATI-Schemas</td>\n",
       "      <td>https://api.github.com/repos/IATI/IATI-Schemas</td>\n",
       "      <td>True</td>\n",
       "      <td>False</td>\n",
       "      <td>109.0</td>\n",
       "      <td>79.0</td>\n",
       "    </tr>\n",
       "  </tbody>\n",
       "</table>\n",
       "</div>"
      ],
      "text/plain": [
       "         Id               Slug  \\\n",
       "0   3670016    seomoz/qless-py   \n",
       "1  18814208  rdkit/conda-rdkit   \n",
       "2  37952512     NCAR/mizuRoute   \n",
       "3   1319936    kazuho/picojson   \n",
       "4   6761984  IATI/IATI-Schemas   \n",
       "\n",
       "                                              Url  HasTravis  HasCircle  \\\n",
       "0    https://api.github.com/repos/seomoz/qless-py       True      False   \n",
       "1  https://api.github.com/repos/rdkit/conda-rdkit      False      False   \n",
       "2     https://api.github.com/repos/NCAR/mizuRoute      False      False   \n",
       "3    https://api.github.com/repos/kazuho/picojson       True      False   \n",
       "4  https://api.github.com/repos/IATI/IATI-Schemas       True      False   \n",
       "\n",
       "   NumPrs  NumComments  \n",
       "0    35.0         59.0  \n",
       "1     0.0          0.0  \n",
       "2     0.0          0.0  \n",
       "3    67.0        107.0  \n",
       "4   109.0         79.0  "
      ]
     },
     "execution_count": 40,
     "metadata": {},
     "output_type": "execute_result"
    }
   ],
   "source": [
    "db = MySQLdb.connect(passwd=\"ghtorrent_restore\",db=\"ghtorrent_06_19\",user=\"ghtorrent\")\n",
    "\n",
    "c = db.cursor()\n",
    "\n",
    "ci_projects[\"NumComments\"] = 0\n",
    "\n",
    "base_query = \"\"\"select total_number_pr_comments, total_number_prs \n",
    "        from projects pr, users us \n",
    "        where pr.owner_id = us.id and pr.name = '{}' and us.login= '{}'\n",
    "        \"\"\"\n",
    "\n",
    "def update_num_prs(row):\n",
    "    if row.HasTravis or row.HasCircle:\n",
    "        query = base_query.format(row.Slug.split(\"/\")[1], row.Slug.split(\"/\")[0])\n",
    "        \n",
    "        c.execute(query)\n",
    "        \n",
    "        res = c.fetchone()\n",
    "        \n",
    "        if res is None:\n",
    "            return None\n",
    "        \n",
    "        return res[1]\n",
    "    return 0\n",
    "    \n",
    "    \n",
    "def update_num_prs_comments(row):\n",
    "    if row.HasTravis or row.HasCircle:\n",
    "        query = base_query.format(row.Slug.split(\"/\")[1], row.Slug.split(\"/\")[0])\n",
    "        \n",
    "        c.execute(query)\n",
    "        \n",
    "        res = c.fetchone()\n",
    "        \n",
    "        if res is None:\n",
    "            return None\n",
    "        \n",
    "        return res[0]\n",
    "    return 0\n",
    "\n",
    "#ci_projects[\"NumPrs\"] = ci_projects.apply(update_num_prs, axis = 1)\n",
    "ci_projects[\"NumComments\"] = ci_projects.apply(update_num_prs_comments, axis = 1)\n",
    "\n",
    "ci_projects.head()"
   ]
  },
  {
   "cell_type": "code",
   "execution_count": 60,
   "metadata": {},
   "outputs": [
    {
     "name": "stdout",
     "output_type": "stream",
     "text": [
      "There are 48800 projects with ci and with at least 25 PRs\n"
     ]
    },
    {
     "data": {
      "image/png": "[encoded data removed]",
      "text/plain": [
       "<Figure size 720x288 with 1 Axes>"
      ]
     },
     "metadata": {},
     "output_type": "display_data"
    }
   ],
   "source": [
    "has_ci_projects = ci_projects.loc[((ci_projects[\"HasTravis\"]) | (ci_projects[\"HasCircle\"])) & (ci_projects[\"NumPrs\"] > -1)]\n",
    "\n",
    "print(\"There are {} projects with ci and with at least 25 PRs\".format(len(has_ci_projects)))\n",
    "\n",
    "plt.figure(figsize=(10, 4))\n",
    "\n",
    "plt.hist(has_ci_projects[\"NumPrs\"], bins = 50, color='#5177f5', alpha=0.5, range=(0,1000), ls='dashed', edgecolor='black')\n",
    "#plt.legend(loc='upper right')\n",
    "\n",
    "plt.xlim(0, 1000)\n",
    "\n",
    "plt.title(\"Distribution of number of pull-requests per project which uses CI\")\n",
    "\n",
    "plt.xlabel(\"Pull-requests\")\n",
    "plt.ylabel(\"Projects\")\n",
    "\n",
    "plt.show()"
   ]
  },
  {
   "cell_type": "code",
   "execution_count": 65,
   "metadata": {},
   "outputs": [],
   "source": [
    "has_circle_and_comments = has_ci_projects.loc[(has_ci_projects[\"HasTravis\"] == False) & (has_ci_projects[\"HasCircle\"] == True)]\n",
    "\n",
    "has_circle_and_comments.to_csv(\"circle_projects_to_scrape.csv\")"
   ]
  },
  {
   "cell_type": "code",
   "execution_count": null,
   "metadata": {},
   "outputs": [],
   "source": []
  }
 ],
 "metadata": {
  "kernelspec": {
   "display_name": "Python 3",
   "language": "python",
   "name": "python3"
  },
  "language_info": {
   "codemirror_mode": {
    "name": "ipython",
    "version": 3
   },
   "file_extension": ".py",
   "mimetype": "text/x-python",
   "name": "python",
   "nbconvert_exporter": "python",
   "pygments_lexer": "ipython3",
   "version": "3.6.5"
  }
 },
 "nbformat": 4,
 "nbformat_minor": 2
}
