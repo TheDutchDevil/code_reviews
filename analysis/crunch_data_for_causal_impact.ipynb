{
 "cells": [
  {
   "cell_type": "code",
   "execution_count": 71,
   "metadata": {},
   "outputs": [
    {
     "name": "stdout",
     "output_type": "stream",
     "text": [
      "The autoreload extension is already loaded. To reload it, use:\n",
      "  %reload_ext autoreload\n"
     ]
    }
   ],
   "source": [
    "%load_ext autoreload\n",
    "%autoreload 2\n",
    "\n",
    "from pymongo import MongoClient\n",
    "\n",
    "mongo_client = MongoClient()\n",
    "\n",
    "database = mongo_client[\"graduation\"]\n",
    "\n",
    "pull_requests_collection = database[\"pull_requests\"]\n",
    "\n",
    "projects_collection = database[\"projects\"]\n",
    "\n",
    "commits_collection = database[\"commits\"]"
   ]
  },
  {
   "cell_type": "code",
   "execution_count": 72,
   "metadata": {},
   "outputs": [
    {
     "name": "stdout",
     "output_type": "stream",
     "text": [
      "Found 202 projects with a travis build status date\n"
     ]
    }
   ],
   "source": [
    "import analysis_utilities\n",
    "\n",
    "projects = list(projects_collection.find({'succeeded' : True, 'travis_is_oldest_ci' : True}))\n",
    "\n",
    "print(\"Found {} projects with a travis build status date\".format(len(projects)))"
   ]
  },
  {
   "cell_type": "code",
   "execution_count": 73,
   "metadata": {},
   "outputs": [],
   "source": [
    "control_sizes_pl = []\n",
    "control_sizes = []\n",
    "\n",
    "for project in projects:\n",
    "    valid_control_set_pl = list(projects_collection.find({'status_travis_date' : {'$gt' : project[\"status_travis_date\"]},\n",
    "                                                        'language' : project[\"language\"]}))\n",
    "    \n",
    "    valid_control_set = list(projects_collection.find({'status_travis_date' : {'$gt' : project[\"status_travis_date\"]}}))\n",
    "    \n",
    "    control_sizes.append(len(valid_control_set))\n",
    "    control_sizes_pl.append(len(valid_control_set_pl))\n",
    "    \n",
    "    project[\"control\"] = valid_control_set"
   ]
  },
  {
   "cell_type": "code",
   "execution_count": 74,
   "metadata": {},
   "outputs": [
    {
     "data": {
      "image/png": "[encoded data removed]",
      "text/plain": [
       "<Figure size 432x360 with 1 Axes>"
      ]
     },
     "metadata": {},
     "output_type": "display_data"
    }
   ],
   "source": [
    "import matplotlib.pyplot as plt\n",
    "import seaborn as sn\n",
    "import numpy as np\n",
    "\n",
    "\n",
    "plt.figure(figsize=(6,5))\n",
    "\n",
    "plt.ylabel('# Projects')\n",
    "plt.title('Boxplot indicating the impact of selecting the control set\\n based on programming language')\n",
    "\n",
    "plt.boxplot([control_sizes_pl, control_sizes])\n",
    "plt.xticks(np.arange(2) + 1, ['Control set size for language grouping', 'Control set size \\nno lang. constraint'])\n",
    "\n",
    "plt.show()"
   ]
  },
  {
   "cell_type": "code",
   "execution_count": 76,
   "metadata": {},
   "outputs": [],
   "source": [
    "def calculate_share_review_comments(prs, project):\n",
    "    total_review_comments = sum([len(pr[\"review_comments\"]) for pr in prs])\n",
    "    total_general_comments = sum([len(pr[\"raw_comments\"]) for pr in prs])\n",
    "\n",
    "    total = total_review_comments + total_general_comments   \n",
    "\n",
    "    if total == 0:\n",
    "        share_review_comments = 0\n",
    "    else: \n",
    "        share_review_comments = total_review_comments / total\n",
    "        \n",
    "    return share_review_comments\n",
    "\n",
    "def project_name(prs, project):\n",
    "    return project[\"full_name\"]\n",
    "\n",
    "def sum_field(fieldname, is_list = False):\n",
    "    def sum_field_func(prs, project):\n",
    "        if is_list:\n",
    "            return sum([len(pr[fieldname]) for pr in prs])\n",
    "        else:\n",
    "            return sum([pr[fieldname] for pr in prs])\n",
    "        \n",
    "    return sum_field_func\n",
    "\n",
    "def total_prs(prs, project):\n",
    "    return len(prs)\n",
    "\n",
    "def project_language(prs, project):\n",
    "    return project[\"language\"]\n",
    "    \n",
    "metrics_to_calculate = [\n",
    "    {'Name': 'ProjectName', 'Func': project_name},\n",
    "    {'Name': 'Language', 'Func': project_language},\n",
    "    {'Name': 'ShareReviewComments', 'Func': calculate_share_review_comments},\n",
    "    {'Name': 'Additions', 'Func': sum_field(\"additions\")},\n",
    "    {'Name': 'Deletions', 'Func': sum_field(\"deletions\")},\n",
    "    {'Name': 'ChangedFiles', 'Func': sum_field(\"changed_files\")},\n",
    "    {'Name': 'Assignees', 'Func': sum_field(\"assignees\", True) },\n",
    "    {'Name': 'ReviewComments', 'Func': sum_field(\"review_comments\", True)},\n",
    "    {'Name': 'GeneralComments', 'Func': sum_field(\"raw_comments\", True)},\n",
    "    {'Name': 'TotalPrs', 'Func': total_prs},\n",
    "    {'Name': 'Commits', 'Func': sum_field(\"commits\", True)}\n",
    "]"
   ]
  },
  {
   "cell_type": "code",
   "execution_count": null,
   "metadata": {},
   "outputs": [],
   "source": [
    "from datetime import datetime, timedelta\n",
    "\n",
    "period_vals = [10,12,14,16,18,20,22,24,26,28,30]\n",
    "periods_vals = [10,15,20,25,30,35,40,45,50,55,60]\n",
    "   \n",
    "period = 15\n",
    "periods = 45\n",
    "\n",
    "out = [[0 for y in periods_vals] for x in period_vals]\n",
    "\n",
    "period_i = 0\n",
    "periods_i = 0\n",
    "\n",
    "for period in period_vals:\n",
    "    for periods in periods_vals:\n",
    "        post_intervention_periods = periods / 3\n",
    "        \n",
    "        for project in projects:\n",
    "            \n",
    "            project.pop(\"metrics\", None)\n",
    "\n",
    "            metric_collection = {}\n",
    "\n",
    "            for metric in metrics_to_calculate[:1]:\n",
    "                metric_collection[metric[\"Name\"]] = [0 for x in range(periods)]\n",
    "\n",
    "            not_enough_data = False\n",
    "\n",
    "            prs = list(pull_requests_collection.find({'project_name': project[\"full_name\"].split(\"/\")[1],'project_owner': project[\"full_name\"].split(\"/\")[0]}))\n",
    "\n",
    "            #prs_before, prs_after = analysis_utilities.split_prs_on_build_date(project, prs, True)\n",
    "\n",
    "            travis_date = project[\"status_travis_date\"]\n",
    "\n",
    "            start_date = travis_date - timedelta(days=(periods - post_intervention_periods) * period)\n",
    "\n",
    "            empty_period = False\n",
    "\n",
    "            split_prs = []\n",
    "\n",
    "            for i in range(periods):\n",
    "                end_date = start_date + timedelta(days=period)\n",
    "\n",
    "                prs_in_period = []\n",
    "\n",
    "                for pr in prs:\n",
    "                    if pr[\"created_at\"] > start_date and pr[\"created_at\"] < end_date:\n",
    "                        prs_in_period.append(pr)\n",
    "\n",
    "                if len(prs_in_period) == 0:\n",
    "                    empty_period = True\n",
    "                    break\n",
    "\n",
    "                split_prs.append(prs_in_period)\n",
    "\n",
    "                start_date = end_date\n",
    "\n",
    "            if empty_period:\n",
    "                continue           \n",
    "\n",
    "\n",
    "            for i in range(len(split_prs)):\n",
    "                prs_in_period = split_prs[i]\n",
    "\n",
    "                for metric in metrics_to_calculate[:1]:\n",
    "                    metric_collection[metric[\"Name\"]][i] = (metric[\"Func\"](prs_in_period, project))\n",
    "\n",
    "\n",
    "\n",
    "            project[\"metrics\"] = metric_collection\n",
    "            \n",
    "        out[period_i][periods_i] =len([pr for pr in projects if \"metrics\" in pr])\n",
    "        \n",
    "        periods_i += 1\n",
    "    period_i += 1\n",
    "    periods_i = 0\n",
    "\n",
    "\n",
    "        "
   ]
  },
  {
   "cell_type": "code",
   "execution_count": 101,
   "metadata": {},
   "outputs": [
    {
     "data": {
      "image/png": "[encoded data removed]",
      "text/plain": [
       "<Figure size 720x576 with 2 Axes>"
      ]
     },
     "metadata": {},
     "output_type": "display_data"
    }
   ],
   "source": [
    "import numpy as np\n",
    "import seaborn as sns\n",
    "import matplotlib.pylab as plt\n",
    "\n",
    "plt.figure(figsize=(10,8))\n",
    "\n",
    "ax = sns.heatmap(out, linewidth=0.5, yticklabels = period_vals, xticklabels = periods_vals)\n",
    "\n",
    "ax.set_title(\"Impact of period length\\n and # of periods on the number of \\nprojects with enough data\")\n",
    "\n",
    "ax.set_ylabel(\"Period length in days\")\n",
    "\n",
    "ax.set_xlabel(\"Number of periods\")\n",
    "\n",
    "plt.show()"
   ]
  },
  {
   "cell_type": "code",
   "execution_count": 103,
   "metadata": {},
   "outputs": [
    {
     "data": {
      "text/plain": [
       "170"
      ]
     },
     "execution_count": 103,
     "metadata": {},
     "output_type": "execute_result"
    }
   ],
   "source": []
  },
  {
   "cell_type": "code",
   "execution_count": 61,
   "metadata": {},
   "outputs": [],
   "source": [
    "from datetime import datetime, timedelta\n",
    "import csv\n",
    "   \n",
    "period = 15\n",
    "periods = 45\n",
    "\n",
    "post_intervention_periods = 15\n",
    "\n",
    "for project_under_test in projects:\n",
    "\n",
    "    metric_collection = {}\n",
    "\n",
    "    filename = \"generated/causal/{}.csv\".format(project_under_test[\"full_name\"].replace(\"/\", \"_\"))\n",
    "\n",
    "    for metric in metrics_to_calculate:\n",
    "        metric_collection[metric[\"Name\"]] = [[] for x in range(periods)]\n",
    "        \n",
    "    not_enough_data = False\n",
    "\n",
    "\n",
    "\n",
    "    for project in [project_under_test] + project_under_test[\"control\"]:\n",
    "        prs = list(pull_requests_collection.find({'project_name': project[\"full_name\"].split(\"/\")[1],'project_owner': project[\"full_name\"].split(\"/\")[0]}))\n",
    "\n",
    "        #prs_before, prs_after = analysis_utilities.split_prs_on_build_date(project, prs, True)\n",
    "\n",
    "        travis_date = project[\"status_travis_date\"]\n",
    "\n",
    "        start_date = travis_date - timedelta(days=(periods - post_intervention_periods) * period)\n",
    "\n",
    "        empty_period = False\n",
    "\n",
    "        split_prs = []\n",
    "\n",
    "        for i in range(periods):\n",
    "            end_date = start_date + timedelta(days=period)\n",
    "\n",
    "            prs_in_period = []\n",
    "\n",
    "            for pr in prs:\n",
    "                if pr[\"created_at\"] > start_date and pr[\"created_at\"] < end_date:\n",
    "                    prs_in_period.append(pr)\n",
    "\n",
    "            if len(prs_in_period) == 0:\n",
    "                empty_period = True\n",
    "                break\n",
    "\n",
    "            split_prs.append(prs_in_period)\n",
    "\n",
    "            start_date = end_date\n",
    "\n",
    "        if empty_period:\n",
    "            if project[\"full_name\"] == project_under_test[\"full_name\"]:\n",
    "                not_enough_data = True\n",
    "            continue           \n",
    "        \n",
    "\n",
    "        for i in range(len(split_prs)):\n",
    "            prs_in_period = split_prs[i]\n",
    "\n",
    "            for metric in metrics_to_calculate:\n",
    "                metric_collection[metric[\"Name\"]][i].append(metric[\"Func\"](prs_in_period, project))\n",
    "    \n",
    "    # Continue if the project under test does not have a regular \n",
    "    # enough amount of PRs to continue\n",
    "    if not_enough_data:\n",
    "        continue\n",
    "    \n",
    "                \n",
    "    with open(filename, mode='w') as time_series_file:\n",
    "        writer = csv.writer(time_series_file, delimiter=',', quotechar='\"', quoting=csv.QUOTE_MINIMAL)\n",
    "\n",
    "        writer.writerow([metric[\"Name\"] for metric in metrics_to_calculate] + [\"Period\"])\n",
    "\n",
    "        for j in range(len(metric_collection[metrics_to_calculate[0][\"Name\"]][0])):\n",
    "            for i in range(periods):\n",
    "                metric_names = [metric[\"Name\"] for metric in metrics_to_calculate]\n",
    "\n",
    "                line_to_write = [metric_collection[metric][i][j] for metric in metric_names] + [i + 1]\n",
    "\n",
    "                writer.writerow(line_to_write)\n",
    "\n",
    "\n",
    "        "
   ]
  },
  {
   "cell_type": "code",
   "execution_count": null,
   "metadata": {},
   "outputs": [],
   "source": []
  }
 ],
 "metadata": {
  "kernelspec": {
   "display_name": "Python 3",
   "language": "python",
   "name": "python3"
  },
  "language_info": {
   "codemirror_mode": {
    "name": "ipython",
    "version": 3
   },
   "file_extension": ".py",
   "mimetype": "text/x-python",
   "name": "python",
   "nbconvert_exporter": "python",
   "pygments_lexer": "ipython3",
   "version": "3.6.5"
  }
 },
 "nbformat": 4,
 "nbformat_minor": 2
}
