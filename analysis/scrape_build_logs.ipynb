{
 "cells": [
  {
   "cell_type": "markdown",
   "metadata": {},
   "source": [
    "# Introduction\n",
    "\n",
    "Notebook that for select projects in certain languages will try and scrape build logs to find whether certain tools are used in the build flow of the projects. "
   ]
  },
  {
   "cell_type": "code",
   "execution_count": 1,
   "metadata": {},
   "outputs": [],
   "source": [
    "# Imports\n",
    "%load_ext autoreload\n",
    "%autoreload 2\n",
    "\n",
    "from pymongo import MongoClient\n",
    "\n",
    "import travis.scrape_build_logs as build_scraper\n",
    "\n",
    "import analysis_utilities\n",
    "import random\n",
    "import re\n"
   ]
  },
  {
   "cell_type": "code",
   "execution_count": 2,
   "metadata": {},
   "outputs": [],
   "source": [
    "mongo_client = MongoClient()\n",
    "\n",
    "database = mongo_client[\"graduation\"]\n",
    "pull_requests_collection = database[\"pull_requests\"]\n",
    "projects_collection = database[\"projects\"]\n",
    "commits_collection = database[\"commits\"]"
   ]
  },
  {
   "cell_type": "markdown",
   "metadata": {},
   "source": [
    "## Project selection\n",
    "\n",
    "We only select certain projects, as tool names differ per language / environment. For now we focus on Python"
   ]
  },
  {
   "cell_type": "code",
   "execution_count": 14,
   "metadata": {},
   "outputs": [
    {
     "name": "stdout",
     "output_type": "stream",
     "text": [
      "571 known language projects\n"
     ]
    }
   ],
   "source": [
    "projects_list = list(projects_collection.find({'succeeded' : True, 'travis_is_oldest_ci': True, 'language': {'$in': [\"C++\", \"Java\", \"Objective-C\", \"C#\", \"C\", \"Python\", \"PHP\", \"JavaScript\", \"Ruby\"]}}))\n",
    "\n",
    "print(\"{} known language projects\".format(len(projects_list)))\n",
    "\n",
    "for project in projects_list:\n",
    "    split_slug = project[\"full_name\"].split(\"/\")\n",
    "    \n",
    "    prs = list(pull_requests_collection.find(\n",
    "                { \n",
    "                    'project_name' : split_slug[1],\n",
    "                    'project_owner': split_slug[0]\n",
    "                }\n",
    "            ))\n",
    "    \n",
    "    pr_before, pr_after = analysis_utilities.split_prs_on_build_date(project, prs, True, \"status_travis_date\")\n",
    "    \n",
    "    project[\"travis_prs\"] = pr_after"
   ]
  },
  {
   "cell_type": "code",
   "execution_count": 19,
   "metadata": {},
   "outputs": [],
   "source": [
    "def process_project(project):\n",
    "    \n",
    "    if len(project[\"travis_prs\"]) < 20:\n",
    "        return None\n",
    "    \n",
    "    print(project[\"full_name\"])\n",
    "\n",
    "    sample_prs = random.sample(project[\"travis_prs\"],  20)\n",
    "\n",
    "    sample_commits = [sha for commits in [pr[\"commits\"] for pr in sample_prs] for sha in commits]\n",
    "\n",
    "    sample_commits = random.sample(sample_commits, 15)\n",
    "    \n",
    "    target_urls = []\n",
    "    \n",
    "    for sha in sample_commits:\n",
    "        commit = commits_collection.find_one({'sha':sha, 'statuses' : {'$exists': True}})\n",
    "        if commit is None:\n",
    "            continue\n",
    "            \n",
    "        if \"statuses\" in commit:\n",
    "            for status in commit[\"statuses\"]:\n",
    "                if \"target_url\" in status and status[\"target_url\"] is not None:\n",
    "                    if \"builds\" in status[\"target_url\"] and \\\n",
    "                        \"travis-ci.org\" in status[\"target_url\"]:\n",
    "                        target_urls.append(status[\"target_url\"])\n",
    "    \n",
    "            \n",
    "    #target_urls = [status[\"target_url\"] for statuses in [commits_collection.find_one({'sha':sha, 'statuses' : {'$exists': True}})[\"statuses\"] for sha in sample_commits] for status in statuses if \"target_url\" in status and  \"builds\" in status[\"target_url\"] and \"travis-ci.org\" in status[\"target_url\"]]\n",
    "\n",
    "    build_ids = list(set([build_scraper.retrieve_build_identifier_from_travis_url(url) for url in target_urls]))\n",
    "    \n",
    "    if len(build_ids) > 7:\n",
    "        build_ids = random.sample(build_ids, 7)\n",
    "\n",
    "    logs = build_scraper.build_logs_for_identifiers(build_ids)\n",
    "    \n",
    "    return process_logs(logs)"
   ]
  },
  {
   "cell_type": "code",
   "execution_count": 20,
   "metadata": {},
   "outputs": [],
   "source": [
    "def process_logs(logs):\n",
    "    has_linter = False\n",
    "    has_coverage = False\n",
    "    \n",
    "    lint_lines = []\n",
    "    coverage_lines = []\n",
    "    \n",
    "    for log in logs:\n",
    "        lines = log.split(\"\\n\")\n",
    "        \n",
    "        for line in lines:\n",
    "            if \"lint\" in line:\n",
    "                has_linter = True\n",
    "                lint_lines.append(line)\n",
    "                \n",
    "            if \"codecov\" in line or \"coverage\" in line or \"Pytest-cov\" in line or \"coveralls\" in line:\n",
    "                has_coverage = True\n",
    "                coverage_lines.append(line)\n",
    "                \n",
    "    \n",
    "    return {'has_linter': has_linter, \n",
    "           'has_coverage': has_coverage}"
   ]
  },
  {
   "cell_type": "code",
   "execution_count": null,
   "metadata": {},
   "outputs": [
    {
     "name": "stdout",
     "output_type": "stream",
     "text": [
      "Leaflet/Leaflet\n",
      "MRtrix3/mrtrix3\n",
      "MarkUsProject/Markus\n",
      "NancyFx/Nancy\n",
      "OP2/PyOP2\n",
      "OPM/opm-core\n",
      "OPM/opm-parser\n",
      "RestKit/RestKit\n",
      "OSU-Net/cyder\n",
      "Smoothieware/Smoothieware\n",
      "AFNetworking/AFNetworking\n",
      "Theano/Theano\n",
      "TracksApp/tracks\n",
      "PCSX2/pcsx2\n",
      "PX4/Firmware\n",
      "ansible/ansible-modules-core\n",
      "ansible/ansible-modules-extras\n",
      "antlr/antlr4\n",
      "Pylons/pyramid\n",
      "GoldenCheetah/GoldenCheetah\n",
      "AnalyticalGraphicsInc/cesium\n",
      "Azure/azure-sdk-for-node\n",
      "IQSS/dataverse\n",
      "ImageEngine/cortex\n",
      "ReactiveX/RxJava\n",
      "TrinityCore/TrinityCore\n",
      "apache/storm\n",
      "appcelerator/alloy\n",
      "Azure/azure-xplat-cli\n",
      "Unidata/netcdf-c\n",
      "Unidata/thredds\n",
      "UniversalMediaServer/UniversalMediaServer\n",
      "Vauxoo/addons-vauxoo\n",
      "appcelerator/titanium_mobile\n",
      "appleseedhq/appleseed\n",
      "KSP-KOS/KOS\n",
      "aquynh/capstone\n",
      "MariaDB/server\n",
      "bokeh/bokeh\n",
      "boto/boto\n",
      "astropy/astropy\n",
      "Could not retrieve build log from Travis, status code is 404\n",
      "Could not retrieve build log from Travis, status code is 404\n",
      "Could not retrieve build log from Travis, status code is 404\n",
      "Could not retrieve build log from Travis, status code is 404\n",
      "Could not retrieve build log from Travis, status code is 404\n",
      "Could not retrieve build log from Travis, status code is 404\n",
      "Could not retrieve build log from Travis, status code is 404\n",
      "Could not retrieve build log from Travis, status code is 404\n",
      "Could not retrieve build log from Travis, status code is 404\n",
      "buildbot/buildbot\n"
     ]
    }
   ],
   "source": [
    "for project in projects_list:\n",
    "    res = process_project(project)\n",
    "    \n",
    "    project[\"ci_features\"] = res\n",
    "    \n",
    "    projects_collection.update_one({'full_name': project[\"full_name\"]}, {'$set': {'ci_features': res}})"
   ]
  },
  {
   "cell_type": "code",
   "execution_count": null,
   "metadata": {},
   "outputs": [],
   "source": []
  }
 ],
 "metadata": {
  "kernelspec": {
   "display_name": "Python 3",
   "language": "python",
   "name": "python3"
  },
  "language_info": {
   "codemirror_mode": {
    "name": "ipython",
    "version": 3
   },
   "file_extension": ".py",
   "mimetype": "text/x-python",
   "name": "python",
   "nbconvert_exporter": "python",
   "pygments_lexer": "ipython3",
   "version": "3.6.5"
  }
 },
 "nbformat": 4,
 "nbformat_minor": 2
}
