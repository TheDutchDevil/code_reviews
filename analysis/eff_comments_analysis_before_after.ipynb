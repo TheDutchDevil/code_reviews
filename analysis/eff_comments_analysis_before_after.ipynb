{
 "cells": [
  {
   "cell_type": "code",
   "execution_count": 5,
   "metadata": {},
   "outputs": [
    {
     "name": "stdout",
     "output_type": "stream",
     "text": [
      "The autoreload extension is already loaded. To reload it, use:\n",
      "  %reload_ext autoreload\n",
      "Found 685 projects with a travis build status date\n"
     ]
    }
   ],
   "source": [
    "%load_ext autoreload\n",
    "%autoreload 2\n",
    "\n",
    "from pymongo import MongoClient\n",
    "from bson.objectid import ObjectId\n",
    "\n",
    "mongo_client = MongoClient()\n",
    "\n",
    "database = mongo_client[\"graduation\"]\n",
    "\n",
    "pull_requests_collection = database[\"pull_requests\"]\n",
    "\n",
    "projects_collection = database[\"projects\"]\n",
    "\n",
    "commits_collection = database[\"commits\"]\n",
    "\n",
    "import analysis_utilities\n",
    "\n",
    "#'_id' : {'$lt' : ObjectId(\"5bca53e00000000000000000\")}\n",
    "\n",
    "projects = list(projects_collection.find({'succeeded' : True, 'travis_is_oldest_ci': True, 'scrape_type': {'$in': ['travis_1', 'random_1']}}))\n",
    "\n",
    "print(\"Found {} projects with a travis build status date\".format(len(projects)))"
   ]
  },
  {
   "cell_type": "code",
   "execution_count": 12,
   "metadata": {},
   "outputs": [
    {
     "name": "stdout",
     "output_type": "stream",
     "text": [
      "Did 100 projects\n",
      "Did 200 projects\n",
      "Did 300 projects\n",
      "Did 400 projects\n",
      "Did 500 projects\n",
      "Did 600 projects\n",
      "Found 0 projects with enough prs\n"
     ]
    }
   ],
   "source": [
    "enough_prs = 0\n",
    "did = 0\n",
    "\n",
    "prs_before_eff = []\n",
    "prs_after_eff = []\n",
    "\n",
    "for project in projects:\n",
    "        prs = list(pull_requests_collection.find({'project_name': project[\"full_name\"].split(\"/\")[1],'project_owner': project[\"full_name\"].split(\"/\")[0]},\n",
    "                                                {'created_at': 1, 'review_comments': 1}))\n",
    "\n",
    "        prs_before, prs_after = analysis_utilities.split_prs_on_build_date(project, prs, True, \"status_travis_date\")\n",
    "       \n",
    "        prs_before_eff.extend([pr for pr in prs_before if any([comment for comment in pr['review_comments'] if \"is_effective\" in comment and comment[\"is_effective\"]])])\n",
    "        prs_after_eff.extend([pr for pr in prs_after if any([comment for comment in pr['review_comments'] if \"is_effective\" in comment and comment[\"is_effective\"]])])\n",
    "        \n",
    "            \n",
    "        did += 1\n",
    "        \n",
    "        if did % 100 == 0:\n",
    "            print(\"Did {} projects\".format(did))\n",
    "            \n",
    "print(\"Found {} projects with enough prs\".format(enough_prs))"
   ]
  },
  {
   "cell_type": "code",
   "execution_count": 24,
   "metadata": {},
   "outputs": [
    {
     "name": "stdout",
     "output_type": "stream",
     "text": [
      "There are 46065 eff comments before and 57030 eff comments after\n",
      "--------------- before\n",
      "https://api.github.com/repos/doctrine/doctrine2/pulls/comments/359260\n",
      "https://api.github.com/repos/MarkUsProject/Markus/pulls/comments/13546877\n",
      "https://api.github.com/repos/yast/yast-network/pulls/comments/18271677\n",
      "https://api.github.com/repos/elastic/logstash/pulls/comments/161666\n",
      "https://api.github.com/repos/caskdata/cdap/pulls/comments/40270786\n",
      "https://api.github.com/repos/symfony-cmf/symfony-cmf-docs/pulls/comments/6668032\n",
      "https://api.github.com/repos/Smoothieware/Smoothieware/pulls/comments/18431695\n",
      "https://api.github.com/repos/mopidy/mopidy/pulls/comments/75616\n",
      "https://api.github.com/repos/ipa320/cob_robots/pulls/comments/6910649\n",
      "https://api.github.com/repos/cfpb/cfgov-refresh/pulls/comments/18413987\n",
      "https://api.github.com/repos/AnalyticalGraphicsInc/cesium/pulls/comments/3625055\n",
      "https://api.github.com/repos/openemr/openemr/pulls/comments/72394684\n",
      "https://api.github.com/repos/adobe/brackets/pulls/comments/2118485\n",
      "https://api.github.com/repos/buildbot/buildbot/pulls/comments/4084251\n",
      "https://api.github.com/repos/allegro/ralph/pulls/comments/2292300\n",
      "https://api.github.com/repos/OTRS/otrs/pulls/comments/10378080\n",
      "https://api.github.com/repos/joomla/joomla-cms/pulls/comments/1388445\n",
      "https://api.github.com/repos/cakephp/docs/pulls/comments/571252\n",
      "https://api.github.com/repos/allegro/ralph/pulls/comments/2840161\n",
      "https://api.github.com/repos/appcelerator/titanium_mobile/pulls/comments/559526\n",
      "https://api.github.com/repos/scikit-learn/scikit-learn/pulls/comments/150964\n",
      "https://api.github.com/repos/cakephp/docs/pulls/comments/39236634\n",
      "https://api.github.com/repos/wymeditor/wymeditor/pulls/comments/4992237\n",
      "https://api.github.com/repos/puppetlabs/puppet/pulls/comments/1502477\n",
      "https://api.github.com/repos/adobe/brackets/pulls/comments/1367725\n",
      "https://api.github.com/repos/mne-tools/mne-python/pulls/comments/1835797\n",
      "https://api.github.com/repos/Seldaek/monolog/pulls/comments/714296\n",
      "https://api.github.com/repos/apache/storm/pulls/comments/14439538\n",
      "https://api.github.com/repos/appcelerator/titanium_mobile/pulls/comments/5960968\n",
      "https://api.github.com/repos/DynamoDS/Dynamo/pulls/comments/15039455\n",
      "--------------- after\n",
      "https://api.github.com/repos/kangax/compat-table/pulls/comments/75489153\n",
      "https://api.github.com/repos/DarkstarProject/darkstar/pulls/comments/212003823\n",
      "https://api.github.com/repos/livecode/livecode/pulls/comments/117907568\n",
      "https://api.github.com/repos/Respect/Validation/pulls/comments/42310669\n",
      "https://api.github.com/repos/Freeseer/freeseer/pulls/comments/10492516\n",
      "https://api.github.com/repos/AnalyticalGraphicsInc/cesium/pulls/comments/5700327\n",
      "https://api.github.com/repos/DynamoDS/Dynamo/pulls/comments/37239945\n",
      "https://api.github.com/repos/OPM/opm-parser/pulls/comments/57491024\n",
      "https://api.github.com/repos/ipython/ipython/pulls/comments/20611477\n",
      "https://api.github.com/repos/scikit-learn/scikit-learn/pulls/comments/153084131\n",
      "https://api.github.com/repos/MarkUsProject/Markus/pulls/comments/57591154\n",
      "https://api.github.com/repos/rg3/youtube-dl/pulls/comments/150024780\n",
      "https://api.github.com/repos/jquery/jquery-ui/pulls/comments/38970583\n",
      "https://api.github.com/repos/scikit-image/scikit-image/pulls/comments/21066129\n",
      "https://api.github.com/repos/ezsystems/ezpublish-kernel/pulls/comments/120822983\n",
      "https://api.github.com/repos/jquery/jquery-ui/pulls/comments/33872913\n",
      "https://api.github.com/repos/citation-style-language/styles/pulls/comments/38467815\n",
      "https://api.github.com/repos/MarkUsProject/Markus/pulls/comments/21057350\n",
      "https://api.github.com/repos/hyperspy/hyperspy/pulls/comments/35810485\n",
      "https://api.github.com/repos/MarkUsProject/Markus/pulls/comments/49936870\n",
      "https://api.github.com/repos/cocos2d/cocos2d-x/pulls/comments/8555158\n",
      "https://api.github.com/repos/xapian/xapian/pulls/comments/131519191\n",
      "https://api.github.com/repos/caskdata/cdap/pulls/comments/134626642\n",
      "https://api.github.com/repos/forcedotcom/SalesforceMobileSDK-iOS/pulls/comments/64495049\n",
      "https://api.github.com/repos/scalaz/scalaz/pulls/comments/19181313\n",
      "https://api.github.com/repos/phpbb/phpbb/pulls/comments/4715614\n",
      "https://api.github.com/repos/scummvm/scummvm/pulls/comments/81479390\n",
      "https://api.github.com/repos/openframeworks/openFrameworks/pulls/comments/50370340\n",
      "https://api.github.com/repos/cakephp/docs/pulls/comments/103926044\n",
      "https://api.github.com/repos/angular/angular.js/pulls/comments/12812747\n"
     ]
    }
   ],
   "source": [
    "effective_comments_before = [comment for pr in prs_before_eff for comment in pr[\"review_comments\"] if \"is_effective\" in comment and comment[\"is_effective\"]]\n",
    "effective_comments_after = [comment for pr in prs_after_eff for comment in pr[\"review_comments\"] if \"is_effective\" in comment and comment[\"is_effective\"]]\n",
    "\n",
    "print(\"There are {} eff comments before and {} eff comments after\".format(len(effective_comments_before), len(effective_comments_after)))\n",
    "\n",
    "import random\n",
    "\n",
    "random.seed(210)\n",
    "\n",
    "sample_size = 30\n",
    "\n",
    "print(\"--------------- before\")\n",
    "for comment in random.sample(effective_comments_before, sample_size):\n",
    "    print(comment[\"url\"])\n",
    "    \n",
    "    \n",
    "print(\"--------------- after\")\n",
    "for comment in random.sample(effective_comments_after, sample_size):\n",
    "    print(comment[\"url\"])"
   ]
  },
  {
   "cell_type": "code",
   "execution_count": null,
   "metadata": {},
   "outputs": [],
   "source": []
  }
 ],
 "metadata": {
  "kernelspec": {
   "display_name": "Python 3",
   "language": "python",
   "name": "python3"
  },
  "language_info": {
   "codemirror_mode": {
    "name": "ipython",
    "version": 3
   },
   "file_extension": ".py",
   "mimetype": "text/x-python",
   "name": "python",
   "nbconvert_exporter": "python",
   "pygments_lexer": "ipython3",
   "version": "3.6.5"
  }
 },
 "nbformat": 4,
 "nbformat_minor": 2
}
